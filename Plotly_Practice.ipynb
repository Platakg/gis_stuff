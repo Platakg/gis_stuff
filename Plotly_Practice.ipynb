{
 "cells": [
  {
   "cell_type": "markdown",
   "id": "57d3e2ae",
   "metadata": {},
   "source": [
    "## Mapping with Plotly \n",
    "References:\n",
    "https://plotly.com/python/mapbox-layers/ <br>\n",
    "https://www.kaggle.com/ujwalkandi/unesco-world-heritage-sites?select=whc-sites-2019.csv"
   ]
  },
  {
   "cell_type": "code",
   "execution_count": 34,
   "id": "13b34db1",
   "metadata": {},
   "outputs": [],
   "source": [
    "import pandas as pd\n",
    "import plotly.express as px\n",
    "import textwrap"
   ]
  },
  {
   "cell_type": "code",
   "execution_count": 2,
   "id": "bb19e6ae",
   "metadata": {},
   "outputs": [
    {
     "name": "stdout",
     "output_type": "stream",
     "text": [
      "<class 'pandas.core.frame.DataFrame'>\n",
      "RangeIndex: 1121 entries, 0 to 1120\n",
      "Data columns (total 22 columns):\n",
      " #   Column                Non-Null Count  Dtype  \n",
      "---  ------                --------------  -----  \n",
      " 0   category              1121 non-null   object \n",
      " 1   states_name_en        1121 non-null   object \n",
      " 2   region_en             1121 non-null   object \n",
      " 3   unique_number         1121 non-null   int64  \n",
      " 4   id_no                 1121 non-null   int64  \n",
      " 5   rev_bis               267 non-null    object \n",
      " 6   name_en               1121 non-null   object \n",
      " 7   short_description_en  1121 non-null   object \n",
      " 8   justification_en      334 non-null    object \n",
      " 9   date_inscribed        1121 non-null   int64  \n",
      " 10  secondary_dates       87 non-null     object \n",
      " 11  danger                1121 non-null   int64  \n",
      " 12  date_end              39 non-null     float64\n",
      " 13  danger_list           88 non-null     object \n",
      " 14  longitude             1121 non-null   float64\n",
      " 15  latitude              1121 non-null   float64\n",
      " 16  area_hectares         1101 non-null   float64\n",
      " 17  criteria_txt          1121 non-null   object \n",
      " 18  category_short        1121 non-null   object \n",
      " 19  iso_code              1120 non-null   object \n",
      " 20  udnp_code             1120 non-null   object \n",
      " 21  transboundary         1121 non-null   int64  \n",
      "dtypes: float64(4), int64(5), object(13)\n",
      "memory usage: 192.8+ KB\n",
      "None\n"
     ]
    },
    {
     "data": {
      "text/html": [
       "<div>\n",
       "<style scoped>\n",
       "    .dataframe tbody tr th:only-of-type {\n",
       "        vertical-align: middle;\n",
       "    }\n",
       "\n",
       "    .dataframe tbody tr th {\n",
       "        vertical-align: top;\n",
       "    }\n",
       "\n",
       "    .dataframe thead th {\n",
       "        text-align: right;\n",
       "    }\n",
       "</style>\n",
       "<table border=\"1\" class=\"dataframe\">\n",
       "  <thead>\n",
       "    <tr style=\"text-align: right;\">\n",
       "      <th></th>\n",
       "      <th>category</th>\n",
       "      <th>states_name_en</th>\n",
       "      <th>region_en</th>\n",
       "      <th>unique_number</th>\n",
       "      <th>id_no</th>\n",
       "      <th>rev_bis</th>\n",
       "      <th>name_en</th>\n",
       "      <th>short_description_en</th>\n",
       "      <th>justification_en</th>\n",
       "      <th>date_inscribed</th>\n",
       "      <th>...</th>\n",
       "      <th>date_end</th>\n",
       "      <th>danger_list</th>\n",
       "      <th>longitude</th>\n",
       "      <th>latitude</th>\n",
       "      <th>area_hectares</th>\n",
       "      <th>criteria_txt</th>\n",
       "      <th>category_short</th>\n",
       "      <th>iso_code</th>\n",
       "      <th>udnp_code</th>\n",
       "      <th>transboundary</th>\n",
       "    </tr>\n",
       "  </thead>\n",
       "  <tbody>\n",
       "    <tr>\n",
       "      <th>0</th>\n",
       "      <td>Cultural</td>\n",
       "      <td>Afghanistan</td>\n",
       "      <td>Asia and the Pacific</td>\n",
       "      <td>230</td>\n",
       "      <td>208</td>\n",
       "      <td>Rev</td>\n",
       "      <td>Cultural Landscape and Archaeological Remains ...</td>\n",
       "      <td>The cultural landscape and archaeological rem...</td>\n",
       "      <td>&lt;em&gt;Criterion (i):&lt;/em&gt; The Buddha statues an...</td>\n",
       "      <td>2003</td>\n",
       "      <td>...</td>\n",
       "      <td>NaN</td>\n",
       "      <td>Y 2003</td>\n",
       "      <td>67.825250</td>\n",
       "      <td>34.846940</td>\n",
       "      <td>158.9265</td>\n",
       "      <td>(i)(ii)(iii)(iv)(vi)</td>\n",
       "      <td>C</td>\n",
       "      <td>af</td>\n",
       "      <td>afg</td>\n",
       "      <td>0</td>\n",
       "    </tr>\n",
       "    <tr>\n",
       "      <th>1</th>\n",
       "      <td>Cultural</td>\n",
       "      <td>Afghanistan</td>\n",
       "      <td>Asia and the Pacific</td>\n",
       "      <td>234</td>\n",
       "      <td>211</td>\n",
       "      <td>Rev</td>\n",
       "      <td>Minaret and Archaeological Remains of Jam</td>\n",
       "      <td>The 65m-tall Minaret of Jam is a graceful, so...</td>\n",
       "      <td>&lt;em&gt;Criterion (ii):&lt;/em&gt; The innovative archi...</td>\n",
       "      <td>2002</td>\n",
       "      <td>...</td>\n",
       "      <td>NaN</td>\n",
       "      <td>Y 2002</td>\n",
       "      <td>64.515889</td>\n",
       "      <td>34.396417</td>\n",
       "      <td>70.0000</td>\n",
       "      <td>(ii)(iii)(iv)</td>\n",
       "      <td>C</td>\n",
       "      <td>af</td>\n",
       "      <td>afg</td>\n",
       "      <td>0</td>\n",
       "    </tr>\n",
       "    <tr>\n",
       "      <th>2</th>\n",
       "      <td>Cultural</td>\n",
       "      <td>Albania</td>\n",
       "      <td>Europe and North America</td>\n",
       "      <td>1590</td>\n",
       "      <td>569</td>\n",
       "      <td>Bis</td>\n",
       "      <td>Historic Centres of Berat and Gjirokastra</td>\n",
       "      <td>Berat and Gjirokastra are inscribed as rare e...</td>\n",
       "      <td>NaN</td>\n",
       "      <td>2005</td>\n",
       "      <td>...</td>\n",
       "      <td>NaN</td>\n",
       "      <td>NaN</td>\n",
       "      <td>20.133333</td>\n",
       "      <td>40.069444</td>\n",
       "      <td>58.9000</td>\n",
       "      <td>(iii)(iv)</td>\n",
       "      <td>C</td>\n",
       "      <td>al</td>\n",
       "      <td>alb</td>\n",
       "      <td>0</td>\n",
       "    </tr>\n",
       "    <tr>\n",
       "      <th>3</th>\n",
       "      <td>Cultural</td>\n",
       "      <td>Albania</td>\n",
       "      <td>Europe and North America</td>\n",
       "      <td>1563</td>\n",
       "      <td>570</td>\n",
       "      <td>ter</td>\n",
       "      <td>Butrint</td>\n",
       "      <td>Inhabited since prehistoric times, Butrint ha...</td>\n",
       "      <td>NaN</td>\n",
       "      <td>1992</td>\n",
       "      <td>...</td>\n",
       "      <td>2005.0</td>\n",
       "      <td>P 1997-2005</td>\n",
       "      <td>20.026111</td>\n",
       "      <td>39.751111</td>\n",
       "      <td>NaN</td>\n",
       "      <td>(iii)</td>\n",
       "      <td>C</td>\n",
       "      <td>al</td>\n",
       "      <td>alb</td>\n",
       "      <td>0</td>\n",
       "    </tr>\n",
       "    <tr>\n",
       "      <th>4</th>\n",
       "      <td>Cultural</td>\n",
       "      <td>Algeria</td>\n",
       "      <td>Arab States</td>\n",
       "      <td>111</td>\n",
       "      <td>102</td>\n",
       "      <td>NaN</td>\n",
       "      <td>Al Qal'a of Beni Hammad</td>\n",
       "      <td>In a mountainous site of extraordinary beauty...</td>\n",
       "      <td>NaN</td>\n",
       "      <td>1980</td>\n",
       "      <td>...</td>\n",
       "      <td>NaN</td>\n",
       "      <td>NaN</td>\n",
       "      <td>4.786840</td>\n",
       "      <td>35.818440</td>\n",
       "      <td>150.0000</td>\n",
       "      <td>(iii)</td>\n",
       "      <td>C</td>\n",
       "      <td>dz</td>\n",
       "      <td>dza</td>\n",
       "      <td>0</td>\n",
       "    </tr>\n",
       "  </tbody>\n",
       "</table>\n",
       "<p>5 rows × 22 columns</p>\n",
       "</div>"
      ],
      "text/plain": [
       "   category states_name_en                 region_en  unique_number  id_no  \\\n",
       "0  Cultural    Afghanistan      Asia and the Pacific            230    208   \n",
       "1  Cultural    Afghanistan      Asia and the Pacific            234    211   \n",
       "2  Cultural        Albania  Europe and North America           1590    569   \n",
       "3  Cultural        Albania  Europe and North America           1563    570   \n",
       "4  Cultural        Algeria               Arab States            111    102   \n",
       "\n",
       "  rev_bis                                            name_en  \\\n",
       "0     Rev  Cultural Landscape and Archaeological Remains ...   \n",
       "1     Rev          Minaret and Archaeological Remains of Jam   \n",
       "2     Bis         Historic Centres of Berat and Gjirokastra    \n",
       "3     ter                                            Butrint   \n",
       "4     NaN                            Al Qal'a of Beni Hammad   \n",
       "\n",
       "                                short_description_en  \\\n",
       "0   The cultural landscape and archaeological rem...   \n",
       "1   The 65m-tall Minaret of Jam is a graceful, so...   \n",
       "2   Berat and Gjirokastra are inscribed as rare e...   \n",
       "3   Inhabited since prehistoric times, Butrint ha...   \n",
       "4   In a mountainous site of extraordinary beauty...   \n",
       "\n",
       "                                    justification_en  date_inscribed  ...  \\\n",
       "0   <em>Criterion (i):</em> The Buddha statues an...            2003  ...   \n",
       "1   <em>Criterion (ii):</em> The innovative archi...            2002  ...   \n",
       "2                                                NaN            2005  ...   \n",
       "3                                                NaN            1992  ...   \n",
       "4                                                NaN            1980  ...   \n",
       "\n",
       "  date_end  danger_list  longitude   latitude  area_hectares  \\\n",
       "0      NaN       Y 2003  67.825250  34.846940       158.9265   \n",
       "1      NaN       Y 2002  64.515889  34.396417        70.0000   \n",
       "2      NaN          NaN  20.133333  40.069444        58.9000   \n",
       "3   2005.0  P 1997-2005  20.026111  39.751111            NaN   \n",
       "4      NaN          NaN   4.786840  35.818440       150.0000   \n",
       "\n",
       "           criteria_txt  category_short iso_code udnp_code transboundary  \n",
       "0  (i)(ii)(iii)(iv)(vi)               C       af       afg             0  \n",
       "1         (ii)(iii)(iv)               C       af       afg             0  \n",
       "2             (iii)(iv)               C       al       alb             0  \n",
       "3                 (iii)               C       al       alb             0  \n",
       "4                 (iii)               C       dz       dza             0  \n",
       "\n",
       "[5 rows x 22 columns]"
      ]
     },
     "execution_count": 2,
     "metadata": {},
     "output_type": "execute_result"
    }
   ],
   "source": [
    "# Read in CSV data and view columns\n",
    "unesco = pd.read_csv('whc-sites-2019.csv')\n",
    "\n",
    "print(unesco.info())\n",
    "unesco.head()"
   ]
  },
  {
   "cell_type": "code",
   "execution_count": 3,
   "id": "b8aea52e",
   "metadata": {},
   "outputs": [],
   "source": [
    "# Determine the actual columns I care about\n",
    "columns_wanted = ['states_name_en', 'region_en', 'name_en',\n",
    "                  'short_description_en','date_inscribed', \n",
    "                  'longitude', 'latitude',\n",
    "                  'iso_code']"
   ]
  },
  {
   "cell_type": "code",
   "execution_count": 4,
   "id": "80579dcd",
   "metadata": {},
   "outputs": [],
   "source": [
    "# Make a new df with the columns I care about\n",
    "unesco_final = unesco[unesco.columns.intersection(columns_wanted)]"
   ]
  },
  {
   "cell_type": "code",
   "execution_count": 62,
   "id": "4f2e2723",
   "metadata": {},
   "outputs": [
    {
     "data": {
      "text/plain": [
       "0        The cultural<br>landscape and<br>archaeologic...\n",
       "1        The 65m-tall<br>Minaret of Jam is a<br>gracef...\n",
       "2        Berat and<br>Gjirokastra are<br>inscribed as ...\n",
       "3        Inhabited since<br>prehistoric times,<br>Butr...\n",
       "4        In a mountainous<br>site of<br>extraordinary<...\n",
       "                              ...                        \n",
       "1116     The two Prehistoric<br>Rock Art Sites in<br>t...\n",
       "1117     The Uvs Nuur Basin<br>(1,068,853 ha), is<br>t...\n",
       "1118     Shared between<br>Mongolia and the<br>Russian...\n",
       "1119     The property<br>includes the mining<br>sites ...\n",
       "1120     These are among the<br>most spectacular<br>wa...\n",
       "Name: short_description_en, Length: 1121, dtype: object"
      ]
     },
     "execution_count": 62,
     "metadata": {},
     "output_type": "execute_result"
    }
   ],
   "source": [
    "# Apply lambda f(x) to wrap text for Plotly's hover data\n",
    "# TODO: figure out how to format hover data to wrap lines\n",
    "unesco_final['short_description_en'].apply(lambda x: (\"<br>\") .join(textwrap.wrap(x, width=20)))"
   ]
  },
  {
   "cell_type": "code",
   "execution_count": 72,
   "id": "c8a83311",
   "metadata": {},
   "outputs": [],
   "source": [
    "# Set attributes for points\n",
    "fig = px.scatter_mapbox(unesco_final, lat='latitude', lon='longitude',\n",
    "                       hover_name='name_en', \n",
    "                        hover_data=['states_name_en'],\n",
    "                       color_discrete_sequence=['blue'], zoom=7,\n",
    "                        center={'lat':45.5, 'lon':11.5},height=1000)"
   ]
  },
  {
   "cell_type": "code",
   "execution_count": 73,
   "id": "7b92bc6d",
   "metadata": {},
   "outputs": [
    {
     "data": {
      "application/vnd.plotly.v1+json": {
       "config": {
        "plotlyServerURL": "https://plot.ly"
       },
       "data": [
        {
         "customdata": [
          [
           "Afghanistan"
          ],
          [
           "Afghanistan"
          ],
          [
           "Albania"
          ],
          [
           "Albania"
          ],
          [
           "Algeria"
          ],
          [
           "Algeria"
          ],
          [
           "Algeria"
          ],
          [
           "Algeria"
          ],
          [
           "Algeria"
          ],
          [
           "Algeria"
          ],
          [
           "Algeria"
          ],
          [
           "Andorra"
          ],
          [
           "Angola"
          ],
          [
           "Antigua and Barbuda"
          ],
          [
           "Argentina"
          ],
          [
           "Argentina"
          ],
          [
           "Argentina"
          ],
          [
           "Argentina"
          ],
          [
           "Argentina"
          ],
          [
           "Argentina"
          ],
          [
           "Argentina"
          ],
          [
           "Argentina"
          ],
          [
           "Armenia"
          ],
          [
           "Armenia"
          ],
          [
           "Armenia"
          ],
          [
           "Australia"
          ],
          [
           "Australia"
          ],
          [
           "Australia"
          ],
          [
           "Australia"
          ],
          [
           "Australia"
          ],
          [
           "Australia"
          ],
          [
           "Australia"
          ],
          [
           "Australia"
          ],
          [
           "Australia"
          ],
          [
           "Australia"
          ],
          [
           "Australia"
          ],
          [
           "Australia"
          ],
          [
           "Australia"
          ],
          [
           "Australia"
          ],
          [
           "Australia"
          ],
          [
           "Australia"
          ],
          [
           "Australia"
          ],
          [
           "Australia"
          ],
          [
           "Australia"
          ],
          [
           "Australia"
          ],
          [
           "Austria"
          ],
          [
           "Austria"
          ],
          [
           "Austria"
          ],
          [
           "Austria"
          ],
          [
           "Austria"
          ],
          [
           "Austria"
          ],
          [
           "Austria"
          ],
          [
           "Azerbaijan"
          ],
          [
           "Azerbaijan"
          ],
          [
           "Azerbaijan"
          ],
          [
           "Bahrain"
          ],
          [
           "Bahrain"
          ],
          [
           "Bahrain"
          ],
          [
           "Bangladesh"
          ],
          [
           "Bangladesh"
          ],
          [
           "Bangladesh"
          ],
          [
           "Barbados"
          ],
          [
           "Belarus"
          ],
          [
           "Belarus"
          ],
          [
           "Belgium"
          ],
          [
           "Belgium"
          ],
          [
           "Belgium"
          ],
          [
           "Belgium"
          ],
          [
           "Belgium"
          ],
          [
           "Belgium"
          ],
          [
           "Belgium"
          ],
          [
           "Belgium"
          ],
          [
           "Belgium"
          ],
          [
           "Belgium"
          ],
          [
           "Belize"
          ],
          [
           "Benin"
          ],
          [
           "Bolivia (Plurinational State of)"
          ],
          [
           "Bolivia (Plurinational State of)"
          ],
          [
           "Bolivia (Plurinational State of)"
          ],
          [
           "Bolivia (Plurinational State of)"
          ],
          [
           "Bolivia (Plurinational State of)"
          ],
          [
           "Bolivia (Plurinational State of)"
          ],
          [
           "Bosnia and Herzegovina"
          ],
          [
           "Bosnia and Herzegovina"
          ],
          [
           "Botswana"
          ],
          [
           "Botswana"
          ],
          [
           "Brazil"
          ],
          [
           "Brazil"
          ],
          [
           "Brazil"
          ],
          [
           "Brazil"
          ],
          [
           "Brazil"
          ],
          [
           "Brazil"
          ],
          [
           "Brazil"
          ],
          [
           "Brazil"
          ],
          [
           "Brazil"
          ],
          [
           "Brazil"
          ],
          [
           "Brazil"
          ],
          [
           "Brazil"
          ],
          [
           "Brazil"
          ],
          [
           "Brazil"
          ],
          [
           "Brazil"
          ],
          [
           "Brazil"
          ],
          [
           "Brazil"
          ],
          [
           "Brazil"
          ],
          [
           "Brazil"
          ],
          [
           "Brazil"
          ],
          [
           "Brazil"
          ],
          [
           "Bulgaria"
          ],
          [
           "Bulgaria"
          ],
          [
           "Bulgaria"
          ],
          [
           "Bulgaria"
          ],
          [
           "Bulgaria"
          ],
          [
           "Bulgaria"
          ],
          [
           "Bulgaria"
          ],
          [
           "Bulgaria"
          ],
          [
           "Bulgaria"
          ],
          [
           "Burkina Faso"
          ],
          [
           "Burkina Faso"
          ],
          [
           "Cabo Verde"
          ],
          [
           "Cambodia"
          ],
          [
           "Cambodia"
          ],
          [
           "Cambodia"
          ],
          [
           "Cameroon"
          ],
          [
           "Canada"
          ],
          [
           "Canada"
          ],
          [
           "Canada"
          ],
          [
           "Canada"
          ],
          [
           "Canada"
          ],
          [
           "Canada"
          ],
          [
           "Canada"
          ],
          [
           "Canada"
          ],
          [
           "Canada"
          ],
          [
           "Canada"
          ],
          [
           "Canada"
          ],
          [
           "Canada"
          ],
          [
           "Canada"
          ],
          [
           "Canada"
          ],
          [
           "Canada"
          ],
          [
           "Canada"
          ],
          [
           "Canada"
          ],
          [
           "Canada"
          ],
          [
           "Central African Republic"
          ],
          [
           "Chad"
          ],
          [
           "Chad"
          ],
          [
           "Chile"
          ],
          [
           "Chile"
          ],
          [
           "Chile"
          ],
          [
           "Chile"
          ],
          [
           "Chile"
          ],
          [
           "China"
          ],
          [
           "China"
          ],
          [
           "China"
          ],
          [
           "China"
          ],
          [
           "China"
          ],
          [
           "China"
          ],
          [
           "China"
          ],
          [
           "China"
          ],
          [
           "China"
          ],
          [
           "China"
          ],
          [
           "China"
          ],
          [
           "China"
          ],
          [
           "China"
          ],
          [
           "China"
          ],
          [
           "China"
          ],
          [
           "China"
          ],
          [
           "China"
          ],
          [
           "China"
          ],
          [
           "China"
          ],
          [
           "China"
          ],
          [
           "China"
          ],
          [
           "China"
          ],
          [
           "China"
          ],
          [
           "China"
          ],
          [
           "China"
          ],
          [
           "China"
          ],
          [
           "China"
          ],
          [
           "China"
          ],
          [
           "China"
          ],
          [
           "China"
          ],
          [
           "China"
          ],
          [
           "China"
          ],
          [
           "China"
          ],
          [
           "China"
          ],
          [
           "China"
          ],
          [
           "China"
          ],
          [
           "China"
          ],
          [
           "China"
          ],
          [
           "China"
          ],
          [
           "China"
          ],
          [
           "China"
          ],
          [
           "China"
          ],
          [
           "China"
          ],
          [
           "China"
          ],
          [
           "China"
          ],
          [
           "China"
          ],
          [
           "China"
          ],
          [
           "China"
          ],
          [
           "China"
          ],
          [
           "China"
          ],
          [
           "China"
          ],
          [
           "China"
          ],
          [
           "China"
          ],
          [
           "China"
          ],
          [
           "Colombia"
          ],
          [
           "Colombia"
          ],
          [
           "Colombia"
          ],
          [
           "Colombia"
          ],
          [
           "Colombia"
          ],
          [
           "Colombia"
          ],
          [
           "Colombia"
          ],
          [
           "Colombia"
          ],
          [
           "Costa Rica"
          ],
          [
           "Costa Rica"
          ],
          [
           "Costa Rica"
          ],
          [
           "Côte d'Ivoire"
          ],
          [
           "Côte d'Ivoire"
          ],
          [
           "Côte d'Ivoire"
          ],
          [
           "Croatia"
          ],
          [
           "Croatia"
          ],
          [
           "Croatia"
          ],
          [
           "Croatia"
          ],
          [
           "Croatia"
          ],
          [
           "Croatia"
          ],
          [
           "Croatia"
          ],
          [
           "Cuba"
          ],
          [
           "Cuba"
          ],
          [
           "Cuba"
          ],
          [
           "Cuba"
          ],
          [
           "Cuba"
          ],
          [
           "Cuba"
          ],
          [
           "Cuba"
          ],
          [
           "Cuba"
          ],
          [
           "Cuba"
          ],
          [
           "Cyprus"
          ],
          [
           "Cyprus"
          ],
          [
           "Cyprus"
          ],
          [
           "Czechia"
          ],
          [
           "Czechia"
          ],
          [
           "Czechia"
          ],
          [
           "Czechia"
          ],
          [
           "Czechia"
          ],
          [
           "Czechia"
          ],
          [
           "Czechia"
          ],
          [
           "Czechia"
          ],
          [
           "Czechia"
          ],
          [
           "Czechia"
          ],
          [
           "Czechia"
          ],
          [
           "Czechia"
          ],
          [
           "Czechia"
          ],
          [
           "Democratic People's Republic of Korea"
          ],
          [
           "Democratic People's Republic of Korea"
          ],
          [
           "Democratic Republic of the Congo"
          ],
          [
           "Democratic Republic of the Congo"
          ],
          [
           "Democratic Republic of the Congo"
          ],
          [
           "Democratic Republic of the Congo"
          ],
          [
           "Democratic Republic of the Congo"
          ],
          [
           "Denmark"
          ],
          [
           "Denmark"
          ],
          [
           "Denmark"
          ],
          [
           "Denmark"
          ],
          [
           "Denmark"
          ],
          [
           "Denmark"
          ],
          [
           "Denmark"
          ],
          [
           "Denmark"
          ],
          [
           "Denmark"
          ],
          [
           "Dominica"
          ],
          [
           "Dominican Republic"
          ],
          [
           "Ecuador"
          ],
          [
           "Ecuador"
          ],
          [
           "Ecuador"
          ],
          [
           "Ecuador"
          ],
          [
           "Egypt"
          ],
          [
           "Egypt"
          ],
          [
           "Egypt"
          ],
          [
           "Egypt"
          ],
          [
           "Egypt"
          ],
          [
           "Egypt"
          ],
          [
           "Egypt"
          ],
          [
           "El Salvador"
          ],
          [
           "Eritrea"
          ],
          [
           "Estonia"
          ],
          [
           "Ethiopia"
          ],
          [
           "Ethiopia"
          ],
          [
           "Ethiopia"
          ],
          [
           "Ethiopia"
          ],
          [
           "Ethiopia"
          ],
          [
           "Ethiopia"
          ],
          [
           "Ethiopia"
          ],
          [
           "Ethiopia"
          ],
          [
           "Ethiopia"
          ],
          [
           "Fiji"
          ],
          [
           "Finland"
          ],
          [
           "Finland"
          ],
          [
           "Finland"
          ],
          [
           "Finland"
          ],
          [
           "Finland"
          ],
          [
           "France"
          ],
          [
           "France"
          ],
          [
           "France"
          ],
          [
           "France"
          ],
          [
           "France"
          ],
          [
           "France"
          ],
          [
           "France"
          ],
          [
           "France"
          ],
          [
           "France"
          ],
          [
           "France"
          ],
          [
           "France"
          ],
          [
           "France"
          ],
          [
           "France"
          ],
          [
           "France"
          ],
          [
           "France"
          ],
          [
           "France"
          ],
          [
           "France"
          ],
          [
           "France"
          ],
          [
           "France"
          ],
          [
           "France"
          ],
          [
           "France"
          ],
          [
           "France"
          ],
          [
           "France"
          ],
          [
           "France"
          ],
          [
           "France"
          ],
          [
           "France"
          ],
          [
           "France"
          ],
          [
           "France"
          ],
          [
           "France"
          ],
          [
           "France"
          ],
          [
           "France"
          ],
          [
           "France"
          ],
          [
           "France"
          ],
          [
           "France"
          ],
          [
           "France"
          ],
          [
           "France"
          ],
          [
           "France"
          ],
          [
           "France"
          ],
          [
           "France"
          ],
          [
           "France"
          ],
          [
           "France"
          ],
          [
           "Gabon"
          ],
          [
           "Gambia (the)"
          ],
          [
           "Georgia"
          ],
          [
           "Georgia"
          ],
          [
           "Georgia"
          ],
          [
           "Germany"
          ],
          [
           "Germany"
          ],
          [
           "Germany"
          ],
          [
           "Germany"
          ],
          [
           "Germany"
          ],
          [
           "Germany"
          ],
          [
           "Germany"
          ],
          [
           "Germany"
          ],
          [
           "Germany"
          ],
          [
           "Germany"
          ],
          [
           "Germany"
          ],
          [
           "Germany"
          ],
          [
           "Germany"
          ],
          [
           "Germany"
          ],
          [
           "Germany"
          ],
          [
           "Germany"
          ],
          [
           "Germany"
          ],
          [
           "Germany"
          ],
          [
           "Germany"
          ],
          [
           "Germany"
          ],
          [
           "Germany"
          ],
          [
           "Germany"
          ],
          [
           "Germany"
          ],
          [
           "Germany"
          ],
          [
           "Germany"
          ],
          [
           "Germany"
          ],
          [
           "Germany"
          ],
          [
           "Germany"
          ],
          [
           "Germany"
          ],
          [
           "Germany"
          ],
          [
           "Germany"
          ],
          [
           "Germany"
          ],
          [
           "Germany"
          ],
          [
           "Germany"
          ],
          [
           "Germany"
          ],
          [
           "Germany"
          ],
          [
           "Germany"
          ],
          [
           "Germany"
          ],
          [
           "Germany"
          ],
          [
           "Ghana"
          ],
          [
           "Ghana"
          ],
          [
           "Greece"
          ],
          [
           "Greece"
          ],
          [
           "Greece"
          ],
          [
           "Greece"
          ],
          [
           "Greece"
          ],
          [
           "Greece"
          ],
          [
           "Greece"
          ],
          [
           "Greece"
          ],
          [
           "Greece"
          ],
          [
           "Greece"
          ],
          [
           "Greece"
          ],
          [
           "Greece"
          ],
          [
           "Greece"
          ],
          [
           "Greece"
          ],
          [
           "Greece"
          ],
          [
           "Greece"
          ],
          [
           "Greece"
          ],
          [
           "Greece"
          ],
          [
           "Guatemala"
          ],
          [
           "Guatemala"
          ],
          [
           "Guatemala"
          ],
          [
           "Haiti"
          ],
          [
           "Holy See"
          ],
          [
           "Honduras"
          ],
          [
           "Honduras"
          ],
          [
           "Hungary"
          ],
          [
           "Hungary"
          ],
          [
           "Hungary"
          ],
          [
           "Hungary"
          ],
          [
           "Hungary"
          ],
          [
           "Hungary"
          ],
          [
           "Iceland"
          ],
          [
           "Iceland"
          ],
          [
           "Iceland"
          ],
          [
           "India"
          ],
          [
           "India"
          ],
          [
           "India"
          ],
          [
           "India"
          ],
          [
           "India"
          ],
          [
           "India"
          ],
          [
           "India"
          ],
          [
           "India"
          ],
          [
           "India"
          ],
          [
           "India"
          ],
          [
           "India"
          ],
          [
           "India"
          ],
          [
           "India"
          ],
          [
           "India"
          ],
          [
           "India"
          ],
          [
           "India"
          ],
          [
           "India"
          ],
          [
           "India"
          ],
          [
           "India"
          ],
          [
           "India"
          ],
          [
           "India"
          ],
          [
           "India"
          ],
          [
           "India"
          ],
          [
           "India"
          ],
          [
           "India"
          ],
          [
           "India"
          ],
          [
           "India"
          ],
          [
           "India"
          ],
          [
           "India"
          ],
          [
           "India"
          ],
          [
           "India"
          ],
          [
           "India"
          ],
          [
           "India"
          ],
          [
           "India"
          ],
          [
           "India"
          ],
          [
           "India"
          ],
          [
           "India"
          ],
          [
           "Indonesia"
          ],
          [
           "Indonesia"
          ],
          [
           "Indonesia"
          ],
          [
           "Indonesia"
          ],
          [
           "Indonesia"
          ],
          [
           "Indonesia"
          ],
          [
           "Indonesia"
          ],
          [
           "Indonesia"
          ],
          [
           "Indonesia"
          ],
          [
           "Iran (Islamic Republic of)"
          ],
          [
           "Iran (Islamic Republic of)"
          ],
          [
           "Iran (Islamic Republic of)"
          ],
          [
           "Iran (Islamic Republic of)"
          ],
          [
           "Iran (Islamic Republic of)"
          ],
          [
           "Iran (Islamic Republic of)"
          ],
          [
           "Iran (Islamic Republic of)"
          ],
          [
           "Iran (Islamic Republic of)"
          ],
          [
           "Iran (Islamic Republic of)"
          ],
          [
           "Iran (Islamic Republic of)"
          ],
          [
           "Iran (Islamic Republic of)"
          ],
          [
           "Iran (Islamic Republic of)"
          ],
          [
           "Iran (Islamic Republic of)"
          ],
          [
           "Iran (Islamic Republic of)"
          ],
          [
           "Iran (Islamic Republic of)"
          ],
          [
           "Iran (Islamic Republic of)"
          ],
          [
           "Iran (Islamic Republic of)"
          ],
          [
           "Iran (Islamic Republic of)"
          ],
          [
           "Iran (Islamic Republic of)"
          ],
          [
           "Iran (Islamic Republic of)"
          ],
          [
           "Iran (Islamic Republic of)"
          ],
          [
           "Iran (Islamic Republic of)"
          ],
          [
           "Iran (Islamic Republic of)"
          ],
          [
           "Iran (Islamic Republic of)"
          ],
          [
           "Iraq"
          ],
          [
           "Iraq"
          ],
          [
           "Iraq"
          ],
          [
           "Iraq"
          ],
          [
           "Iraq"
          ],
          [
           "Iraq"
          ],
          [
           "Ireland"
          ],
          [
           "Ireland"
          ],
          [
           "Israel"
          ],
          [
           "Israel"
          ],
          [
           "Israel"
          ],
          [
           "Israel"
          ],
          [
           "Israel"
          ],
          [
           "Israel"
          ],
          [
           "Israel"
          ],
          [
           "Israel"
          ],
          [
           "Israel"
          ],
          [
           "Italy"
          ],
          [
           "Italy"
          ],
          [
           "Italy"
          ],
          [
           "Italy"
          ],
          [
           "Italy"
          ],
          [
           "Italy"
          ],
          [
           "Italy"
          ],
          [
           "Italy"
          ],
          [
           "Italy"
          ],
          [
           "Italy"
          ],
          [
           "Italy"
          ],
          [
           "Italy"
          ],
          [
           "Italy"
          ],
          [
           "Italy"
          ],
          [
           "Italy"
          ],
          [
           "Italy"
          ],
          [
           "Italy"
          ],
          [
           "Italy"
          ],
          [
           "Italy"
          ],
          [
           "Italy"
          ],
          [
           "Italy"
          ],
          [
           "Italy"
          ],
          [
           "Italy"
          ],
          [
           "Italy"
          ],
          [
           "Italy"
          ],
          [
           "Italy"
          ],
          [
           "Italy"
          ],
          [
           "Italy"
          ],
          [
           "Italy"
          ],
          [
           "Italy"
          ],
          [
           "Italy"
          ],
          [
           "Italy"
          ],
          [
           "Italy"
          ],
          [
           "Italy"
          ],
          [
           "Italy"
          ],
          [
           "Italy"
          ],
          [
           "Italy"
          ],
          [
           "Italy"
          ],
          [
           "Italy"
          ],
          [
           "Italy"
          ],
          [
           "Italy"
          ],
          [
           "Italy"
          ],
          [
           "Italy"
          ],
          [
           "Italy"
          ],
          [
           "Italy"
          ],
          [
           "Italy"
          ],
          [
           "Italy"
          ],
          [
           "Italy"
          ],
          [
           "Italy"
          ],
          [
           "Jamaica"
          ],
          [
           "Japan"
          ],
          [
           "Japan"
          ],
          [
           "Japan"
          ],
          [
           "Japan"
          ],
          [
           "Japan"
          ],
          [
           "Japan"
          ],
          [
           "Japan"
          ],
          [
           "Japan"
          ],
          [
           "Japan"
          ],
          [
           "Japan"
          ],
          [
           "Japan"
          ],
          [
           "Japan"
          ],
          [
           "Japan"
          ],
          [
           "Japan"
          ],
          [
           "Japan"
          ],
          [
           "Japan"
          ],
          [
           "Japan"
          ],
          [
           "Japan"
          ],
          [
           "Japan"
          ],
          [
           "Japan"
          ],
          [
           "Japan"
          ],
          [
           "Japan"
          ],
          [
           "Jerusalem (Site proposed by Jordan)"
          ],
          [
           "Jordan"
          ],
          [
           "Jordan"
          ],
          [
           "Jordan"
          ],
          [
           "Jordan"
          ],
          [
           "Jordan"
          ],
          [
           "Kazakhstan"
          ],
          [
           "Kazakhstan"
          ],
          [
           "Kazakhstan"
          ],
          [
           "Kenya"
          ],
          [
           "Kenya"
          ],
          [
           "Kenya"
          ],
          [
           "Kenya"
          ],
          [
           "Kenya"
          ],
          [
           "Kenya"
          ],
          [
           "Kenya"
          ],
          [
           "Kiribati"
          ],
          [
           "Kyrgyzstan"
          ],
          [
           "Lao People's Democratic Republic"
          ],
          [
           "Lao People's Democratic Republic"
          ],
          [
           "Lao People's Democratic Republic"
          ],
          [
           "Latvia"
          ],
          [
           "Lebanon"
          ],
          [
           "Lebanon"
          ],
          [
           "Lebanon"
          ],
          [
           "Lebanon"
          ],
          [
           "Lebanon"
          ],
          [
           "Libya"
          ],
          [
           "Libya"
          ],
          [
           "Libya"
          ],
          [
           "Libya"
          ],
          [
           "Libya"
          ],
          [
           "Lithuania"
          ],
          [
           "Lithuania"
          ],
          [
           "Luxembourg"
          ],
          [
           "Madagascar"
          ],
          [
           "Madagascar"
          ],
          [
           "Madagascar"
          ],
          [
           "Malawi"
          ],
          [
           "Malawi"
          ],
          [
           "Malaysia"
          ],
          [
           "Malaysia"
          ],
          [
           "Malaysia"
          ],
          [
           "Malaysia"
          ],
          [
           "Mali"
          ],
          [
           "Mali"
          ],
          [
           "Mali"
          ],
          [
           "Mali"
          ],
          [
           "Malta"
          ],
          [
           "Malta"
          ],
          [
           "Malta"
          ],
          [
           "Marshall Islands"
          ],
          [
           "Mauritania"
          ],
          [
           "Mauritania"
          ],
          [
           "Mauritius"
          ],
          [
           "Mauritius"
          ],
          [
           "Mexico"
          ],
          [
           "Mexico"
          ],
          [
           "Mexico"
          ],
          [
           "Mexico"
          ],
          [
           "Mexico"
          ],
          [
           "Mexico"
          ],
          [
           "Mexico"
          ],
          [
           "Mexico"
          ],
          [
           "Mexico"
          ],
          [
           "Mexico"
          ],
          [
           "Mexico"
          ],
          [
           "Mexico"
          ],
          [
           "Mexico"
          ],
          [
           "Mexico"
          ],
          [
           "Mexico"
          ],
          [
           "Mexico"
          ],
          [
           "Mexico"
          ],
          [
           "Mexico"
          ],
          [
           "Mexico"
          ],
          [
           "Mexico"
          ],
          [
           "Mexico"
          ],
          [
           "Mexico"
          ],
          [
           "Mexico"
          ],
          [
           "Mexico"
          ],
          [
           "Mexico"
          ],
          [
           "Mexico"
          ],
          [
           "Mexico"
          ],
          [
           "Mexico"
          ],
          [
           "Mexico"
          ],
          [
           "Mexico"
          ],
          [
           "Mexico"
          ],
          [
           "Mexico"
          ],
          [
           "Mexico"
          ],
          [
           "Mexico"
          ],
          [
           "Mexico"
          ],
          [
           "Micronesia (Federated States of)"
          ],
          [
           "Mongolia"
          ],
          [
           "Mongolia"
          ],
          [
           "Mongolia"
          ],
          [
           "Montenegro"
          ],
          [
           "Montenegro"
          ],
          [
           "Morocco"
          ],
          [
           "Morocco"
          ],
          [
           "Morocco"
          ],
          [
           "Morocco"
          ],
          [
           "Morocco"
          ],
          [
           "Morocco"
          ],
          [
           "Morocco"
          ],
          [
           "Morocco"
          ],
          [
           "Morocco"
          ],
          [
           "Mozambique"
          ],
          [
           "Myanmar"
          ],
          [
           "Myanmar"
          ],
          [
           "Namibia"
          ],
          [
           "Namibia"
          ],
          [
           "Nepal"
          ],
          [
           "Nepal"
          ],
          [
           "Nepal"
          ],
          [
           "Nepal"
          ],
          [
           "Netherlands"
          ],
          [
           "Netherlands"
          ],
          [
           "Netherlands"
          ],
          [
           "Netherlands"
          ],
          [
           "Netherlands"
          ],
          [
           "Netherlands"
          ],
          [
           "Netherlands"
          ],
          [
           "Netherlands"
          ],
          [
           "Netherlands"
          ],
          [
           "New Zealand"
          ],
          [
           "New Zealand"
          ],
          [
           "New Zealand"
          ],
          [
           "Nicaragua"
          ],
          [
           "Nicaragua"
          ],
          [
           "Niger"
          ],
          [
           "Niger"
          ],
          [
           "Nigeria"
          ],
          [
           "Nigeria"
          ],
          [
           "Norway"
          ],
          [
           "Norway"
          ],
          [
           "Norway"
          ],
          [
           "Norway"
          ],
          [
           "Norway"
          ],
          [
           "Norway"
          ],
          [
           "Norway"
          ],
          [
           "Oman"
          ],
          [
           "Oman"
          ],
          [
           "Oman"
          ],
          [
           "Oman"
          ],
          [
           "Oman"
          ],
          [
           "Pakistan"
          ],
          [
           "Pakistan"
          ],
          [
           "Pakistan"
          ],
          [
           "Pakistan"
          ],
          [
           "Pakistan"
          ],
          [
           "Pakistan"
          ],
          [
           "Palau"
          ],
          [
           "Palestine"
          ],
          [
           "Palestine"
          ],
          [
           "Palestine"
          ],
          [
           "Panama"
          ],
          [
           "Panama"
          ],
          [
           "Panama"
          ],
          [
           "Panama"
          ],
          [
           "Papua New Guinea"
          ],
          [
           "Paraguay"
          ],
          [
           "Peru"
          ],
          [
           "Peru"
          ],
          [
           "Peru"
          ],
          [
           "Peru"
          ],
          [
           "Peru"
          ],
          [
           "Peru"
          ],
          [
           "Peru"
          ],
          [
           "Peru"
          ],
          [
           "Peru"
          ],
          [
           "Peru"
          ],
          [
           "Peru"
          ],
          [
           "Philippines"
          ],
          [
           "Philippines"
          ],
          [
           "Philippines"
          ],
          [
           "Philippines"
          ],
          [
           "Philippines"
          ],
          [
           "Philippines"
          ],
          [
           "Poland"
          ],
          [
           "Poland"
          ],
          [
           "Poland"
          ],
          [
           "Poland"
          ],
          [
           "Poland"
          ],
          [
           "Poland"
          ],
          [
           "Poland"
          ],
          [
           "Poland"
          ],
          [
           "Poland"
          ],
          [
           "Poland"
          ],
          [
           "Poland"
          ],
          [
           "Poland"
          ],
          [
           "Poland"
          ],
          [
           "Portugal"
          ],
          [
           "Portugal"
          ],
          [
           "Portugal"
          ],
          [
           "Portugal"
          ],
          [
           "Portugal"
          ],
          [
           "Portugal"
          ],
          [
           "Portugal"
          ],
          [
           "Portugal"
          ],
          [
           "Portugal"
          ],
          [
           "Portugal"
          ],
          [
           "Portugal"
          ],
          [
           "Portugal"
          ],
          [
           "Portugal"
          ],
          [
           "Portugal"
          ],
          [
           "Portugal"
          ],
          [
           "Portugal"
          ],
          [
           "Qatar"
          ],
          [
           "Republic of Korea"
          ],
          [
           "Republic of Korea"
          ],
          [
           "Republic of Korea"
          ],
          [
           "Republic of Korea"
          ],
          [
           "Republic of Korea"
          ],
          [
           "Republic of Korea"
          ],
          [
           "Republic of Korea"
          ],
          [
           "Republic of Korea"
          ],
          [
           "Republic of Korea"
          ],
          [
           "Republic of Korea"
          ],
          [
           "Republic of Korea"
          ],
          [
           "Republic of Korea"
          ],
          [
           "Republic of Korea"
          ],
          [
           "Republic of Korea"
          ],
          [
           "Romania"
          ],
          [
           "Romania"
          ],
          [
           "Romania"
          ],
          [
           "Romania"
          ],
          [
           "Romania"
          ],
          [
           "Romania"
          ],
          [
           "Romania"
          ],
          [
           "Russian Federation"
          ],
          [
           "Russian Federation"
          ],
          [
           "Russian Federation"
          ],
          [
           "Russian Federation"
          ],
          [
           "Russian Federation"
          ],
          [
           "Russian Federation"
          ],
          [
           "Russian Federation"
          ],
          [
           "Russian Federation"
          ],
          [
           "Russian Federation"
          ],
          [
           "Russian Federation"
          ],
          [
           "Russian Federation"
          ],
          [
           "Russian Federation"
          ],
          [
           "Russian Federation"
          ],
          [
           "Russian Federation"
          ],
          [
           "Russian Federation"
          ],
          [
           "Russian Federation"
          ],
          [
           "Russian Federation"
          ],
          [
           "Russian Federation"
          ],
          [
           "Russian Federation"
          ],
          [
           "Russian Federation"
          ],
          [
           "Russian Federation"
          ],
          [
           "Russian Federation"
          ],
          [
           "Russian Federation"
          ],
          [
           "Russian Federation"
          ],
          [
           "Russian Federation"
          ],
          [
           "Saint Kitts and Nevis"
          ],
          [
           "Saint Lucia"
          ],
          [
           "San Marino"
          ],
          [
           "Saudi Arabia"
          ],
          [
           "Saudi Arabia"
          ],
          [
           "Saudi Arabia"
          ],
          [
           "Saudi Arabia"
          ],
          [
           "Saudi Arabia"
          ],
          [
           "Senegal"
          ],
          [
           "Senegal"
          ],
          [
           "Senegal"
          ],
          [
           "Senegal"
          ],
          [
           "Senegal"
          ],
          [
           "Senegal"
          ],
          [
           "Serbia"
          ],
          [
           "Serbia"
          ],
          [
           "Serbia"
          ],
          [
           "Serbia"
          ],
          [
           "Seychelles"
          ],
          [
           "Seychelles"
          ],
          [
           "Singapore"
          ],
          [
           "Slovakia"
          ],
          [
           "Slovakia"
          ],
          [
           "Slovakia"
          ],
          [
           "Slovakia"
          ],
          [
           "Slovakia"
          ],
          [
           "Slovenia"
          ],
          [
           "Solomon Islands"
          ],
          [
           "South Africa"
          ],
          [
           "South Africa"
          ],
          [
           "South Africa"
          ],
          [
           "South Africa"
          ],
          [
           "South Africa"
          ],
          [
           "South Africa"
          ],
          [
           "South Africa"
          ],
          [
           "South Africa"
          ],
          [
           "South Africa"
          ],
          [
           "Spain"
          ],
          [
           "Spain"
          ],
          [
           "Spain"
          ],
          [
           "Spain"
          ],
          [
           "Spain"
          ],
          [
           "Spain"
          ],
          [
           "Spain"
          ],
          [
           "Spain"
          ],
          [
           "Spain"
          ],
          [
           "Spain"
          ],
          [
           "Spain"
          ],
          [
           "Spain"
          ],
          [
           "Spain"
          ],
          [
           "Spain"
          ],
          [
           "Spain"
          ],
          [
           "Spain"
          ],
          [
           "Spain"
          ],
          [
           "Spain"
          ],
          [
           "Spain"
          ],
          [
           "Spain"
          ],
          [
           "Spain"
          ],
          [
           "Spain"
          ],
          [
           "Spain"
          ],
          [
           "Spain"
          ],
          [
           "Spain"
          ],
          [
           "Spain"
          ],
          [
           "Spain"
          ],
          [
           "Spain"
          ],
          [
           "Spain"
          ],
          [
           "Spain"
          ],
          [
           "Spain"
          ],
          [
           "Spain"
          ],
          [
           "Spain"
          ],
          [
           "Spain"
          ],
          [
           "Spain"
          ],
          [
           "Spain"
          ],
          [
           "Spain"
          ],
          [
           "Spain"
          ],
          [
           "Spain"
          ],
          [
           "Spain"
          ],
          [
           "Spain"
          ],
          [
           "Spain"
          ],
          [
           "Spain"
          ],
          [
           "Spain"
          ],
          [
           "Sri Lanka"
          ],
          [
           "Sri Lanka"
          ],
          [
           "Sri Lanka"
          ],
          [
           "Sri Lanka"
          ],
          [
           "Sri Lanka"
          ],
          [
           "Sri Lanka"
          ],
          [
           "Sri Lanka"
          ],
          [
           "Sri Lanka"
          ],
          [
           "Sudan"
          ],
          [
           "Sudan"
          ],
          [
           "Sudan"
          ],
          [
           "Suriname"
          ],
          [
           "Suriname"
          ],
          [
           "Sweden"
          ],
          [
           "Sweden"
          ],
          [
           "Sweden"
          ],
          [
           "Sweden"
          ],
          [
           "Sweden"
          ],
          [
           "Sweden"
          ],
          [
           "Sweden"
          ],
          [
           "Sweden"
          ],
          [
           "Sweden"
          ],
          [
           "Sweden"
          ],
          [
           "Sweden"
          ],
          [
           "Sweden"
          ],
          [
           "Sweden"
          ],
          [
           "Switzerland"
          ],
          [
           "Switzerland"
          ],
          [
           "Switzerland"
          ],
          [
           "Switzerland"
          ],
          [
           "Switzerland"
          ],
          [
           "Switzerland"
          ],
          [
           "Switzerland"
          ],
          [
           "Switzerland"
          ],
          [
           "Syrian Arab Republic"
          ],
          [
           "Syrian Arab Republic"
          ],
          [
           "Syrian Arab Republic"
          ],
          [
           "Syrian Arab Republic"
          ],
          [
           "Syrian Arab Republic"
          ],
          [
           "Syrian Arab Republic"
          ],
          [
           "Tajikistan"
          ],
          [
           "Tajikistan"
          ],
          [
           "Thailand"
          ],
          [
           "Thailand"
          ],
          [
           "Thailand"
          ],
          [
           "Thailand"
          ],
          [
           "Thailand"
          ],
          [
           "Togo"
          ],
          [
           "Tunisia"
          ],
          [
           "Tunisia"
          ],
          [
           "Tunisia"
          ],
          [
           "Tunisia"
          ],
          [
           "Tunisia"
          ],
          [
           "Tunisia"
          ],
          [
           "Tunisia"
          ],
          [
           "Tunisia"
          ],
          [
           "Turkey"
          ],
          [
           "Turkey"
          ],
          [
           "Turkey"
          ],
          [
           "Turkey"
          ],
          [
           "Turkey"
          ],
          [
           "Turkey"
          ],
          [
           "Turkey"
          ],
          [
           "Turkey"
          ],
          [
           "Turkey"
          ],
          [
           "Turkey"
          ],
          [
           "Turkey"
          ],
          [
           "Turkey"
          ],
          [
           "Turkey"
          ],
          [
           "Turkey"
          ],
          [
           "Turkey"
          ],
          [
           "Turkey"
          ],
          [
           "Turkey"
          ],
          [
           "Turkey"
          ],
          [
           "Turkmenistan"
          ],
          [
           "Turkmenistan"
          ],
          [
           "Turkmenistan"
          ],
          [
           "Uganda"
          ],
          [
           "Uganda"
          ],
          [
           "Uganda"
          ],
          [
           "Ukraine"
          ],
          [
           "Ukraine"
          ],
          [
           "Ukraine"
          ],
          [
           "Ukraine"
          ],
          [
           "United Arab Emirates"
          ],
          [
           "United Kingdom of Great Britain and Northern Ireland"
          ],
          [
           "United Kingdom of Great Britain and Northern Ireland"
          ],
          [
           "United Kingdom of Great Britain and Northern Ireland"
          ],
          [
           "United Kingdom of Great Britain and Northern Ireland"
          ],
          [
           "United Kingdom of Great Britain and Northern Ireland"
          ],
          [
           "United Kingdom of Great Britain and Northern Ireland"
          ],
          [
           "United Kingdom of Great Britain and Northern Ireland"
          ],
          [
           "United Kingdom of Great Britain and Northern Ireland"
          ],
          [
           "United Kingdom of Great Britain and Northern Ireland"
          ],
          [
           "United Kingdom of Great Britain and Northern Ireland"
          ],
          [
           "United Kingdom of Great Britain and Northern Ireland"
          ],
          [
           "United Kingdom of Great Britain and Northern Ireland"
          ],
          [
           "United Kingdom of Great Britain and Northern Ireland"
          ],
          [
           "United Kingdom of Great Britain and Northern Ireland"
          ],
          [
           "United Kingdom of Great Britain and Northern Ireland"
          ],
          [
           "United Kingdom of Great Britain and Northern Ireland"
          ],
          [
           "United Kingdom of Great Britain and Northern Ireland"
          ],
          [
           "United Kingdom of Great Britain and Northern Ireland"
          ],
          [
           "United Kingdom of Great Britain and Northern Ireland"
          ],
          [
           "United Kingdom of Great Britain and Northern Ireland"
          ],
          [
           "United Kingdom of Great Britain and Northern Ireland"
          ],
          [
           "United Kingdom of Great Britain and Northern Ireland"
          ],
          [
           "United Kingdom of Great Britain and Northern Ireland"
          ],
          [
           "United Kingdom of Great Britain and Northern Ireland"
          ],
          [
           "United Kingdom of Great Britain and Northern Ireland"
          ],
          [
           "United Kingdom of Great Britain and Northern Ireland"
          ],
          [
           "United Kingdom of Great Britain and Northern Ireland"
          ],
          [
           "United Kingdom of Great Britain and Northern Ireland"
          ],
          [
           "United Kingdom of Great Britain and Northern Ireland"
          ],
          [
           "United Kingdom of Great Britain and Northern Ireland"
          ],
          [
           "United Kingdom of Great Britain and Northern Ireland"
          ],
          [
           "United Republic of Tanzania"
          ],
          [
           "United Republic of Tanzania"
          ],
          [
           "United Republic of Tanzania"
          ],
          [
           "United Republic of Tanzania"
          ],
          [
           "United Republic of Tanzania"
          ],
          [
           "United Republic of Tanzania"
          ],
          [
           "United Republic of Tanzania"
          ],
          [
           "United States of America"
          ],
          [
           "United States of America"
          ],
          [
           "United States of America"
          ],
          [
           "United States of America"
          ],
          [
           "United States of America"
          ],
          [
           "United States of America"
          ],
          [
           "United States of America"
          ],
          [
           "United States of America"
          ],
          [
           "United States of America"
          ],
          [
           "United States of America"
          ],
          [
           "United States of America"
          ],
          [
           "United States of America"
          ],
          [
           "United States of America"
          ],
          [
           "United States of America"
          ],
          [
           "United States of America"
          ],
          [
           "United States of America"
          ],
          [
           "United States of America"
          ],
          [
           "United States of America"
          ],
          [
           "United States of America"
          ],
          [
           "United States of America"
          ],
          [
           "United States of America"
          ],
          [
           "United States of America"
          ],
          [
           "Uruguay"
          ],
          [
           "Uruguay"
          ],
          [
           "Uzbekistan"
          ],
          [
           "Uzbekistan"
          ],
          [
           "Uzbekistan"
          ],
          [
           "Uzbekistan"
          ],
          [
           "Vanuatu"
          ],
          [
           "Venezuela (Bolivarian Republic of)"
          ],
          [
           "Venezuela (Bolivarian Republic of)"
          ],
          [
           "Venezuela (Bolivarian Republic of)"
          ],
          [
           "Viet Nam"
          ],
          [
           "Viet Nam"
          ],
          [
           "Viet Nam"
          ],
          [
           "Viet Nam"
          ],
          [
           "Viet Nam"
          ],
          [
           "Viet Nam"
          ],
          [
           "Viet Nam"
          ],
          [
           "Viet Nam"
          ],
          [
           "Yemen"
          ],
          [
           "Yemen"
          ],
          [
           "Yemen"
          ],
          [
           "Yemen"
          ],
          [
           "Zimbabwe"
          ],
          [
           "Zimbabwe"
          ],
          [
           "Zimbabwe"
          ],
          [
           "Zimbabwe"
          ],
          [
           "Albania,Austria,Belgium,Bulgaria,Croatia,Germany,Italy,Romania,Slovakia,Slovenia,Spain,Ukraine"
          ],
          [
           "Albania,North Macedonia"
          ],
          [
           "Argentina,Bolivia (Plurinational State of),Chile,Colombia,Ecuador,Peru"
          ],
          [
           "Argentina,Brazil"
          ],
          [
           "Austria,France,Germany,Italy,Slovenia,Switzerland"
          ],
          [
           "Austria,Hungary"
          ],
          [
           "Belarus,Estonia,Finland,Latvia,Lithuania,Norway,Republic of Moldova,Russian Federation,Sweden,Ukraine"
          ],
          [
           "Belarus,Poland"
          ],
          [
           "Belgium,France"
          ],
          [
           "Belgium,France,Germany,Switzerland,India,Japan,Argentina"
          ],
          [
           "Benin,Burkina Faso,Niger"
          ],
          [
           "Bosnia and Herzegovina,Croatia,Serbia,Montenegro"
          ],
          [
           "Cameroon,Central African Republic,Congo"
          ],
          [
           "Canada,United States of America"
          ],
          [
           "Canada,United States of America"
          ],
          [
           "China,Kazakhstan,Kyrgyzstan"
          ],
          [
           "Costa Rica,Panama"
          ],
          [
           "Côte d'Ivoire,Guinea"
          ],
          [
           "Croatia,Italy,Montenegro"
          ],
          [
           "Czechia,Germany"
          ],
          [
           "Denmark,Germany,Netherlands"
          ],
          [
           "Finland,Sweden"
          ],
          [
           "France,Spain"
          ],
          [
           "Gambia (the),Senegal"
          ],
          [
           "Germany,Poland"
          ],
          [
           "Germany,United Kingdom of Great Britain and Northern Ireland"
          ],
          [
           "Holy See,Italy"
          ],
          [
           "Hungary,Slovakia"
          ],
          [
           "Italy,Switzerland"
          ],
          [
           "Italy,Switzerland"
          ],
          [
           "Kazakhstan,Kyrgyzstan,Uzbekistan"
          ],
          [
           "Lesotho,South Africa"
          ],
          [
           "Lithuania,Russian Federation"
          ],
          [
           "Poland,Ukraine"
          ],
          [
           "Portugal,Spain"
          ],
          [
           "Russian Federation,Mongolia"
          ],
          [
           "Russian Federation,Mongolia"
          ],
          [
           "Slovenia,Spain"
          ],
          [
           "Zambia,Zimbabwe"
          ]
         ],
         "hovertemplate": "<b>%{hovertext}</b><br><br>latitude=%{lat}<br>longitude=%{lon}<br>states_name_en=%{customdata[0]}<extra></extra>",
         "hovertext": [
          "Cultural Landscape and Archaeological Remains of the Bamiyan Valley",
          "Minaret and Archaeological Remains of Jam",
          "Historic Centres of Berat and Gjirokastra ",
          "Butrint",
          "Al Qal'a of Beni Hammad",
          "Tassili n'Ajjer",
          "M'Zab Valley",
          "Djémila",
          "Tipasa",
          "Timgad",
          "Kasbah of Algiers",
          "Madriu-Perafita-Claror Valley",
          "Mbanza Kongo, Vestiges of the Capital of the former Kingdom of Kongo",
          "Antigua Naval Dockyard and Related Archaeological Sites",
          "Los Glaciares National Park",
          "Iguazu National Park",
          "Cueva de las Manos, Río Pinturas",
          "Península Valdés",
          "Ischigualasto / Talampaya Natural Parks",
          "Jesuit Block and Estancias of Córdoba",
          "Quebrada de Humahuaca",
          "Los Alerces National Park",
          "Monasteries of Haghpat and Sanahin",
          "Monastery of Geghard and the Upper Azat Valley",
          "Cathedral and Churches of Echmiatsin and the Archaeological Site of Zvartnots",
          "Kakadu National Park",
          "Great Barrier Reef",
          "Sydney Opera House",
          "Willandra Lakes Region",
          "Tasmanian Wilderness",
          "Lord Howe Island Group",
          "Gondwana Rainforests of Australia",
          "Ulu<U>r</U>u-Kata Tju<U>t</U>a National Park",
          "Wet Tropics of Queensland",
          "Heard and McDonald Islands",
          "Shark Bay, Western Australia",
          "Macquarie Island",
          "Fraser Island",
          "Australian Fossil Mammal Sites (Riversleigh / Naracoorte)",
          "Greater Blue Mountains Area",
          "Purnululu National Park",
          "Royal Exhibition Building and Carlton Gardens",
          "Australian Convict Sites",
          "Ningaloo Coast",
          "Budj Bim Cultural Landscape",
          "Historic Centre of the City of Salzburg",
          "Semmering Railway",
          "Palace and Gardens of Schönbrunn",
          "Hallstatt-Dachstein / Salzkammergut Cultural Landscape",
          "City of Graz – Historic Centre and Schloss Eggenberg",
          "Wachau Cultural Landscape",
          "Historic Centre of Vienna",
          "Walled City of Baku with the Shirvanshah's Palace and Maiden Tower",
          "Gobustan Rock Art Cultural Landscape",
          "Historic Centre of Sheki with the Khan’s Palace",
          "Qal’at al-Bahrain – Ancient Harbour and Capital of Dilmun",
          "Pearling, Testimony of an Island Economy",
          "Dilmun Burial Mounds",
          "Historic Mosque City of Bagerhat",
          "Ruins of the Buddhist Vihara at Paharpur",
          "The Sundarbans",
          "Historic Bridgetown and its Garrison",
          "Mir Castle Complex",
          "Architectural, Residential and Cultural Complex of the Radziwill Family at Nesvizh",
          "Flemish Béguinages",
          "The Four Lifts on the Canal du Centre and their Environs, La Louvière and Le Roeulx (Hainaut)",
          "La Grand-Place, Brussels",
          "Historic Centre of Brugge",
          "Major Town Houses of the Architect Victor Horta (Brussels)",
          "Neolithic Flint Mines at Spiennes (Mons)",
          "Notre-Dame Cathedral in Tournai",
          "Plantin-Moretus House-Workshops-Museum Complex",
          "Stoclet House",
          "Major Mining Sites of Wallonia",
          "Belize Barrier Reef Reserve System",
          "Royal Palaces of Abomey",
          "City of Potosí",
          "Jesuit Missions of the Chiquitos",
          "Historic City of Sucre",
          "Tiwanaku: Spiritual and Political Centre of the Tiwanaku Culture",
          "Fuerte de Samaipata",
          "Noel Kempff Mercado National Park",
          "Old Bridge Area of the Old City of Mostar",
          "Mehmed Paša Sokolović Bridge in Višegrad",
          "Tsodilo",
          "Okavango Delta",
          "Historic Town of Ouro Preto",
          "Historic Centre of the Town of Olinda",
          "Historic Centre of Salvador de Bahia",
          "Sanctuary of Bom Jesus do Congonhas",
          "Iguaçu National Park",
          "Brasilia",
          "Serra da Capivara National Park",
          "Historic Centre of São Luís",
          "Historic Centre of the Town of Diamantina",
          "Discovery Coast Atlantic Forest Reserves",
          "Atlantic Forest South-East Reserves",
          "Historic Centre of the Town of Goiás",
          "Central Amazon Conservation Complex",
          "Pantanal Conservation Area",
          "Brazilian Atlantic Islands: Fernando de Noronha and Atol das Rocas Reserves",
          "Cerrado Protected Areas: Chapada dos Veadeiros and Emas National Parks",
          "Rio de Janeiro: Carioca Landscapes between the Mountain and the Sea",
          "São Francisco Square in the Town of São Cristóvão",
          "Paraty and Ilha Grande – Culture and Biodiversity",
          "Pampulha Modern Ensemble",
          "Valongo Wharf Archaeological Site",
          "Boyana Church",
          "Madara Rider",
          "Thracian Tomb of Kazanlak",
          "Rock-Hewn Churches of Ivanovo",
          "Rila Monastery",
          "Ancient City of Nessebar",
          "Srebarna Nature Reserve",
          "Pirin National Park",
          "Thracian Tomb of Sveshtari",
          "Ruins of Loropéni",
          "Ancient ferrous metallurgy sites of Burkina Faso",
          "Cidade Velha, Historic Centre of Ribeira Grande",
          "Angkor",
          "Temple of Preah Vihear",
          "Temple Zone of Sambor Prei Kuk, Archaeological Site of Ancient Ishanapura",
          "Dja Faunal Reserve",
          "L’Anse aux Meadows National Historic Site",
          "Nahanni National Park",
          "Dinosaur Provincial Park",
          "S<U>G</U>ang Gwaay",
          "Head-Smashed-In Buffalo Jump",
          "Wood Buffalo National Park",
          "Historic District of Old Québec",
          "Canadian Rocky Mountain Parks",
          "Gros Morne National Park",
          "Miguasha National Park",
          "Old Town Lunenburg",
          "Rideau Canal",
          "Joggins Fossil Cliffs",
          "Landscape of Grand Pré",
          "Red Bay Basque Whaling Station",
          "Pimachiowin Aki",
          "Mistaken Point",
          "Writing-on-Stone / Áísínai’pi",
          "Manovo-Gounda St Floris National Park",
          "Lakes of Ounianga",
          "Ennedi Massif: Natural and Cultural Landscape",
          "Rapa Nui National Park",
          "Historic Quarter of the Seaport City of Valparaíso",
          "Churches of Chiloé",
          "Humberstone and Santa Laura Saltpeter Works",
          "Sewell Mining Town",
          "Mount Taishan",
          "The Great Wall",
          "Imperial Palaces of the Ming and Qing Dynasties in Beijing and Shenyang",
          "Mogao Caves",
          "Mausoleum of the First Qin Emperor",
          "Peking Man Site at Zhoukoudian",
          "Mount Huangshan",
          "Jiuzhaigou Valley Scenic and Historic Interest Area",
          "Huanglong Scenic and Historic Interest Area",
          "Wulingyuan Scenic and Historic Interest Area",
          "Mountain Resort and its Outlying Temples, Chengde",
          "Temple and Cemetery of Confucius and the Kong Family Mansion in Qufu",
          "Ancient Building Complex in the Wudang Mountains",
          "Historic Ensemble of the Potala Palace, Lhasa",
          "Lushan National Park",
          "Mount Emei Scenic Area, including Leshan Giant Buddha Scenic Area",
          "Old Town of Lijiang",
          "Ancient City of Ping Yao",
          "Classical Gardens of Suzhou",
          "Summer Palace, an Imperial Garden in Beijing",
          "Temple of Heaven: an Imperial Sacrificial Altar in Beijing",
          "Mount Wuyi",
          "Dazu Rock Carvings",
          "Mount Qingcheng and the Dujiangyan Irrigation System",
          "Ancient Villages in Southern Anhui – Xidi and Hongcun",
          "Longmen Grottoes",
          "Imperial Tombs of the Ming and Qing Dynasties",
          "Yungang Grottoes",
          "Three Parallel Rivers of Yunnan Protected Areas",
          "Historic Centre of Macao",
          "Cultural Landscape of Honghe Hani Rice Terraces ",
          "Kaiping Diaolou and Villages",
          "Fujian <em>Tulou</em>",
          "Yin Xu",
          "Capital Cities and Tombs of the Ancient Koguryo Kingdom",
          "Sichuan Giant Panda Sanctuaries - Wolong, Mt Siguniang and Jiajin Mountains ",
          "South China Karst",
          "Mount Wutai",
          "Mount Sanqingshan National Park",
          "Historic Monuments of Dengfeng in “The Centre of Heaven and Earth”",
          "West Lake Cultural Landscape of Hangzhou",
          "China Danxia",
          "Chengjiang Fossil Site",
          "Site of Xanadu",
          "Xinjiang Tianshan",
          "The Grand Canal",
          "Tusi Sites",
          "Zuojiang Huashan Rock Art Cultural Landscape",
          "Hubei Shennongjia",
          "Qinghai Hoh Xil",
          "Kulangsu, a Historic International Settlement",
          "Fanjingshan",
          "Archaeological Ruins of Liangzhu City",
          "Migratory Bird Sanctuaries along the Coast of Yellow Sea-Bohai Gulf of China (Phase I)",
          "Port, Fortresses and Group of Monuments, Cartagena",
          "Los Katíos National Park",
          "Historic Centre of Santa Cruz de Mompox",
          "National Archeological Park of Tierradentro",
          "San Agustín Archaeological Park",
          "Coffee Cultural Landscape of Colombia",
          "Chiribiquete National Park – “The Maloca of the Jaguar”",
          "Malpelo Fauna and Flora Sanctuary",
          "Cocos Island National Park",
          "Area de Conservación Guanacaste",
          "Precolumbian Chiefdom Settlements with Stone Spheres of the Diquís",
          "Taï National Park",
          "Comoé National Park",
          "Historic Town of Grand-Bassam",
          "Old City of Dubrovnik",
          "Historical Complex of Split with the Palace of Diocletian",
          "Plitvice Lakes National Park",
          "Episcopal Complex of the Euphrasian Basilica in the Historic Centre of Poreč",
          "Historic City of Trogir",
          "The Cathedral of St James in Šibenik",
          "Stari Grad Plain",
          "Old Havana and its Fortification System",
          "Trinidad and the Valley de los Ingenios",
          "Alejandro de Humboldt National Park",
          "Viñales Valley",
          "San Pedro de la Roca Castle, Santiago de Cuba",
          "Desembarco del Granma National Park",
          "Archaeological Landscape of the First Coffee Plantations in the South-East of Cuba",
          "Urban Historic Centre of Cienfuegos ",
          "Historic Centre of Camagüey",
          "Paphos",
          "Painted Churches in the Troodos Region",
          "Choirokoitia",
          "Historic Centre of Prague",
          "Historic Centre of Český Krumlov",
          "Historic Centre of Telč",
          "Pilgrimage Church of St John of Nepomuk at Zelená Hora",
          "Kutná Hora: Historical Town Centre with the Church of St Barbara and the Cathedral of Our Lady at Sedlec",
          "Lednice-Valtice Cultural Landscape",
          "Holy Trinity Column in Olomouc",
          "Gardens and Castle at Kroměříž",
          "Holašovice Historic Village",
          "Litomyšl Castle",
          "Tugendhat Villa in Brno",
          "Jewish Quarter and St Procopius' Basilica in Třebíč",
          "Landscape for Breeding and Training of Ceremonial Carriage Horses at Kladruby nad Labem",
          "Complex of Koguryo Tombs",
          "Historic Monuments and Sites in Kaesong",
          "Virunga National Park",
          "Garamba National Park",
          "Kahuzi-Biega National Park",
          "Salonga National Park",
          "Okapi Wildlife Reserve",
          "Roskilde Cathedral",
          "Kronborg Castle",
          "Jelling Mounds, Runic Stones and Church",
          "Ilulissat Icefjord",
          "Stevns Klint",
          "Christiansfeld, a Moravian Church Settlement",
          "The par force hunting landscape in North Zealand",
          "Kujataa Greenland: Norse and Inuit Farming at the Edge of the Ice Cap",
          "Aasivissuit – Nipisat. Inuit Hunting Ground between Ice and Sea",
          "Morne Trois Pitons National Park",
          "Colonial City of Santo Domingo",
          "Galápagos Islands",
          "City of Quito",
          "Sangay National Park",
          "Historic Centre of Santa Ana de los Ríos de Cuenca",
          "Memphis and its Necropolis – the Pyramid Fields from Giza to Dahshur",
          "Ancient Thebes with its Necropolis",
          "Nubian Monuments from Abu Simbel to Philae",
          "Historic Cairo",
          "Abu Mena",
          "Saint Catherine Area",
          "Wadi Al-Hitan (Whale Valley)",
          "Joya de Cerén Archaeological Site",
          "Asmara: A Modernist African City",
          "Historic Centre (Old Town) of Tallinn",
          "Simien National Park",
          "Lower Valley of the Awash",
          "Tiya",
          "Aksum",
          "Lower Valley of the Omo",
          "Rock-Hewn Churches, Lalibela",
          "Fasil Ghebbi, Gondar Region",
          "Harar Jugol, the Fortified Historic Town",
          "Konso Cultural Landscape",
          "Levuka Historical Port Town",
          "Bronze Age Burial Site of Sammallahdenmäki",
          "Old Rauma",
          "Fortress of Suomenlinna",
          "Petäjävesi Old Church",
          "Verla Groundwood and Board Mill",
          "Mont-Saint-Michel and its Bay",
          "Chartres Cathedral",
          "Palace and Park of Versailles",
          "Vézelay, Church and Hill",
          "Prehistoric Sites and Decorated Caves of the Vézère Valley",
          "Palace and Park of Fontainebleau",
          "Amiens Cathedral",
          "Roman Theatre and its Surroundings and the \"Triumphal Arch\" of Orange",
          "Arles, Roman and Romanesque Monuments",
          "Cistercian Abbey of Fontenay",
          "From the Great Saltworks of Salins-les-Bains to the Royal Saltworks of Arc-et-Senans, the Production of Open-pan Salt ",
          "Historic Centre of Avignon: Papal Palace, Episcopal Ensemble and Avignon Bridge",
          "Place Stanislas, Place de la Carrière and Place d'Alliance in Nancy",
          "Abbey Church of Saint-Savin sur Gartempe",
          "Gulf of Porto: Calanche of Piana, Gulf of Girolata, Scandola Reserve",
          "Pont du Gard (Roman Aqueduct)",
          "Historic Fortified City of Carcassonne",
          "Strasbourg, Grande-Île and <em>Neustadt</em>",
          "Paris, Banks of the Seine",
          "Cathedral of Notre-Dame, Former Abbey of Saint-Rémi and Palace of Tau, Reims",
          "Bourges Cathedral",
          "Canal du Midi",
          "Routes of Santiago de Compostela in France",
          "Historic Site of Lyon",
          "Provins, Town of Medieval Fairs",
          "Jurisdiction of Saint-Emilion",
          "The Loire Valley between Sully-sur-Loire and Chalonnes",
          "Lagoons of New Caledonia: Reef Diversity and Associated Ecosystems",
          "The Causses and the Cévennes, Mediterranean agro-pastoral Cultural Landscape",
          "Le Havre, the City Rebuilt by Auguste Perret",
          "Bordeaux, Port of the Moon",
          "Fortifications of Vauban",
          "Pitons, cirques and remparts of Reunion Island",
          "Episcopal City of Albi",
          "Nord-Pas de Calais Mining Basin",
          "The Climats, terroirs of Burgundy",
          "Decorated Cave of Pont d’Arc, known as Grotte Chauvet-Pont d’Arc, Ardèche",
          "Chaîne des Puys - Limagne fault tectonic arena",
          "Champagne Hillsides, Houses and Cellars",
          "Taputapuātea",
          "French Austral Lands and Seas",
          "Ecosystem and Relict Cultural Landscape of Lopé-Okanda",
          "Kunta Kinteh Island and Related Sites",
          "Historical Monuments of Mtskheta",
          "Upper Svaneti",
          "Gelati Monastery",
          "Aachen Cathedral ",
          "Speyer Cathedral",
          "Würzburg Residence with the Court Gardens and Residence Square",
          "St Mary's Cathedral and St Michael's Church at Hildesheim",
          "Pilgrimage Church of Wies",
          "Hanseatic City of Lübeck",
          "Castles of Augustusburg and Falkenlust at Brühl",
          "Cologne Cathedral",
          "Roman Monuments, Cathedral of St Peter and Church of Our Lady in Trier",
          "Abbey and Altenmünster of Lorsch",
          "Palaces and Parks of Potsdam and Berlin",
          "Garden Kingdom of Dessau-Wörlitz",
          "Collegiate Church, Castle and Old Town of Quedlinburg",
          "Maulbronn Monastery Complex",
          "Mines of Rammelsberg, Historic Town of Goslar and Upper Harz Water Management  System",
          "Town of Bamberg",
          "Völklingen Ironworks",
          "Messel Pit Fossil Site",
          "Bauhaus and its Sites in Weimar, Dessau and Bernau",
          "Luther Memorials in Eisleben and Wittenberg",
          "Classical Weimar",
          "Museumsinsel (Museum Island), Berlin",
          "Wartburg Castle",
          "Monastic Island of Reichenau",
          "Zollverein Coal Mine Industrial Complex in Essen",
          "Upper Middle Rhine Valley",
          "Historic Centres of Stralsund and Wismar",
          "Town Hall and Roland on the Marketplace of Bremen",
          "Old town of Regensburg with Stadtamhof",
          "Berlin Modernism Housing Estates",
          "Fagus Factory in Alfeld",
          "Margravial Opera House Bayreuth",
          "Bergpark Wilhelmshöhe",
          "Carolingian Westwork and Civitas Corvey",
          "Speicherstadt and Kontorhaus District with Chilehaus",
          "Naumburg Cathedral",
          "Caves and Ice Age Art in the Swabian Jura",
          "Archaeological Border complex of Hedeby and the Danevirke",
          "Water Management System of Augsburg",
          "Forts and Castles, Volta, Greater Accra, Central and Western Regions",
          "Asante Traditional Buildings",
          "Temple of Apollo Epicurius at Bassae",
          "Archaeological Site of Delphi",
          "Acropolis, Athens",
          "Mount Athos",
          "Meteora",
          "Paleochristian and Byzantine Monuments of Thessalonika",
          "Sanctuary of Asklepios at Epidaurus",
          "Medieval City of Rhodes",
          "Archaeological Site of Mystras",
          "Archaeological Site of Olympia",
          "Delos",
          "Monasteries of Daphni, Hosios Loukas and Nea Moni of Chios",
          "Pythagoreion and Heraion of Samos",
          "Archaeological Site of Aigai (modern name Vergina)",
          "Archaeological Sites of Mycenae and Tiryns",
          "The Historic Centre (Chorá) with the Monastery of Saint-John the Theologian and the Cave of the Apocalypse on the Island of Pátmos",
          "Old Town of Corfu",
          "Archaeological Site of Philippi",
          "Tikal National Park",
          "Antigua Guatemala",
          "Archaeological Park and Ruins of Quirigua",
          "National History Park – Citadel, Sans Souci, Ramiers",
          "Vatican City",
          "Maya Site of Copan",
          "Río Plátano Biosphere Reserve",
          "Budapest, including the Banks of the Danube, the Buda Castle Quarter and Andrássy Avenue",
          "Old Village of Hollókő and its Surroundings",
          "Hortobágy National Park - the <i>Puszta</i>",
          "Millenary Benedictine Abbey of Pannonhalma and its Natural Environment",
          "Early Christian Necropolis of Pécs (Sopianae)",
          "Tokaj Wine Region Historic Cultural Landscape",
          "Þingvellir National Park",
          "Surtsey",
          "Vatnajökull National Park - dynamic nature of fire and ice",
          "Red Fort Complex",
          "Humayun's Tomb, Delhi",
          "Qutb Minar and its Monuments, Delhi",
          "Churches and Convents of Goa",
          "Group of Monuments at Pattadakal",
          "Khajuraho Group of Monuments",
          "Group of Monuments at Hampi",
          "Ajanta Caves",
          "Ellora Caves",
          "Elephanta Caves",
          "Sun Temple, Konârak",
          "Hill Forts of Rajasthan",
          "Group of Monuments at Mahabalipuram",
          "Great Living Chola Temples",
          "Agra Fort",
          "Taj Mahal",
          "Fatehpur Sikri",
          "Nanda Devi and Valley of Flowers National Parks  ",
          "Kaziranga National Park",
          "Manas Wildlife Sanctuary",
          "Keoladeo National Park",
          "Sundarbans National Park",
          "Buddhist Monuments at Sanchi",
          "Rani-ki-Vav (the Queen’s Stepwell) at Patan, Gujarat",
          "Rock Shelters of Bhimbetka",
          "Mountain Railways of India",
          "Chhatrapati Shivaji Terminus (formerly Victoria Terminus)",
          "Mahabodhi Temple Complex at Bodh Gaya",
          "Champaner-Pavagadh Archaeological Park",
          "The Jantar Mantar, Jaipur",
          "Western Ghats",
          "Great Himalayan National Park Conservation Area",
          "Victorian Gothic and Art Deco Ensembles of Mumbai",
          "Archaeological Site of Nalanda Mahavihara at Nalanda, Bihar",
          "Khangchendzonga National Park",
          "Historic City of Ahmadabad",
          "Jaipur City, Rajasthan",
          "Borobudur Temple Compounds",
          "Sangiran Early Man Site",
          "Ujung Kulon National Park",
          "Komodo National Park",
          "Prambanan Temple Compounds",
          "Lorentz National Park",
          "Tropical Rainforest Heritage of Sumatra",
          "Cultural Landscape of Bali Province: the <em>Subak</em> System as a Manifestation of the <em>Tri Hita Karana</em> Philosophy",
          "Ombilin Coal Mining Heritage of Sawahlunto",
          "Tchogha Zanbil",
          "Persepolis",
          "Meidan Emam, Esfahan",
          "Takht-e Soleyman",
          "Pasargadae",
          "Soltaniyeh",
          "Bam and its Cultural Landscape",
          "Bisotun",
          "Armenian Monastic Ensembles of Iran",
          "Shushtar Historical Hydraulic System",
          "Sheikh Safi al-din Khānegāh and Shrine Ensemble in Ardabil",
          "Tabriz Historic Bazaar Complex",
          "The Persian Garden",
          "Masjed-e Jāmé of Isfahan  ",
          "Gonbad-e Qābus",
          "Golestan Palace",
          "Cultural Landscape of Maymand",
          "Susa",
          "Shahr-i Sokhta",
          "Lut Desert",
          "The Persian Qanat",
          "Historic City of Yazd",
          "Sassanid Archaeological Landscape of Fars Region",
          "Hyrcanian Forests",
          "Samarra Archaeological City",
          "Hatra",
          "Babylon",
          "Ashur (Qal'at Sherqat)",
          "Erbil Citadel",
          "The Ahwar of Southern Iraq: Refuge of Biodiversity and the Relict Landscape of the Mesopotamian Cities",
          "Brú na Bóinne - Archaeological Ensemble of the Bend of the Boyne",
          "Sceilg Mhichíl",
          "Masada",
          "Old City of Acre",
          "White City of Tel-Aviv – the Modern Movement",
          "Incense Route - Desert Cities in the Negev",
          "Biblical Tels - Megiddo, Hazor, Beer Sheba",
          "Bahá’i Holy Places in Haifa and the Western Galilee",
          "Caves of Maresha and Bet-Guvrin in the Judean Lowlands as a Microcosm of the Land of the Caves",
          "Sites of Human Evolution at Mount Carmel: The Nahal Me’arot / Wadi el-Mughara Caves",
          "Necropolis of Bet She’arim: A Landmark of Jewish Renewal",
          "Church and Dominican Convent of Santa Maria delle Grazie with “The Last Supper” by Leonardo da Vinci",
          "Rock Drawings in Valcamonica",
          "Historic Centre of Florence",
          "Medici Villas and Gardens in Tuscany",
          "Venice and its Lagoon",
          "Piazza del Duomo, Pisa",
          "Castel del Monte",
          "18th-Century Royal Palace at Caserta with the Park, the Aqueduct of Vanvitelli, and the San Leucio Complex",
          "Historic Centre of San Gimignano",
          "The Sassi and the Park of the Rupestrian Churches of Matera",
          "City of Vicenza and the Palladian Villas of the Veneto",
          "Historic Centre of Siena",
          "Historic Centre of Naples",
          "Crespi d'Adda",
          "Ferrara, City of the Renaissance, and its Po Delta",
          "The <I>Trulli</I> of Alberobello",
          "Early Christian Monuments of Ravenna",
          "Historic Centre of the City of Pienza",
          "City of Verona",
          "Residences of the Royal House of Savoy",
          "Botanical Garden (Orto Botanico), Padua",
          "Archaeological Area and the Patriarchal Basilica of Aquileia",
          "Portovenere, Cinque Terre, and the Islands (Palmaria, Tino and Tinetto)",
          "Cathedral, Torre Civica and Piazza Grande, Modena",
          "Historic Centre of Urbino",
          "Archaeological Areas of Pompei, Herculaneum and Torre Annunziata",
          "Costiera Amalfitana",
          "Archaeological Area of Agrigento",
          "Villa Romana del Casale",
          "Su Nuraxi di Barumini",
          "Cilento and Vallo di Diano National Park with the Archeological Sites of Paestum and Velia, and the Certosa di Padula",
          "Villa Adriana (Tivoli)",
          "Isole Eolie (Aeolian Islands)",
          "Assisi, the Basilica of San Francesco and Other Franciscan Sites",
          "Late Baroque Towns of the Val di Noto (South-Eastern Sicily)",
          "Villa d'Este, Tivoli",
          "Val d'Orcia",
          "<I>Sacri Monti</I> of Piedmont and Lombardy",
          "Etruscan Necropolises of Cerveteri and Tarquinia",
          "Syracuse and the Rocky Necropolis of Pantalica",
          "Genoa: <i>Le Strade Nuove</i> and the system of the<i> Palazzi dei Rolli</i>",
          "The Dolomites",
          "Mantua and Sabbioneta",
          "Longobards in Italy. Places of the Power (568-774 A.D.)",
          "Vineyard Landscape of Piedmont: Langhe-Roero and Monferrato",
          "Mount Etna",
          "Arab-Norman Palermo and the Cathedral Churches of Cefalú and Monreale",
          "Ivrea, industrial city of the 20th century",
          "Le Colline del Prosecco di Conegliano e Valdobbiadene",
          "Blue and John Crow Mountains ",
          "Buddhist Monuments in the Horyu-ji Area",
          "Himeji-jo",
          "Yakushima",
          "Shirakami-Sanchi",
          "Historic Monuments of Ancient Kyoto (Kyoto, Uji and Otsu Cities)",
          "Historic Villages of Shirakawa-go and Gokayama",
          "Hiroshima Peace Memorial (Genbaku Dome)",
          "Itsukushima Shinto Shrine",
          "Historic Monuments of Ancient Nara",
          "Shrines and Temples of Nikko",
          "Gusuku Sites and Related Properties of the Kingdom of Ryukyu",
          "Sacred Sites and Pilgrimage Routes in the Kii Mountain Range",
          "Shiretoko",
          "Iwami Ginzan Silver Mine and its Cultural Landscape",
          "Hiraizumi – Temples, Gardens and Archaeological Sites Representing the Buddhist Pure Land",
          "Ogasawara Islands",
          "Fujisan, sacred place and source of artistic inspiration",
          "Tomioka Silk Mill and Related Sites",
          "Sites of Japan’s Meiji Industrial Revolution: Iron and Steel, Shipbuilding and Coal Mining",
          "Hidden Christian Sites in the Nagasaki Region",
          "Sacred Island of Okinoshima and Associated Sites in the Munakata Region ",
          "Mozu-Furuichi Kofun Group: Mounded Tombs of Ancient Japan",
          "Old City of Jerusalem and its Walls",
          "Petra",
          "Quseir Amra",
          "Um er-Rasas (Kastrom Mefa'a)",
          "Wadi Rum Protected Area",
          "Baptism Site “Bethany Beyond the Jordan” (Al-Maghtas)",
          "Saryarka – Steppe and Lakes of Northern Kazakhstan",
          "Mausoleum of Khoja Ahmed Yasawi",
          "Petroglyphs within the Archaeological Landscape of Tamgaly",
          "Mount Kenya National Park/Natural Forest",
          "Lake Turkana National Parks",
          "Lamu Old Town",
          "Kenya Lake System in the Great Rift Valley",
          "Sacred Mijikenda Kaya Forests",
          "Fort Jesus, Mombasa",
          "Thimlich Ohinga Archaeological Site",
          "Phoenix Islands Protected Area",
          "Sulaiman-Too Sacred Mountain",
          "Town of Luang Prabang",
          "Vat Phou and Associated Ancient Settlements within the Champasak Cultural Landscape",
          "Megalithic Jar Sites in Xiengkhuang – Plain of Jars",
          "Historic Centre of Riga",
          "Anjar",
          "Baalbek",
          "Byblos",
          "Tyre",
          "Ouadi Qadisha (the Holy Valley) and the Forest of the Cedars of God (Horsh Arz el-Rab)",
          "Archaeological Site of Leptis Magna",
          "Archaeological Site of Sabratha",
          "Archaeological Site of Cyrene",
          "Rock-Art Sites of Tadrart Acacus",
          "Old Town of Ghadamès",
          "Vilnius Historic Centre",
          "Kernavė  Archaeological Site (Cultural Reserve of Kernavė)",
          "City of Luxembourg: its Old Quarters and Fortifications",
          "Tsingy de Bemaraha Strict Nature Reserve",
          "Royal Hill of Ambohimanga",
          "Rainforests of the Atsinanana",
          "Lake Malawi National Park",
          "Chongoni Rock-Art Area",
          "Kinabalu Park",
          "Gunung Mulu National Park",
          "Melaka and George Town, Historic Cities of the Straits of Malacca",
          "Archaeological Heritage of the Lenggong Valley",
          "Old Towns of Djenné",
          "Timbuktu",
          "Cliff of Bandiagara (Land of the Dogons)",
          "Tomb of Askia",
          "Ħal Saflieni Hypogeum",
          "City of Valletta",
          "Megalithic Temples of Malta",
          "Bikini Atoll Nuclear Test Site",
          "Banc d'Arguin National Park",
          "Ancient <I>Ksour</I> of Ouadane, Chinguetti, Tichitt and Oualata",
          "Aapravasi Ghat",
          "Le Morne Cultural Landscape",
          "Sian Ka'an",
          "Pre-Hispanic City and National Park of Palenque",
          "Historic Centre of Mexico City and Xochimilco",
          "Pre-Hispanic City of Teotihuacan",
          "Historic Centre of Oaxaca and Archaeological Site of Monte Albán",
          "Historic Centre of Puebla",
          "Historic Town of Guanajuato and Adjacent Mines",
          "Pre-Hispanic City of Chichen-Itza",
          "Whale Sanctuary of El Vizcaino",
          "Archaeological Zone of Paquimé, Casas Grandes",
          "Historic Centre of Morelia",
          "El Tajin, Pre-Hispanic City",
          "Historic Centre of Zacatecas",
          "Earliest 16th-Century Monasteries on the Slopes of Popocatepetl",
          "Rock Paintings of the Sierra de San Francisco",
          "Pre-Hispanic Town of Uxmal",
          "Historic Monuments Zone of Querétaro",
          "Hospicio Cabañas, Guadalajara",
          "Historic Monuments Zone of Tlacotalpan",
          "Historic Fortified Town of Campeche",
          "Archaeological Monuments Zone of Xochicalco",
          "Ancient Maya City and Protected Tropical Forests of Calakmul, Campeche",
          "Franciscan Missions in the Sierra Gorda of Querétaro",
          "Luis Barragán House and Studio",
          "Islands and Protected Areas of the Gulf of California",
          "Agave Landscape and Ancient Industrial Facilities of Tequila",
          "Central University City Campus of the <i>Universidad Nacional Autónoma de México</i> (UNAM)",
          "Protective town of San Miguel and the Sanctuary of Jesús Nazareno de Atotonilco",
          "Monarch Butterfly Biosphere Reserve",
          "Camino Real de Tierra Adentro",
          "Prehistoric Caves of Yagul and Mitla in the Central Valley of Oaxaca",
          "El Pinacate and Gran Desierto de Altar Biosphere Reserve",
          "Aqueduct of Padre Tembleque Hydraulic System",
          "Archipiélago de Revillagigedo",
          "Tehuacán-Cuicatlán Valley: originary habitat of Mesoamerica",
          "Nan Madol: Ceremonial Centre of Eastern Micronesia",
          "Orkhon Valley Cultural Landscape",
          "Petroglyphic Complexes of the Mongolian Altai",
          "Great Burkhan Khaldun Mountain and its surrounding sacred landscape",
          "Durmitor National Park",
          "Natural and Culturo-Historical Region of Kotor",
          "Medina of Fez",
          "Medina of Marrakesh",
          "Ksar of Ait-Ben-Haddou",
          "Medina of Essaouira (formerly Mogador)",
          "Historic City of Meknes",
          "Archaeological Site of Volubilis",
          "Medina of Tétouan (formerly known as Titawin)",
          "Portuguese City of Mazagan (El Jadida)",
          "Rabat, Modern Capital and Historic City: a Shared Heritage",
          "Island of Mozambique",
          "Pyu Ancient Cities",
          "Bagan",
          "Twyfelfontein or /Ui-//aes",
          "Namib Sand Sea",
          "Sagarmatha National Park",
          "Kathmandu Valley ",
          "Chitwan National Park",
          "Lumbini, the Birthplace of the Lord Buddha",
          "Schokland and Surroundings",
          "Defence Line of Amsterdam",
          "Mill Network at Kinderdijk-Elshout",
          "Historic Area of Willemstad, Inner City and Harbour, Curaçao",
          "Ir.D.F. Woudagemaal (D.F. Wouda Steam Pumping Station)",
          "Droogmakerij de Beemster (Beemster Polder)",
          "Rietveld Schröderhuis (Rietveld Schröder House)",
          "Seventeenth-Century Canal Ring Area of Amsterdam inside the Singelgracht",
          "Van Nellefabriek",
          "Tongariro National Park",
          "Te Wahipounamu – South West New Zealand",
          "New Zealand Sub-Antarctic Islands",
          "Ruins of León Viejo",
          "León Cathedral",
          "Air and Ténéré Natural Reserves",
          "Historic Centre of Agadez",
          "Sukur Cultural Landscape",
          "Osun-Osogbo Sacred Grove",
          "Røros Mining Town and the Circumference",
          "Urnes Stave Church",
          "Bryggen",
          "Rock Art of Alta",
          "Vegaøyan – The Vega Archipelago",
          "West Norwegian Fjords – Geirangerfjord and Nærøyfjord",
          "Rjukan-Notodden Industrial Heritage Site",
          "Bahla Fort",
          "Archaeological Sites of Bat, Al-Khutm and Al-Ayn",
          "Land of Frankincense",
          "<i>Aflaj</i> Irrigation Systems of Oman",
          "Ancient City of Qalhat",
          "Archaeological Ruins at Moenjodaro",
          "Taxila",
          "Buddhist Ruins of Takht-i-Bahi and Neighbouring City Remains at Sahr-i-Bahlol",
          "Historical Monuments at Makli, Thatta",
          "Fort and Shalamar Gardens in Lahore",
          "Rohtas Fort",
          "Rock Islands Southern Lagoon",
          "Birthplace of Jesus: Church of the Nativity and the Pilgrimage Route, Bethlehem",
          "Palestine: Land of Olives and Vines – Cultural Landscape of Southern Jerusalem, Battir",
          "Hebron/Al-Khalil Old Town",
          "Fortifications on the Caribbean Side of Panama: Portobelo-San Lorenzo",
          "Darien National Park",
          "Archaeological Site of Panamá Viejo and Historic District of Panamá",
          "Coiba National Park and its Special Zone of Marine Protection",
          "Kuk Early Agricultural Site",
          "Jesuit Missions of La Santísima Trinidad de Paraná and Jesús de Tavarangue",
          "City of Cuzco",
          "Historic Sanctuary of Machu Picchu",
          "Chavin (Archaeological Site)",
          "Huascarán National Park",
          "Chan Chan Archaeological Zone",
          "Manú National Park",
          "Historic Centre of Lima",
          "Río Abiseo National Park",
          "Lines and Geoglyphs of Nasca and Palpa",
          "Historical Centre of the City of Arequipa",
          "Sacred City of Caral-Supe",
          "Historic City of Vigan",
          "Puerto-Princesa Subterranean River National Park",
          "Tubbataha Reefs Natural Park",
          "Baroque Churches of the Philippines",
          "Rice Terraces of the Philippine Cordilleras",
          "Mount Hamiguitan Range Wildlife Sanctuary",
          "Historic Centre of Kraków",
          "Historic Centre of Warsaw",
          "Auschwitz Birkenau <br /><small>German Nazi Concentration and Extermination Camp (1940-1945)</small>",
          "Wieliczka and Bochnia Royal Salt Mines",
          "Old City of Zamość",
          "Medieval Town of Toruń",
          "Castle of the Teutonic Order in Malbork",
          "Kalwaria Zebrzydowska: the Mannerist Architectural and Park Landscape Complex and Pilgrimage Park",
          "Wooden Churches of Southern Małopolska",
          "Churches of Peace in Jawor and Świdnica",
          "Centennial Hall in Wrocław",
          "Tarnowskie Góry Lead-Silver-Zinc Mine and its Underground Water Management System",
          "Krzemionki Prehistoric Striped Flint Mining Region",
          "Central Zone of the Town of Angra do Heroismo in the Azores",
          "Monastery of the Hieronymites and Tower of Belém in Lisbon",
          "Monastery of Batalha",
          "Convent of Christ in Tomar",
          "Historic Centre of Évora",
          "Monastery of Alcobaça",
          "Cultural Landscape of Sintra",
          "Historic Centre of Oporto, Luiz I Bridge and Monastery of Serra do Pilar ",
          "Laurisilva of Madeira",
          "Historic Centre of Guimarães",
          "Alto Douro Wine Region",
          "Landscape of the Pico Island Vineyard Culture",
          "Garrison Border Town of Elvas and its Fortifications",
          "University of Coimbra – Alta and Sofia",
          "Royal Building of <i>Mafra</i> – Palace, Basilica, Convent, <i>Cerco</i> Garden and Hunting Park (<i>Tapada</i>)",
          "Sanctuary of Bom Jesus do Monte in Braga",
          "Al Zubarah Archaeological Site",
          "Seokguram Grotto and Bulguksa Temple",
          "Haeinsa Temple Janggyeong Panjeon, the Depositories for the <I>Tripitaka Koreana</I> Woodblocks",
          "Jongmyo Shrine",
          "Changdeokgung Palace Complex",
          "Hwaseong Fortress",
          "Gyeongju Historic Areas",
          "Gochang, Hwasun and Ganghwa Dolmen Sites",
          "Jeju Volcanic Island and Lava Tubes",
          "Royal Tombs of the Joseon Dynasty",
          "Historic Villages of Korea: Hahoe and Yangdong",
          "Namhansanseong",
          "Baekje Historic Areas",
          "Seowon, Korean Neo-Confucian Academies",
          "Sansa, Buddhist Mountain Monasteries in Korea",
          "Danube Delta",
          "Villages with Fortified Churches in Transylvania",
          "Monastery of Horezu",
          "Churches of Moldavia",
          "Historic Centre of Sighişoara",
          "Wooden Churches of Maramureş",
          "Dacian Fortresses of the Orastie Mountains",
          "Historic Centre of Saint Petersburg and Related Groups of Monuments",
          "Kizhi Pogost",
          "Kremlin and Red Square, Moscow",
          "Historic Monuments of Novgorod and Surroundings",
          "Cultural and Historic Ensemble of the Solovetsky Islands",
          "White Monuments of Vladimir and Suzdal",
          "Church of the Ascension, Kolomenskoye",
          "Architectural Ensemble of the Trinity Sergius Lavra in Sergiev Posad",
          "Virgin Komi Forests",
          "Lake Baikal",
          "Volcanoes of Kamchatka",
          "Central Sikhote-Alin",
          "Golden Mountains of Altai",
          "Western Caucasus",
          "Historic and Architectural Complex of the Kazan Kremlin",
          "Bolgar Historical and Archaeological Complex",
          "Ensemble of the Ferapontov Monastery",
          "Natural System of Wrangel Island Reserve",
          "Citadel, Ancient City and Fortress Buildings of Derbent",
          "Ensemble of the Novodevichy Convent",
          "Historical Centre of the City of Yaroslavl",
          "Putorana Plateau",
          "Lena Pillars Nature Park",
          "Churches of the Pskov School of Architecture",
          "Assumption Cathedral and Monastery of the town-island of Sviyazhsk",
          "Brimstone Hill Fortress National Park",
          "Pitons Management Area",
          "San Marino Historic Centre and Mount Titano",
          "Al-Hijr Archaeological Site (Madâin Sâlih)",
          "At-Turaif District in ad-Dir'iyah",
          "Historic Jeddah, the Gate to Makkah",
          "Rock Art in the Hail Region of Saudi Arabia",
          "Al-Ahsa Oasis, an Evolving Cultural Landscape",
          "Djoudj National Bird Sanctuary",
          "Island of Gorée",
          "Niokolo-Koba National Park",
          "Island of Saint-Louis",
          "Saloum Delta",
          "Bassari Country: Bassari, Fula and Bedik Cultural Landscapes",
          "Stari Ras and Sopoćani",
          "Studenica Monastery",
          "Medieval Monuments in Kosovo",
          "Gamzigrad-Romuliana, Palace of Galerius",
          "Aldabra Atoll",
          "Vallée de Mai Nature Reserve",
          "Singapore Botanic Gardens",
          "Historic Town of Banská Štiavnica and the Technical Monuments in its Vicinity",
          "Levoča, Spišský Hrad and the Associated Cultural Monuments",
          "Vlkolínec",
          "Bardejov Town Conservation Reserve",
          "Wooden Churches of the Slovak part of the Carpathian Mountain Area",
          "Škocjan Caves",
          "East Rennell",
          "iSimangaliso Wetland Park",
          "Fossil Hominid Sites of South Africa",
          "Robben Island",
          "Cape Floral Region Protected Areas",
          "Mapungubwe Cultural Landscape",
          "Vredefort Dome",
          "Richtersveld Cultural and Botanical Landscape",
          "ǂKhomani Cultural Landscape",
          "Barberton Makhonjwa Mountains",
          "Cave of Altamira and Paleolithic Cave Art of Northern Spain",
          "Old Town of Segovia and its Aqueduct",
          "Monuments of Oviedo and the Kingdom of the Asturias",
          "Historic Centre of Cordoba",
          "Alhambra, Generalife and Albayzín, Granada",
          "Burgos Cathedral",
          "Monastery and Site of the Escurial, Madrid",
          "Works of Antoni Gaudí ",
          "Santiago de Compostela (Old Town)",
          "Old Town of Ávila with its Extra-Muros Churches",
          "Mudejar Architecture of Aragon",
          "Historic City of Toledo",
          "Garajonay National Park",
          "Old City of Salamanca",
          "Cathedral, Alcázar and Archivo de Indias in Seville",
          "Old Town of Cáceres",
          "Ibiza, Biodiversity and Culture",
          "Poblet Monastery",
          "Renaissance Monumental Ensembles of Úbeda and Baeza",
          "Archaeological Ensemble of Mérida",
          "Royal Monastery of Santa María de Guadalupe",
          "Routes of Santiago de Compostela: <i>Camino Francés</i> and Routes of Northern Spain ",
          "Doñana National Park",
          "Historic Walled Town of Cuenca",
          "La Lonja de la Seda de Valencia",
          "Las Médulas",
          "Palau de la Música Catalana and Hospital de Sant Pau, Barcelona",
          "San Millán Yuso and Suso Monasteries",
          "Rock Art of the Mediterranean Basin on the Iberian Peninsula",
          "Archaeological Ensemble of Tárraco",
          "University and Historic Precinct of Alcalá de Henares",
          "San Cristóbal de La Laguna",
          "Palmeral of Elche",
          "Roman Walls of Lugo",
          "Catalan Romanesque Churches of the Vall de Boí",
          "Archaeological Site of Atapuerca",
          "Aranjuez Cultural Landscape",
          "Vizcaya Bridge",
          "Teide National Park",
          "Tower of Hercules",
          "Cultural Landscape of the Serra de Tramuntana",
          "Antequera Dolmens Site",
          "Caliphate City of Medina Azahara",
          "Risco Caido and the Sacred Mountains of Gran Canaria Cultural Landscape",
          "Sacred City of Anuradhapura",
          "Ancient City of Polonnaruwa",
          "Ancient City of Sigiriya",
          "Sinharaja Forest Reserve",
          "Sacred City of Kandy",
          "Old Town of Galle and its Fortifications",
          "Golden Temple of Dambulla",
          "Central Highlands of Sri Lanka",
          "Sanganeb Marine National Park and Dungonab Bay – Mukkawar Island Marine National Park",
          "Gebel Barkal and the Sites of the Napatan Region",
          "Archaeological Sites of the Island of Meroe",
          "Historic Inner City of Paramaribo",
          "Central Suriname Nature Reserve",
          "Birka and Hovgården",
          "Engelsberg Ironworks",
          "Rock Carvings in Tanum",
          "Skogskyrkogården",
          "Royal Domain of Drottningholm",
          "Hanseatic Town of Visby",
          "Church Town of Gammelstad, Luleå ",
          "Laponian Area",
          "Naval Port of Karlskrona",
          "Agricultural Landscape of Southern Öland",
          "Mining Area of the Great Copper Mountain in Falun",
          "Grimeton Radio Station, Varberg",
          "Decorated Farmhouses of Hälsingland",
          "Old City of Berne",
          "Abbey of St Gall",
          "Benedictine Convent of St John at Müstair",
          "Three Castles, Defensive Wall and Ramparts of the Market-Town of Bellinzona",
          "Swiss Alps Jungfrau-Aletsch",
          "Swiss Tectonic Arena Sardona",
          "Lavaux, Vineyard Terraces",
          "La Chaux-de-Fonds / Le Locle, Watchmaking Town Planning",
          "Ancient City of Damascus",
          "Ancient City of Aleppo",
          "Ancient City of Bosra",
          "Site of Palmyra",
          "Crac des Chevaliers and Qal’at Salah El-Din",
          "Ancient Villages of Northern Syria",
          "Proto-urban Site of Sarazm",
          "Tajik National Park (Mountains of the Pamirs)",
          "Historic Town of Sukhothai and Associated Historic Towns",
          "Ban Chiang Archaeological Site",
          "Historic City of Ayutthaya",
          "Dong Phayayen-Khao Yai Forest Complex",
          "Thungyai-Huai Kha Khaeng Wildlife Sanctuaries",
          "Koutammakou, the Land of the Batammariba",
          "Ichkeul National Park",
          "Medina of Tunis",
          "Archaeological Site of Carthage",
          "Amphitheatre of El Jem",
          "Punic Town of Kerkuane and its Necropolis",
          "Medina of Sousse",
          "Kairouan",
          "Dougga / Thugga",
          "Historic Areas of Istanbul",
          "Göreme National Park and the Rock Sites of Cappadocia",
          "Great Mosque and Hospital of Divriği",
          "Hattusha: the Hittite Capital",
          "Nemrut Dağ",
          "Xanthos-Letoon",
          "Hierapolis-Pamukkale",
          "City of Safranbolu",
          "Archaeological Site of Troy",
          "Ephesus",
          "Selimiye Mosque and its Social Complex",
          "Neolithic Site of Çatalhöyük",
          "Bursa and Cumalıkızık: the Birth of the Ottoman Empire",
          "Pergamon and its Multi-Layered Cultural Landscape",
          "Diyarbakır Fortress and Hevsel Gardens Cultural Landscape",
          "Archaeological Site of Ani",
          "Aphrodisias",
          "Göbekli Tepe",
          "State Historical and Cultural Park “Ancient Merv”",
          "Kunya-Urgench",
          "Parthian Fortresses of Nisa",
          "Bwindi Impenetrable National Park",
          "Rwenzori Mountains National Park",
          "Tombs of Buganda Kings at Kasubi",
          "Kiev: Saint-Sophia Cathedral and Related Monastic Buildings, Kiev-Pechersk Lavra",
          "L'viv – the Ensemble of the Historic Centre",
          "Residence of Bukovinian and Dalmatian Metropolitans",
          "Ancient City of Tauric Chersonese and its Chora",
          "Cultural Sites of Al Ain (Hafit, Hili, Bidaa Bint Saud and Oases Areas)",
          "Giant's Causeway and Causeway Coast",
          "Durham Castle and Cathedral",
          "Ironbridge Gorge",
          "Studley Royal Park including the Ruins of Fountains Abbey",
          "Stonehenge, Avebury and Associated Sites",
          "Castles and Town Walls of King Edward in Gwynedd",
          "St Kilda",
          "The English Lake District",
          "Blenheim Palace",
          "Palace of Westminster and Westminster Abbey including Saint Margaret’s Church",
          "City of Bath",
          "New Lanark",
          "Henderson Island",
          "Tower of London",
          "Canterbury Cathedral, St Augustine's Abbey, and St Martin's Church",
          "Heart of Neolithic Orkney",
          "Old and New Towns of Edinburgh",
          "Gough and Inaccessible Islands",
          "Maritime Greenwich",
          "Historic Town of St George and Related Fortifications, Bermuda",
          "Blaenavon Industrial Landscape",
          "Saltaire",
          "Dorset and East Devon Coast",
          "Derwent Valley Mills",
          "Royal Botanic Gardens, Kew",
          "Liverpool – Maritime Mercantile City",
          "Cornwall and West Devon Mining Landscape",
          "Pontcysyllte Aqueduct and Canal",
          "The Forth Bridge",
          "Gorham's Cave Complex",
          "Jodrell Bank Observatory",
          "Ngorongoro Conservation Area",
          "Ruins of Kilwa Kisiwani and Ruins of Songo Mnara",
          "Serengeti National Park",
          "Stone Town of Zanzibar",
          "Selous Game Reserve",
          "Kilimanjaro National Park",
          "Kondoa Rock-Art Sites",
          "Mesa Verde National Park",
          "Yellowstone National Park",
          "Grand Canyon National Park",
          "Everglades National Park",
          "Independence Hall",
          "Redwood National and State Parks",
          "Mammoth Cave National Park",
          "Olympic National Park",
          "Cahokia Mounds State Historic Site",
          "Great Smoky Mountains National Park",
          "La Fortaleza and San Juan National Historic Site in Puerto Rico",
          "Statue of Liberty",
          "Yosemite National Park",
          "Chaco Culture",
          "Hawaii Volcanoes National Park",
          "Monticello and the University of Virginia in Charlottesville",
          "Taos Pueblo",
          "Carlsbad Caverns National Park",
          "Papahānaumokuākea",
          "Monumental Earthworks of Poverty Point",
          "San Antonio Missions",
          "The 20th-Century Architecture of Frank Lloyd Wright",
          "Historic Quarter of the City of Colonia del Sacramento",
          "Fray Bentos Industrial Landscape",
          "Itchan Kala",
          "Historic Centre of Bukhara",
          "Samarkand  – Crossroad of Cultures",
          "Historic Centre of Shakhrisyabz",
          "Chief Roi Mata’s Domain",
          "Coro and its Port",
          "Canaima National Park",
          "Ciudad Universitaria de Caracas",
          "Ha Long Bay",
          "Complex of Hué Monuments",
          "Hoi An Ancient Town",
          "My Son Sanctuary",
          "Phong Nha-Ke Bang National Park",
          "Central Sector of the Imperial Citadel of Thang Long - Hanoi",
          "Citadel of the Ho Dynasty",
          "Trang An Landscape Complex",
          "Old Walled City of Shibam",
          "Old City of Sana'a",
          "Historic Town of Zabid",
          "Socotra Archipelago",
          "Mana Pools National Park, Sapi and Chewore Safari Areas",
          "Matobo Hills",
          "Great Zimbabwe National Monument",
          "Khami Ruins National Monument",
          "Ancient and Primeval Beech Forests of the Carpathians and Other Regions of Europe",
          "Natural and Cultural Heritage of the Ohrid region",
          "Qhapaq Ñan, Andean Road System",
          "Jesuit Missions of the Guaranis: San Ignacio Mini, Santa Ana, Nuestra Señora de Loreto and Santa Maria Mayor (Argentina), Ruins of Sao Miguel das Missoes (Brazil)",
          "Prehistoric Pile Dwellings around the Alps",
          "Fertö / Neusiedlersee Cultural Landscape",
          "Struve Geodetic Arc",
          "Białowieża Forest",
          "Belfries of Belgium and France",
          "The Architectural Work of Le Corbusier, an Outstanding Contribution to the Modern Movement",
          "W-Arly-Pendjari Complex",
          "Stećci Medieval Tombstone Graveyards",
          "Sangha Trinational",
          "Kluane / Wrangell-St. Elias / Glacier Bay / Tatshenshini-Alsek",
          "Waterton Glacier International Peace Park",
          "Silk Roads: the Routes Network of Chang'an-Tianshan Corridor",
          "Talamanca Range-La Amistad Reserves / La Amistad National Park",
          "Mount Nimba Strict Nature Reserve",
          "Venetian Works of Defence between the 16th and 17th Centuries: <em>Stato da Terra</em> – Western <em>Stato da Mar</em>",
          "Erzgebirge/Krušnohoří Mining Region",
          "Wadden Sea",
          "High Coast / Kvarken Archipelago",
          "Pyrénées - Mont Perdu",
          "Stone Circles of Senegambia",
          "Muskauer Park / Park Mużakowski",
          "Frontiers of the Roman Empire",
          "Historic Centre of Rome, the Properties of the Holy See in that City Enjoying Extraterritorial Rights and San Paolo Fuori le Mura",
          "Caves of Aggtelek Karst and Slovak Karst",
          "Monte San Giorgio",
          "Rhaetian Railway in the Albula / Bernina Landscapes",
          "Western Tien-Shan",
          "Maloti-Drakensberg Park",
          "Curonian Spit",
          "Wooden <em>Tserkvas</em> of the Carpathian Region in Poland and Ukraine",
          "Prehistoric Rock Art Sites in the Côa Valley and Siega Verde",
          "Uvs Nuur Basin",
          "Landscapes of Dauria",
          "Heritage of Mercury. Almadén and Idrija",
          "Mosi-oa-Tunya / Victoria Falls"
         ],
         "lat": [
          34.846940000000004,
          34.39641667,
          40.06944444,
          39.75111111,
          35.81844,
          25.5,
          32.48333,
          36.32056,
          36.55,
          35.48416667,
          36.78333,
          42.49472222,
          -6.268888888999999,
          17.00694444,
          -50,
          -25.51805556,
          -47.15,
          -42.5,
          -30,
          -31.42056,
          -23.19986111,
          -42.8528,
          41.095,
          40.15889,
          40.15931,
          -12.83333333,
          -18.28611111,
          -33.85666667,
          -34,
          -41.58333333,
          -31.56555556,
          -28.25,
          -25.33333333,
          -15.65,
          -53.1,
          -25.48611111,
          -54.59472222,
          -25.21666667,
          -19.08333333,
          -33.7,
          -17.5,
          -37.80611111,
          -33.37833333,
          -22.5625,
          -38.08111111,
          47.80055556,
          47.64877778,
          48.18666667,
          47.55944444,
          47.07416667,
          48.36444444,
          48.21666667,
          40.36666667,
          40.125,
          41.20333333,
          26.23306,
          26.24128,
          26.14972222,
          22.66667,
          25.03333333,
          21.95,
          13.09666667,
          53.45108333,
          53.22278000000001,
          51.03097222,
          50.48111,
          50.84668,
          51.208909999999996,
          50.82806,
          50.43077,
          50.60603,
          51.21833,
          50.835,
          50.43527778,
          16.75,
          7.183333332999999,
          -19.58361,
          -16,
          -19.04306,
          -16.55833333,
          -18.16666667,
          -14.266670000000001,
          43.34812,
          43.78144444,
          -18.75,
          -19.28333333,
          -20.38888889,
          -8.013333333,
          -12.96666667,
          -20.49972222,
          -25.683329999999998,
          -15.78333,
          -8.416666667000001,
          -2.514166667,
          -18.23333333,
          -16.5,
          -24.16667,
          -15.933279999999998,
          -2.333333333,
          -17.71667,
          -3.8579444439999997,
          -14.00569444,
          -22.94777778,
          -11.01611111,
          -23.01860556,
          -19.85194444,
          -22.89711111,
          42.65,
          43.3,
          42.61666667,
          43.71666667,
          42.11666667,
          42.65611,
          44.11444,
          41.74272222,
          43.66667,
          10.25,
          12.58775833,
          14.91513889,
          13.43333333,
          14.38833333,
          12.8725,
          3,
          51.46666667,
          61.54722222,
          50.76777778,
          52.095,
          49.74944444,
          59.35833333,
          46.80944444,
          51.42472222,
          49.6125,
          48.105,
          44.37611111,
          44.99438611,
          45.70972222,
          45.11833333,
          51.726925,
          51.82641667,
          46.635,
          49.075,
          9,
          19.055,
          17.04166667,
          -27.15,
          -33.04063889,
          -42.5,
          -20.205820000000003,
          -34.08444444,
          36.26667,
          40.41667,
          41.79416667,
          40.13333,
          34.38333333,
          39.73333333,
          30.16667,
          33.08333,
          32.75417,
          29.33333,
          40.986940000000004,
          35.611670000000004,
          32.46667,
          29.65792,
          29.43333333,
          29.5449,
          26.866670000000003,
          37.20139,
          31.31666667,
          39.91055556,
          39.84555556,
          27.71667,
          29.701109999999996,
          31.00167,
          29.90444444,
          34.46666667,
          41.70722222,
          40.10972,
          27.895,
          22.19129194,
          23.09327778,
          22.28551944,
          25.02305556,
          36.12666667,
          41.15694444,
          30.83333333,
          24.92333333,
          39.03055556,
          28.91583333,
          34.45874722,
          30.2375,
          28.42194444,
          24.66888889,
          42.358000000000004,
          41.96833333,
          34.69388889,
          28.99861111,
          22.25555556,
          31.46972222,
          35.38027778,
          24.4475,
          27.89555556,
          30.39555556,
          32.93194444,
          10.41666667,
          7.666666667,
          9.233333333,
          2.583333333,
          1.9166666669999999,
          5.471666667,
          0.525277778,
          3.9666666669999997,
          5.533333333,
          10.85,
          8.911388889,
          5.75,
          9,
          5.195833333,
          42.65056,
          43.509440000000005,
          44.87778,
          45.22917,
          43.5125,
          43.736290000000004,
          43.18166667,
          23.13333333,
          21.80305556,
          20.45,
          22.616670000000003,
          19.96666667,
          19.883329999999997,
          20.03,
          22.14722,
          21.37861111,
          34.75833,
          34.92027778,
          34.79833,
          50.08972,
          48.81666667,
          49.18333,
          49.5802,
          49.95,
          48.77583,
          49.59393611,
          49.3,
          48.95972222,
          49.87361,
          49.20718333,
          49.21722222,
          50.05665,
          38.86305556,
          37.98166667,
          0.916666667,
          4,
          -2.5,
          -2,
          2,
          55.64222222,
          56.03889,
          55.75638889,
          69.13333333,
          55.26722222,
          55.35555556,
          55.91361111,
          61.16444444,
          67.06393056,
          15.26666667,
          18.48333333,
          -0.81667,
          -0.0038888890000000004,
          -1.83333,
          -2.883333333,
          29.97604,
          25.73333,
          22.33722222,
          30.05,
          30.83583333,
          28.55623,
          29.33333,
          13.8275,
          15.33527778,
          59.433330000000005,
          13.18333333,
          11.100060000000001,
          8.43491,
          14.130189999999999,
          4.8,
          12.02935,
          12.60692,
          9.308888889,
          5.3,
          -17.68337778,
          61.12056,
          61.12806,
          60.14722,
          62.25,
          61.06194,
          48.63556,
          48.4475,
          48.805,
          47.46638889,
          45.0575,
          48.40194444,
          49.895,
          44.13572222,
          43.67763889,
          47.63944,
          46.9375,
          43.95277778,
          48.69361111,
          46.56472,
          42.32519444,
          43.94722222,
          43.21055556,
          48.58444444,
          48.85833333,
          49.25333333,
          47.08222222,
          43.61138889,
          45.18405556,
          45.76722,
          48.55972222,
          44.89472222,
          47.39889,
          -20.41194444,
          44.22027778,
          49.492779999999996,
          44.83888889,
          47.23611111,
          -21.09944444,
          43.92833333,
          50.4625,
          47.05805556,
          44.3875,
          45.77938889,
          49.0775,
          -16.8414,
          -49.38036111,
          -0.5,
          13.31616667,
          41.84389,
          42.91639,
          42.29472222,
          50.77444444,
          49.31666667,
          49.79278,
          52.15278,
          47.68127778,
          53.86666999999999,
          50.82502778,
          50.94111111,
          49.75,
          49.653690000000005,
          52.4,
          51.8425,
          51.78333,
          49.00083,
          51.82,
          49.89166667,
          49.244440000000004,
          49.91667,
          50.97477778,
          51.86472,
          50.9775,
          52.51972222,
          50.96677778,
          47.69872222,
          51.49138889,
          50.17361111,
          54.3025,
          53.07597222,
          49.02055556,
          52.44833333,
          51.98361111,
          49.94444444,
          51.31583333,
          51.77827778,
          53.54555556,
          51.15480556,
          48.38777778,
          54.46194444,
          48.36547222,
          5.391030000000001,
          6.4011111110000005,
          37.434979999999996,
          38.48149,
          37.97087,
          40.26667,
          39.71667,
          40.638329999999996,
          37.66666667,
          36.44722,
          37.08056,
          37.65,
          37.4,
          38.4,
          37.69083,
          40.47139,
          37.73333333,
          37.3,
          39.62394139,
          41.01472222,
          17.21666667,
          14.56666667,
          15.270589999999999,
          19.573610000000002,
          41.902159999999995,
          14.85,
          15.74444444,
          47.48242,
          47.994440000000004,
          47.59458,
          47.558890000000005,
          46.07444,
          48.15,
          64.25380556,
          63.30305556,
          64.577363,
          28.65555556,
          28.593329999999998,
          28.52583,
          15.502220000000001,
          15.948329999999999,
          24.852220000000003,
          15.31444,
          20.55333,
          20.02639,
          18.96667,
          19.8875,
          24.88333333,
          12.61667,
          10.78305556,
          27.18333333,
          27.17417,
          27.094440000000002,
          30.71667,
          26.66666667,
          26.725,
          27.15888889,
          21.945,
          23.47944,
          23.85888889,
          22.92777778,
          11.51028,
          18.94012222,
          24.69528,
          22.48333333,
          26.92472222,
          8.529722222,
          31.83333333,
          18.92980556,
          25.13666667,
          27.76472222,
          23.02638889,
          26.90786111,
          -7.60778,
          -7.4,
          -6.75,
          -8.543330000000001,
          -7.7522199999999994,
          -4.75,
          -2.5,
          -8.259166667,
          -0.7666255559999999,
          32.0833,
          29.934440000000002,
          32.65745,
          36.60388889,
          30.19383,
          36.43528,
          29.11683,
          34.38833333,
          38.97888889,
          32.01861111,
          38.24861111,
          38.08138889,
          30.16666667,
          32.66972222,
          37.25802778,
          35.68036667,
          30.16805556,
          32.18944444,
          30.59388889,
          30.21611111,
          34.29,
          31.90138889,
          29.77748056,
          37.42147222,
          34.34098944,
          35.58806,
          32.54196944,
          35.45666667,
          36.19111111,
          31.56222222,
          53.691669999999995,
          51.77194,
          31.3135,
          32.92833333,
          32.06666667,
          30.541109999999996,
          32.59722,
          32.82939667,
          31.6,
          32.67,
          32.70222222,
          45.46588889,
          45.95705556,
          43.77306,
          43.85777778,
          45.43430556,
          43.72305556,
          41.08480556,
          41.07333,
          43.468059999999994,
          40.66638889,
          45.54916667,
          43.31861111,
          40.85138889,
          45.59333,
          44.83777778,
          40.7825,
          44.42041667,
          43.07694444,
          45.43861111,
          45.07253,
          45.39911111,
          45.76833333,
          44.10694,
          44.64624,
          43.725,
          40.75,
          40.65,
          37.28972222,
          37.36611,
          39.70583333,
          40.28333333,
          41.94416667,
          38.48786111,
          43.06616667,
          36.89319444,
          41.96391667,
          43.06666667,
          45.97455556,
          42.00683333,
          37.05944,
          44.41222222,
          46.61305556,
          45.15944444,
          46.09416667,
          44.60861111,
          37.75611111,
          38.11083333,
          45.4575,
          45.95302778,
          18.0775,
          34.61666667,
          34.83333333,
          30.33333333,
          40.47,
          34.98055556,
          36.4,
          34.38333333,
          34.29441667,
          34.67555556,
          36.7475,
          26.20861111,
          33.83694444,
          43.94944,
          35.11277778,
          39.00111111,
          27.71833333,
          35.36083333,
          36.25527778,
          34.43055556,
          32.80222222,
          34.245,
          34.56222222,
          31.78333333,
          30.33056,
          31.801940000000002,
          31.50167,
          29.63972222,
          31.83722222,
          50.43333333,
          43.29305556,
          43.80333333,
          -0.155,
          3.0513055560000004,
          -2.284444444,
          -0.4425,
          -3.931944444,
          -4.062777778,
          -0.8913380559999999,
          -3.649722222,
          40.53111111,
          19.88889,
          14.84833333,
          19.43105556,
          56.95417,
          33.72583,
          34.00707,
          34.119170000000004,
          33.27194,
          34.24333,
          32.638329999999996,
          32.805279999999996,
          32.825,
          24.83333,
          30.13333333,
          54.68666999999999,
          54.88777778,
          49.61,
          -18.66667,
          -18.75917,
          -14.45972222,
          -14.03333,
          -14.29333333,
          6.25,
          4.13333,
          5.421388889,
          5.067908333,
          13.90639,
          16.77333333,
          14.333329999999998,
          16.2898,
          35.871340000000004,
          35.90056,
          36.04908,
          11.6,
          20.234720000000003,
          20.92889,
          -20.15863889,
          -20.45194444,
          19.383329999999997,
          17.48333,
          19.418329999999997,
          19.691670000000002,
          17.06194,
          19.047220000000003,
          21.016939999999998,
          20.66667,
          27.79222,
          30.37583,
          19.704439999999998,
          20.47639,
          22.76667,
          18.934720000000002,
          27.655559999999998,
          20.36166667,
          20.58333333,
          20.67388889,
          18.60833333,
          19.84639,
          18.81028,
          18.05302778,
          21.20438889,
          19.41833333,
          27.62667,
          20.86305556,
          19.33222222,
          20.91444444,
          19.60638889,
          22.60805556,
          16.95083333,
          32,
          19.83527778,
          18.78805556,
          17.98996111,
          6.839722222000001,
          47.55666667,
          49.33388889,
          48.76197778,
          43.133,
          42.48333,
          34.06111,
          31.631390000000003,
          31.047220000000003,
          31.51411111,
          33.88333,
          34.073890000000006,
          35.57083,
          33.25667,
          34.02416667,
          -15.034170000000001,
          22.47,
          21.14888889,
          -20.59558333,
          -24.88527778,
          27.96528,
          27.70395,
          27.5,
          27.468890000000002,
          52.63861111,
          52.37444444,
          51.8825,
          12.101939999999999,
          52.84583000000001,
          52.54888889,
          52.08533333,
          52.365,
          51.92333333,
          -39.29083333,
          -45.03602778,
          -50.75,
          12.397219999999999,
          12.435,
          18,
          16.97361111,
          10.74056,
          7.755560000000001,
          62.57388889,
          61.3,
          60.39722,
          69.95,
          65.61667,
          62.11666999999999,
          59.87861111,
          22.964170000000003,
          23.26986,
          18.25333,
          22.99888889,
          22.69522222,
          27.32916667,
          33.77916667,
          34.32083333,
          24.76666667,
          31.59027778,
          32.9625,
          7.246925,
          31.70435278,
          31.71972222,
          31.52416667,
          9.553888889,
          7.7361111110000005,
          8.951111111,
          7.433,
          -5.783711111000001,
          -27.133329999999997,
          -13.52222,
          -13.11666667,
          -9.592772543999999,
          -9.33333,
          -8.1,
          -12.25,
          -12.05139,
          -7.75,
          -14.725829999999998,
          -16.4,
          -10.89166667,
          17.575,
          10.16666667,
          8.953333333,
          14.59,
          16.933889999999998,
          6.717169444,
          50.06138889,
          52.26639,
          50.03888889,
          49.97916667,
          50.71667,
          53.01,
          54.04166667,
          49.86666667,
          49.75,
          51.05427778,
          51.10694722,
          50.44269722,
          50.96797222,
          38.655,
          38.69194,
          39.657779999999995,
          39.60472,
          38.57306,
          39.55,
          38.78333,
          41.14166667,
          32.76666667,
          41.443731,
          41.10166667,
          38.51344444,
          38.88061944,
          40.20781111,
          38.93716667,
          41.55494444,
          25.97805556,
          35.78333333,
          35.8,
          37.55,
          37.55,
          37.272220000000004,
          35.78889,
          34.96667,
          33.46888889,
          37.19722222,
          36.53916667,
          37.47888889,
          36.46194444,
          36.72729722,
          36.54194444,
          45.08333,
          46.13583333,
          45.18333333,
          47.77833333,
          46.21777778,
          47.82083333,
          45.62305556,
          59.95,
          62.07138889,
          55.745830000000005,
          58.53333000000001,
          65.08333333,
          56.15,
          55.655559999999994,
          56.31035,
          63.62583333,
          53.17361111,
          56.33333333,
          46.68333333,
          50.46666667,
          44,
          55.79111111,
          54.97888889,
          59.95,
          71.18888889,
          42.05297222,
          55.72611111,
          57.65278000000001,
          69.04694444,
          60.66666667,
          57.80719444,
          55.77027778,
          17.34694,
          13.80708333,
          43.93277778,
          26.78361111,
          24.73413333,
          21.48388889,
          28.01055556,
          25.40216667,
          16.5,
          14.66722,
          13.06667,
          16.02778,
          13.83527778,
          12.59333333,
          43.11889,
          43.48611,
          42.66111111,
          43.89930556,
          -9.416666667000001,
          -4.3291699999999995,
          1.315277778,
          48.46111,
          48.99944444,
          49.03916667,
          49.29277778,
          49.33611111,
          45.66667,
          -11.68333,
          -27.838890000000003,
          -24.15861,
          -33.8,
          -34.36111111,
          -22.1925,
          -26.86,
          -28.6,
          -25.68761111,
          -25.97388889,
          43.38252778,
          40.94847222,
          43.36262,
          37.87919444,
          37.17667,
          42.34073333,
          40.58175,
          41.41338,
          42.880759999999995,
          40.65645,
          40.34389,
          39.86688889,
          28.12625,
          40.96525,
          37.38384,
          39.47444,
          38.91113889,
          41.380829999999996,
          38.011309999999995,
          38.916109999999996,
          39.45285,
          43.335,
          36.9477,
          40.07662,
          39.47441667,
          42.469390000000004,
          41.38778,
          42.32586,
          39.78995,
          41.11472222,
          40.48138889,
          28.47788889,
          38.26666667,
          43.011109999999995,
          42.50472222,
          42.37138889,
          40.03645,
          43.323175,
          28.27138889,
          43.38583333,
          39.73083333,
          37.025,
          37.88588889,
          28.04438889,
          8.333333332999999,
          7.915833332999999,
          7.95,
          6.416666667,
          7.293611111000001,
          6.021388889,
          7.856666667000001,
          7.45245,
          19.73611111,
          18.537,
          16.93333333,
          5.82611,
          4,
          59.33514,
          59.96666999999999,
          58.70111,
          59.27556,
          59.32306,
          57.64167,
          65.64611,
          67.33333,
          56.166669999999996,
          56.325,
          60.60471999999999,
          57.1,
          61.70722222,
          46.94806,
          47.42333,
          46.62945,
          46.19314,
          46.5,
          46.91666667,
          46.49194444,
          47.10388889,
          33.511390000000006,
          36.19916667,
          32.51806,
          34.55417,
          34.78166667,
          36.33416667,
          39.50777778,
          38.765,
          17.00722,
          17.54861,
          14.347779999999998,
          14.33,
          15.333329999999998,
          10.06666667,
          37.16361,
          36.81667,
          36.852779999999996,
          35.29639,
          36.94639,
          35.82778,
          35.681670000000004,
          36.42361,
          41.00847,
          38.66667,
          39.371271,
          40.01389,
          38.036609999999996,
          36.335,
          37.92389,
          41.26,
          39.95644,
          37.92916667,
          41.67777778,
          37.66666667,
          40.18473056,
          39.12583333,
          37.9031,
          40.5,
          37.70833333,
          37.22324194,
          37.700829999999996,
          42.18318,
          37.99972222,
          -1.080555556,
          0.223611111,
          0.34861111100000003,
          50.45258,
          49.84163,
          48.29666667,
          44.61083333,
          24.06777778,
          55.25,
          54.77472222,
          52.62638889,
          54.11611111,
          51.17888889,
          53.13972222,
          57.81722222,
          54.47661111,
          51.84194444,
          51.49972222,
          51.38138889,
          55.66333333,
          -24.36666667,
          51.50805556,
          51.28,
          58.99605556,
          55.95,
          -40.32472222,
          51.48116667,
          32.37944444,
          51.77638889,
          53.83916667,
          50.70555556,
          53.02888889,
          51.48194444,
          53.40666667,
          50.13611111,
          52.97027778,
          56.00111111,
          36.12266944,
          53.23391667,
          -3.18722,
          -8.95778,
          -2.33333,
          -6.16306,
          -9,
          -3.0666700000000002,
          -4.7244444439999995,
          37.26166667,
          44.46056,
          36.10083333,
          25.55444444,
          39.94861111,
          41.37388889,
          37.18722222,
          47.74833333,
          38.65861111,
          35.59305556,
          18.46666667,
          40.68944444,
          37.74611111,
          36.06377778,
          19.40083333,
          38.03277778,
          36.43889,
          32.16666667,
          25.34907,
          32.63694444,
          29.32805556,
          39.90557083,
          -34.46777778,
          -33.11777778,
          41.37833,
          39.77472,
          39.66861,
          39.05,
          -17.62806944,
          11.4,
          5.33333,
          10.490730000000001,
          20.9,
          16.46944,
          15.88333333,
          15.51666667,
          17.53722222,
          21.03944444,
          20.07805556,
          20.25666667,
          15.92694,
          15.35555556,
          14.19533333,
          12.5,
          -15.81944444,
          -20.5,
          -20.28333333,
          -20.15833333,
          49.00972222,
          41.06925,
          -18.25,
          -28.54333333,
          47.27833333,
          47.71927778,
          59.05777778,
          52.7275,
          50.174440000000004,
          46.46841389,
          11.88416667,
          43.09221389,
          2.609444444,
          61.19758333,
          48.99605556,
          34.30444444,
          9.407083333,
          7.60318,
          45.70333333,
          50.40652778,
          53.52861111,
          63.3,
          42.68542,
          13.69111111,
          51.57930556,
          54.99261111,
          41.89022222,
          48.47573,
          45.88888889,
          46.49833333,
          0,
          -29.76527778,
          55.27458000000001,
          49.53388889,
          40.6975,
          50.275,
          49.93022222,
          38.77527778,
          -17.924529999999997
         ],
         "legendgroup": "",
         "lon": [
          67.82525,
          64.51588889,
          20.13333333,
          20.02611111,
          4.78684,
          9,
          3.68333,
          5.736669999999999,
          2.383333333,
          6.468861111,
          3.06028,
          1.5955555559999999,
          14.24972222,
          -61.76166667,
          -73.24944,
          -54.13333333,
          -70.66666667,
          -64,
          -68,
          -64.19111,
          -65.34886111,
          -71.8728,
          44.71028,
          44.79667,
          44.29514,
          132.8333333,
          147.7,
          151.21527780000002,
          143,
          145.41666669999998,
          159.08833330000002,
          150.05,
          131,
          144.9666667,
          73.5,
          113.4361111,
          158.8955556,
          153.1333333,
          138.7166667,
          150,
          128.5,
          144.97027780000002,
          150.99444440000002,
          113.8102778,
          141.8852778,
          13.04333333,
          15.82797222,
          16.31333333,
          13.64638889,
          15.39166667,
          15.43416667,
          16.38333333,
          49.83333333,
          49.375,
          47.1875,
          50.52722222,
          50.61351,
          50.51277778,
          89.8,
          88.98333333,
          89.18333,
          -59.61388889,
          26.47272222,
          26.691390000000002,
          4.47375,
          4.13722,
          4.3524199999999995,
          3.22527,
          4.36223,
          3.97879,
          3.3892599999999997,
          4.39778,
          4.416111111,
          3.838333333,
          -87.05833333,
          1.983333333,
          -65.75305999999999,
          -60.5,
          -65.25917,
          -68.67778,
          -63.81666667,
          -60.86666999999999,
          17.81092,
          19.288025,
          21.73333333,
          22.9,
          -43.50555556,
          -34.845,
          -38.5,
          -43.85777778,
          -54.433330000000005,
          -47.9,
          -42.33333333,
          -44.3025,
          -43.6,
          -39.25,
          -48,
          -50.133359999999996,
          -62.00833333,
          -57.38333000000001,
          -32.42511111,
          -47.68461111,
          -43.29138889,
          -37.21,
          -44.68536944,
          -43.97361111,
          -43.18739444,
          23.26666667,
          27.15,
          25.4,
          25.96666667,
          23.4,
          27.73,
          27.078059999999997,
          23.43047222,
          26.66667,
          -3.583333333,
          -3.3289861110000003,
          -23.60519444,
          103.83333329999999,
          104.68388890000001,
          105.04305559999999,
          13,
          -55.61666667,
          -125.58944440000002,
          -111.4922222,
          -131.2202778,
          -113.6238889,
          -112.29333329999999,
          -71.21055556,
          -116.47972220000001,
          -57.53138889,
          -66.35305556,
          -64.30916667,
          -75.765125,
          -64.43583333,
          -64.30722222,
          -56.42952222,
          -95.41127778,
          -53.21111111,
          -111.63333329999999,
          21.5,
          20.50555556,
          21.86277778,
          -109.45,
          -71.628,
          -73.76666667,
          -69.79406,
          -70.38277778,
          117.1,
          116.08333,
          123.4469444,
          94.81667,
          109.1,
          115.91666670000001,
          118.18333,
          103.91667,
          103.82222,
          110.5,
          117.93833000000001,
          116.975,
          111,
          91.11717,
          115.86666670000001,
          103.76925,
          100.23333000000001,
          112.15444,
          120.45,
          116.1411111,
          116.4447222,
          117.68333,
          105.705,
          103.60528000000001,
          117.9875,
          112.46666670000002,
          124.7938889,
          113.12222,
          98.40638889,
          113.5364611,
          102.7799806,
          112.5658611,
          117.68583329999998,
          114.3138889,
          126.18722220000001,
          103,
          110.35444440000002,
          113.56333329999998,
          118.06444440000001,
          113.06771940000002,
          120.14083329999998,
          106.0425,
          102.9772222,
          116.18512779999999,
          80.35416667,
          112.46833329999998,
          109.96694440000002,
          107.02305559999999,
          110.2438889,
          92.43916667,
          118.06194440000002,
          108.68,
          119.99083329999999,
          121.0168139,
          -75.53333333,
          -77,
          -74.43333333,
          -76.03333333,
          -76.23333333,
          -75.68166667,
          -72.79722222,
          -81.61666667,
          -87.06666667,
          -85.61666667,
          -83.4775,
          -7.66667,
          -4,
          3.7363888889999997,
          18.09139,
          16.44333,
          15.61444,
          13.594439999999999,
          16.25167,
          15.890379999999999,
          16.63861111,
          -82.35,
          -79.98444444,
          -75,
          -83.71667,
          -75.87083333,
          -77.63333,
          -75.39138889,
          -80.45278,
          -77.91861111,
          32.405559999999994,
          33.09583333,
          33.34333,
          14.41944,
          14.31666667,
          15.45,
          15.94205833,
          15.26666667,
          16.775,
          17.25045833,
          17.37722222,
          14.25277778,
          16.31444,
          16.61605556,
          15.87888889,
          15.48425833,
          125.415,
          126.50805559999999,
          29.16666667,
          29.25,
          28.75,
          21,
          28.5,
          12.07972222,
          12.62083333,
          9.42,
          -49.5,
          12.42333333,
          9.481388889,
          12.35777778,
          -45.59805556,
          -51.43320556,
          -61.28333333,
          -69.91666667,
          -91,
          -78.5,
          -78.33333,
          -78.98333333,
          31.130409999999998,
          32.6,
          31.62580556,
          31.26111,
          29.66666667,
          33.975429999999996,
          30.183329999999998,
          -89.36916667,
          38.93583333,
          24.73333333,
          38.06666667,
          40.579390000000004,
          38.6121,
          38.71861,
          35.96666667,
          39.040420000000005,
          37.46617,
          42.13777778,
          37.4,
          178.8345333,
          21.7775,
          21.511670000000002,
          24.98722,
          25.183329999999998,
          26.640829999999998,
          -1.5105600000000001,
          1.487222222,
          2.119444444,
          3.748333333,
          1.17,
          2.6980555560000004,
          2.3016666669999997,
          4.8084166669999995,
          4.6306944439999995,
          4.38911,
          5.876388888999999,
          4.806111111,
          6.183333332999999,
          0.86611,
          8.628833333,
          4.535277778,
          2.358888889,
          7.748888889,
          2.294166667,
          4.032777778,
          2.398333333,
          1.416388889,
          0.722944444,
          4.83333,
          3.2988888889999997,
          -0.155277778,
          0.7027800000000001,
          164.5663889,
          3.4730555560000003,
          0.1075,
          -0.5722222220000001,
          6.026944444,
          55.48,
          2.1425,
          3.546111111,
          4.864444444,
          4.416111111,
          2.965111111,
          3.9461111110000004,
          -151.3723778,
          69.35280556,
          11.5,
          -16.35719444,
          44.716390000000004,
          43.011390000000006,
          42.76833333,
          6.084444444,
          8.443055556000001,
          9.938889999999999,
          9.94389,
          10.90013889,
          10.69167,
          6.909777778,
          6.957222222,
          6.6333333329999995,
          8.56858,
          13.03333333,
          12.42083,
          11.15,
          8.81306,
          10.34,
          10.88888889,
          6.85,
          8.75389,
          11.3295,
          12.65278,
          11.328610000000001,
          13.39861111,
          10.307,
          9.061305556,
          7.046111111,
          7.694166667,
          13.08527778,
          8.807472222000001,
          12.09916667,
          13.45,
          9.811111111,
          11.57861111,
          9.393055556,
          9.41025,
          9.999444444,
          11.804,
          9.765555556,
          9.454111111,
          10.902000000000001,
          -0.49361000000000005,
          -1.625833333,
          21.89694,
          22.496170000000003,
          23.72618,
          24.21667,
          21.633329999999997,
          22.965,
          23.11666667,
          28.22778,
          22.366670000000003,
          21.66666667,
          25.26667,
          22.75,
          26.94333,
          22.31833,
          22.75,
          26.55,
          19.9275,
          24.28527778,
          -89.61666667,
          -90.66666667,
          -89.04025,
          -72.24417,
          12.457360000000001,
          -89.13333,
          -84.675,
          19.07067,
          19.52917,
          21.156779999999998,
          17.78444,
          18.22778,
          21.35,
          -21.03725,
          -20.60222222,
          -16.88154044,
          77.24083333,
          77.25056,
          77.18528,
          73.91167,
          75.81667,
          79.92222,
          76.47166999999999,
          75.7,
          75.17917,
          72.93583000000001,
          86.09472,
          74.64611111,
          80.19167,
          79.1325,
          78.03333333,
          78.04222,
          77.66417,
          79.66667,
          93.41666667,
          91.03055556,
          77.50861111,
          88.89583333,
          77.73971999999999,
          72.10166667,
          77.58333333,
          76.93583000000001,
          72.83620278,
          84.99389000000001,
          73.53333333,
          75.825,
          77.24972222,
          77.58333333,
          72.83008333,
          85.44388889,
          88.37722222,
          72.58805556,
          75.78722222,
          110.20361000000001,
          110.81666670000001,
          105.33333329999999,
          119.48943999999999,
          110.49167,
          137.83333000000002,
          101.5,
          115.4027778,
          100.7378833,
          48.53333333,
          52.890280000000004,
          51.67777778,
          47.235,
          53.16729,
          48.79667,
          58.36666667,
          47.43666667,
          45.47333333,
          48.83583333,
          48.29138889,
          46.29305556,
          53.16666667,
          51.68527778,
          55.169,
          51.42051111,
          55.37555556,
          48.25611111,
          61.32777778,
          58.83888889,
          58.65444444,
          54.36916667,
          51.57045,
          55.72427778,
          43.82354306,
          42.71833,
          44.42083333,
          43.26111111,
          44.00916667,
          47.65777778,
          -6.45,
          -10.53861,
          35.35275,
          35.08388889,
          34.78333333,
          35.16083,
          35.18222,
          34.97164889,
          34.89555556,
          34.96527778,
          35.12694444,
          9.1705,
          10.29733333,
          11.256110000000001,
          11.30416667,
          12.33894444,
          10.39638889,
          16.27094444,
          14.32639,
          11.04167,
          16.61027778,
          11.54944444,
          11.33166667,
          14.26277778,
          9.53833,
          11.61944444,
          17.23694,
          12.19625,
          11.67861111,
          10.99388889,
          7.68572,
          11.88066667,
          13.3675,
          9.72917,
          10.92568,
          12.63333,
          14.48333333,
          14.6,
          13.59333333,
          14.33417,
          8.991388889,
          15.26666667,
          12.77197222,
          14.94558333,
          12.62244444,
          15.06891667,
          12.79625,
          11.55,
          9.169555556,
          12.10188889,
          15.29306,
          8.931111111,
          12.16305556,
          10.79444444,
          13.43305556,
          7.9636111110000005,
          14.99666667,
          13.35305556,
          7.869166667000001,
          12.22611111,
          -76.57111111,
          135.7333333,
          134.7,
          130.53333329999998,
          140.13,
          135.76944440000003,
          136.8833333,
          132.45,
          132.3246389,
          135.83944440000002,
          139.6105556,
          127.6827778,
          135.7763889,
          144.96583,
          132.435,
          141.1077778,
          142.09972219999997,
          138.7275,
          138.8877778,
          131.4122222,
          128.9038889,
          130.10555559999997,
          135.6094444,
          35.21666667,
          35.443329999999996,
          36.58583,
          35.920559999999995,
          35.43388889,
          35.55277778,
          69.18888889,
          68.27444444,
          75.535,
          37.31555556,
          36.50366667,
          40.8525,
          36.24,
          39.59611111,
          39.67944444,
          34.326107,
          -172.8575,
          72.78277778,
          102.13333,
          105.82222220000001,
          103.15222220000001,
          24.116670000000003,
          35.92972,
          36.20494,
          35.6475,
          35.19444,
          36.04889,
          14.29306,
          12.485,
          21.85833,
          10.33333,
          9.5,
          25.29306,
          24.83055556,
          6.13333,
          44.75,
          47.56278,
          49.7025,
          34.88333,
          34.27916667,
          116.5,
          114.91667,
          100.3458333,
          100.97232779999999,
          -4.555,
          -2.999444444,
          -3.41667,
          -0.04456,
          14.50739,
          14.514439999999999,
          14.269470000000002,
          165.38055559999998,
          -16.10889,
          -11.623610000000001,
          57.50316667,
          57.32833333,
          -87.79167,
          -92.05,
          -99.13278000000001,
          -98.84167,
          -96.72166999999999,
          -98.20833,
          -101.25556,
          -88.6,
          -114.22778000000001,
          -107.95556,
          -101.19167,
          -97.3775,
          -102.55556,
          -98.89778000000001,
          -112.91611,
          -89.77027778,
          -100.3666667,
          -103.33972220000001,
          -95.65833333,
          -90.53721999999999,
          -99.275,
          -89.73728333,
          -99.46411111,
          -99.19833333,
          -112.54583000000001,
          -103.77861109999999,
          -99.18805556,
          -100.74638890000001,
          -100.2416667,
          -102.3791667,
          -96.42111111,
          -113.91666670000001,
          -98.66256667,
          -110.97527779999999,
          -97.18715278,
          158.33083330000002,
          102.83138890000001,
          88.39527778,
          109.0093278,
          19.0166,
          18.7,
          -4.97778,
          -7.986669999999999,
          -7.128889999999999,
          -9.770305556,
          -5.558330000000001,
          -5.55694,
          -5.36667,
          -8.50194,
          -6.822777778,
          40.73583,
          95.81861111,
          94.88444444,
          14.37258333,
          15.40777778,
          86.91306,
          85.30858,
          84.33333,
          83.27611,
          5.771666667000001,
          4.893055556,
          4.649444443999999,
          -68.90222,
          5.67889,
          4.911111111,
          5.147555556,
          4.887777778,
          4.4183333330000005,
          175.56222219999998,
          167.3196111,
          166.1044444,
          -86.61028,
          -86.87805556,
          9,
          7.9913888889999996,
          13.57194,
          4.552219999999999,
          11.38555556,
          7.33333,
          5.32306,
          23.183329999999998,
          11.75,
          7.16667,
          8.593611111,
          57.301109999999994,
          56.745,
          53.64759,
          57.53605556,
          59.37811111,
          68.13888889,
          72.8875,
          71.94583333,
          67.9,
          74.30972222,
          73.58888889,
          134.3525,
          35.2075,
          35.13055556,
          35.10888889,
          -79.65583333,
          -77.54722222,
          -79.54055556,
          -81.766,
          144.33172219999997,
          -55.7,
          -71.98333000000001,
          -72.58333333,
          -77.1784535,
          -77.4,
          -79.08333,
          -71.75,
          -77.04306,
          -77.25,
          -75.14860999999999,
          -71.53333333,
          -77.52138889,
          120.3875,
          118.91666670000001,
          119.8675,
          120.97,
          121.13667,
          126.17343059999999,
          19.93722222,
          21.011670000000002,
          19.175,
          20.06388889,
          23.26667,
          18.61944,
          19.03333333,
          19.66666667,
          21.23333333,
          16.19594444,
          17.07701389,
          18.85122778,
          21.50230556,
          -27.22,
          -9.21583,
          -8.826939999999999,
          -8.4175,
          -7.907780000000001,
          -8.97667,
          -9.41667,
          -8.616666667,
          -17,
          -8.292803,
          -7.798888889,
          -28.54116667,
          -7.163322222000001,
          -8.425775,
          -9.325527778,
          -8.377027777999999,
          51.02972222,
          129.35,
          128.1,
          126.98333000000001,
          126.98333329999998,
          127.00833,
          129.22666999999998,
          126.92917,
          126.72027779999999,
          128.4527778,
          128.5166667,
          127.18111110000001,
          127.1272222,
          128.8434278,
          127.83333329999999,
          29.5,
          24.77305556,
          24.01666667,
          25.71277778,
          24.79222222,
          24.05583333,
          23.31194444,
          30.31833,
          35.2275,
          37.62972,
          31.28333,
          35.66666667,
          40.41666667,
          37.67389,
          38.1312,
          58.9525,
          107.6625,
          158.5,
          136.6611111,
          86,
          40,
          49.095,
          49.05638889,
          38.56666667,
          -179.71527780000002,
          48.29719444,
          37.55508333,
          39.87611,
          94.15805556,
          127,
          28.32855556,
          48.65277778,
          -62.837219999999995,
          -61.07036111,
          12.45194444,
          37.955,
          46.57246667,
          39.1875,
          40.91305556,
          49.63056944,
          -16.16667,
          -17.40083,
          -12.71667,
          -16.50444,
          -16.49861111,
          -12.84583333,
          20.42278,
          20.53667,
          20.26555556,
          22.18611111,
          46.41666667,
          55.7375,
          103.81611109999999,
          18.9,
          20.7675,
          19.27833333,
          21.27555556,
          19.55833333,
          14,
          160.33333000000002,
          32.55,
          29.176940000000002,
          18.36666667,
          18.475,
          29.23889,
          27.26,
          17.20388889,
          20.37458333,
          31.01388889,
          -4.116166667,
          -4.11675,
          -5.843030000000001,
          -4.779722222,
          -3.59444,
          -3.7040111110000002,
          -4.126416667,
          2.152972,
          -8.54468,
          -4.70012,
          -1.10722,
          -4.029416667,
          -17.23722222,
          -5.6645,
          -5.99155,
          -6.37,
          1.435194444,
          1.0825,
          -3.3712199999999997,
          -6.33778,
          -5.3275,
          -6.414722222000001,
          -6.358861,
          -2.13174,
          -0.378444444,
          -6.77075,
          2.175,
          -2.86496,
          -1.03331,
          1.259305556,
          -3.3680555560000003,
          -16.31177778,
          -0.716666667,
          -7.55333,
          0.8036111109999999,
          -3.547222222,
          -3.60934,
          -3.016833333,
          -16.64361111,
          -8.406388889,
          2.694722222,
          -4.544444444,
          -4.867694444,
          -15.66119444,
          80.38333333,
          81.00055556,
          80.75,
          80.5,
          80.64027778,
          80.21861111,
          80.64916667,
          80.8021,
          37.44305556,
          31.82802778,
          33.71666667,
          -55.15,
          -56.5,
          17.54264,
          16.008329999999997,
          11.34111,
          18.099439999999998,
          17.883329999999997,
          18.29583,
          22.02861,
          17.58333,
          15.583329999999998,
          16.48333,
          15.63083,
          12.38333333,
          16.19583333,
          7.45028,
          9.37778,
          10.44765,
          9.02242,
          8.033333333,
          9.25,
          6.746111111,
          6.832777778,
          36.30639,
          37.16277778,
          36.48167,
          38.26667,
          36.26305556,
          36.84416667,
          67.46027778,
          72.30527778,
          99.78971999999999,
          103.35833000000001,
          100.56056,
          102.05,
          98.91667,
          1.133333333,
          9.674719999999999,
          10.16667,
          10.32333,
          10.70694,
          11.099169999999999,
          10.63861,
          10.10389,
          9.22028,
          28.97993,
          34.85,
          38.121826,
          34.62056,
          38.763690000000004,
          29.32028,
          29.12333,
          32.68972,
          26.239,
          27.35944444,
          26.55944444,
          32.82805556,
          29.06233611,
          27.18,
          40.23930833,
          43.56666667,
          28.72361111,
          38.92236389,
          62.1775,
          59.08494,
          58.19861111,
          29.66138889,
          29.92416667,
          32.55138889,
          30.516859999999998,
          24.031979999999997,
          25.92472222,
          33.49138889,
          55.80638889,
          -6.4852777779999995,
          -1.576111111,
          -2.472777778,
          -1.573055556,
          -1.825277778,
          -4.276944444,
          -8.576666667000001,
          -3.082416667,
          -1.361388889,
          -0.128611111,
          -2.358611111,
          -3.7830555560000003,
          -128.3333333,
          -0.076111111,
          1.083333333,
          -3.1886666669999997,
          -3.2166666669999997,
          -9.928611111,
          -0.003777778,
          -64.67777778,
          -3.088055556,
          -1.7883333330000002,
          -2.989888889,
          -1.488055556,
          -0.294027778,
          -2.994444444,
          -5.3836111110000004,
          -3.087777778,
          -3.388888889,
          -5.3420611110000005,
          -2.303861111,
          35.54083,
          39.52278,
          34.56667,
          39.189170000000004,
          37.4,
          37.36667,
          35.83388889,
          -108.48555559999998,
          -110.82778,
          -112.09055559999999,
          -80.99638889,
          -75.15,
          -123.99805559999999,
          -86.10305556,
          -123.4488889,
          -90.06138889,
          -83.43555556,
          -66.125,
          -74.04472222,
          -119.59666670000001,
          -107.97083329999998,
          -155.1236111,
          -78.50388889,
          -105.54167,
          -104.3833333,
          -170.14582,
          -91.40638889,
          -98.46,
          -79.46647556,
          -57.85333333,
          -58.33166667,
          60.363890000000005,
          64.42860999999999,
          67,
          66.83333,
          168.1777194,
          -69.68333333,
          -61.5,
          -66.89068,
          107.1,
          107.57778,
          108.33333329999999,
          108.56666670000001,
          106.15125,
          105.83722220000001,
          105.60472220000001,
          105.89638889999999,
          48.626670000000004,
          44.20805556,
          43.31552778,
          53.83333333,
          29.40805556,
          28.5,
          30.93333333,
          28.37666667,
          22.33888889,
          20.64605556,
          -69.59166667,
          -54.26583333,
          8.2075,
          16.72272222,
          26.33777778,
          23.98111111,
          3.23139,
          6.829336111,
          2.4877777780000003,
          17.92405278,
          16.55416667,
          -140.9919722,
          -113.90416670000002,
          108.85722220000001,
          -82.93880556,
          -8.39097,
          9.663611111,
          12.83734444,
          8.556111111,
          21.3,
          -0.0005,
          -15.5225,
          14.72644444,
          -2.6010000000000004,
          12.49230556,
          20.48687,
          8.913888888999999,
          9.846388889,
          0,
          29.12305556,
          20.96239,
          21.03222222,
          -6.661111111,
          92.71972222,
          115.42544440000002,
          -4.838888889,
          25.85539
         ],
         "marker": {
          "color": "blue"
         },
         "mode": "markers",
         "name": "",
         "showlegend": false,
         "subplot": "mapbox",
         "type": "scattermapbox"
        }
       ],
       "layout": {
        "height": 1000,
        "legend": {
         "tracegroupgap": 0
        },
        "mapbox": {
         "center": {
          "lat": 45.5,
          "lon": 11.5
         },
         "domain": {
          "x": [
           0,
           1
          ],
          "y": [
           0,
           1
          ]
         },
         "layers": [
          {
           "below": "traces",
           "source": [
            "https://sampleserver6.arcgisonline.com/arcgis/rest/services/World_Street_Map/MapServer/tile/{z}/{y}/{x}"
           ],
           "sourceattribution": "SampleServer6",
           "sourcetype": "raster"
          }
         ],
         "style": "white-bg",
         "zoom": 7
        },
        "margin": {
         "t": 60
        },
        "template": {
         "data": {
          "bar": [
           {
            "error_x": {
             "color": "#2a3f5f"
            },
            "error_y": {
             "color": "#2a3f5f"
            },
            "marker": {
             "line": {
              "color": "#E5ECF6",
              "width": 0.5
             }
            },
            "type": "bar"
           }
          ],
          "barpolar": [
           {
            "marker": {
             "line": {
              "color": "#E5ECF6",
              "width": 0.5
             }
            },
            "type": "barpolar"
           }
          ],
          "carpet": [
           {
            "aaxis": {
             "endlinecolor": "#2a3f5f",
             "gridcolor": "white",
             "linecolor": "white",
             "minorgridcolor": "white",
             "startlinecolor": "#2a3f5f"
            },
            "baxis": {
             "endlinecolor": "#2a3f5f",
             "gridcolor": "white",
             "linecolor": "white",
             "minorgridcolor": "white",
             "startlinecolor": "#2a3f5f"
            },
            "type": "carpet"
           }
          ],
          "choropleth": [
           {
            "colorbar": {
             "outlinewidth": 0,
             "ticks": ""
            },
            "type": "choropleth"
           }
          ],
          "contour": [
           {
            "colorbar": {
             "outlinewidth": 0,
             "ticks": ""
            },
            "colorscale": [
             [
              0,
              "#0d0887"
             ],
             [
              0.1111111111111111,
              "#46039f"
             ],
             [
              0.2222222222222222,
              "#7201a8"
             ],
             [
              0.3333333333333333,
              "#9c179e"
             ],
             [
              0.4444444444444444,
              "#bd3786"
             ],
             [
              0.5555555555555556,
              "#d8576b"
             ],
             [
              0.6666666666666666,
              "#ed7953"
             ],
             [
              0.7777777777777778,
              "#fb9f3a"
             ],
             [
              0.8888888888888888,
              "#fdca26"
             ],
             [
              1,
              "#f0f921"
             ]
            ],
            "type": "contour"
           }
          ],
          "contourcarpet": [
           {
            "colorbar": {
             "outlinewidth": 0,
             "ticks": ""
            },
            "type": "contourcarpet"
           }
          ],
          "heatmap": [
           {
            "colorbar": {
             "outlinewidth": 0,
             "ticks": ""
            },
            "colorscale": [
             [
              0,
              "#0d0887"
             ],
             [
              0.1111111111111111,
              "#46039f"
             ],
             [
              0.2222222222222222,
              "#7201a8"
             ],
             [
              0.3333333333333333,
              "#9c179e"
             ],
             [
              0.4444444444444444,
              "#bd3786"
             ],
             [
              0.5555555555555556,
              "#d8576b"
             ],
             [
              0.6666666666666666,
              "#ed7953"
             ],
             [
              0.7777777777777778,
              "#fb9f3a"
             ],
             [
              0.8888888888888888,
              "#fdca26"
             ],
             [
              1,
              "#f0f921"
             ]
            ],
            "type": "heatmap"
           }
          ],
          "heatmapgl": [
           {
            "colorbar": {
             "outlinewidth": 0,
             "ticks": ""
            },
            "colorscale": [
             [
              0,
              "#0d0887"
             ],
             [
              0.1111111111111111,
              "#46039f"
             ],
             [
              0.2222222222222222,
              "#7201a8"
             ],
             [
              0.3333333333333333,
              "#9c179e"
             ],
             [
              0.4444444444444444,
              "#bd3786"
             ],
             [
              0.5555555555555556,
              "#d8576b"
             ],
             [
              0.6666666666666666,
              "#ed7953"
             ],
             [
              0.7777777777777778,
              "#fb9f3a"
             ],
             [
              0.8888888888888888,
              "#fdca26"
             ],
             [
              1,
              "#f0f921"
             ]
            ],
            "type": "heatmapgl"
           }
          ],
          "histogram": [
           {
            "marker": {
             "colorbar": {
              "outlinewidth": 0,
              "ticks": ""
             }
            },
            "type": "histogram"
           }
          ],
          "histogram2d": [
           {
            "colorbar": {
             "outlinewidth": 0,
             "ticks": ""
            },
            "colorscale": [
             [
              0,
              "#0d0887"
             ],
             [
              0.1111111111111111,
              "#46039f"
             ],
             [
              0.2222222222222222,
              "#7201a8"
             ],
             [
              0.3333333333333333,
              "#9c179e"
             ],
             [
              0.4444444444444444,
              "#bd3786"
             ],
             [
              0.5555555555555556,
              "#d8576b"
             ],
             [
              0.6666666666666666,
              "#ed7953"
             ],
             [
              0.7777777777777778,
              "#fb9f3a"
             ],
             [
              0.8888888888888888,
              "#fdca26"
             ],
             [
              1,
              "#f0f921"
             ]
            ],
            "type": "histogram2d"
           }
          ],
          "histogram2dcontour": [
           {
            "colorbar": {
             "outlinewidth": 0,
             "ticks": ""
            },
            "colorscale": [
             [
              0,
              "#0d0887"
             ],
             [
              0.1111111111111111,
              "#46039f"
             ],
             [
              0.2222222222222222,
              "#7201a8"
             ],
             [
              0.3333333333333333,
              "#9c179e"
             ],
             [
              0.4444444444444444,
              "#bd3786"
             ],
             [
              0.5555555555555556,
              "#d8576b"
             ],
             [
              0.6666666666666666,
              "#ed7953"
             ],
             [
              0.7777777777777778,
              "#fb9f3a"
             ],
             [
              0.8888888888888888,
              "#fdca26"
             ],
             [
              1,
              "#f0f921"
             ]
            ],
            "type": "histogram2dcontour"
           }
          ],
          "mesh3d": [
           {
            "colorbar": {
             "outlinewidth": 0,
             "ticks": ""
            },
            "type": "mesh3d"
           }
          ],
          "parcoords": [
           {
            "line": {
             "colorbar": {
              "outlinewidth": 0,
              "ticks": ""
             }
            },
            "type": "parcoords"
           }
          ],
          "pie": [
           {
            "automargin": true,
            "type": "pie"
           }
          ],
          "scatter": [
           {
            "marker": {
             "colorbar": {
              "outlinewidth": 0,
              "ticks": ""
             }
            },
            "type": "scatter"
           }
          ],
          "scatter3d": [
           {
            "line": {
             "colorbar": {
              "outlinewidth": 0,
              "ticks": ""
             }
            },
            "marker": {
             "colorbar": {
              "outlinewidth": 0,
              "ticks": ""
             }
            },
            "type": "scatter3d"
           }
          ],
          "scattercarpet": [
           {
            "marker": {
             "colorbar": {
              "outlinewidth": 0,
              "ticks": ""
             }
            },
            "type": "scattercarpet"
           }
          ],
          "scattergeo": [
           {
            "marker": {
             "colorbar": {
              "outlinewidth": 0,
              "ticks": ""
             }
            },
            "type": "scattergeo"
           }
          ],
          "scattergl": [
           {
            "marker": {
             "colorbar": {
              "outlinewidth": 0,
              "ticks": ""
             }
            },
            "type": "scattergl"
           }
          ],
          "scattermapbox": [
           {
            "marker": {
             "colorbar": {
              "outlinewidth": 0,
              "ticks": ""
             }
            },
            "type": "scattermapbox"
           }
          ],
          "scatterpolar": [
           {
            "marker": {
             "colorbar": {
              "outlinewidth": 0,
              "ticks": ""
             }
            },
            "type": "scatterpolar"
           }
          ],
          "scatterpolargl": [
           {
            "marker": {
             "colorbar": {
              "outlinewidth": 0,
              "ticks": ""
             }
            },
            "type": "scatterpolargl"
           }
          ],
          "scatterternary": [
           {
            "marker": {
             "colorbar": {
              "outlinewidth": 0,
              "ticks": ""
             }
            },
            "type": "scatterternary"
           }
          ],
          "surface": [
           {
            "colorbar": {
             "outlinewidth": 0,
             "ticks": ""
            },
            "colorscale": [
             [
              0,
              "#0d0887"
             ],
             [
              0.1111111111111111,
              "#46039f"
             ],
             [
              0.2222222222222222,
              "#7201a8"
             ],
             [
              0.3333333333333333,
              "#9c179e"
             ],
             [
              0.4444444444444444,
              "#bd3786"
             ],
             [
              0.5555555555555556,
              "#d8576b"
             ],
             [
              0.6666666666666666,
              "#ed7953"
             ],
             [
              0.7777777777777778,
              "#fb9f3a"
             ],
             [
              0.8888888888888888,
              "#fdca26"
             ],
             [
              1,
              "#f0f921"
             ]
            ],
            "type": "surface"
           }
          ],
          "table": [
           {
            "cells": {
             "fill": {
              "color": "#EBF0F8"
             },
             "line": {
              "color": "white"
             }
            },
            "header": {
             "fill": {
              "color": "#C8D4E3"
             },
             "line": {
              "color": "white"
             }
            },
            "type": "table"
           }
          ]
         },
         "layout": {
          "annotationdefaults": {
           "arrowcolor": "#2a3f5f",
           "arrowhead": 0,
           "arrowwidth": 1
          },
          "autotypenumbers": "strict",
          "coloraxis": {
           "colorbar": {
            "outlinewidth": 0,
            "ticks": ""
           }
          },
          "colorscale": {
           "diverging": [
            [
             0,
             "#8e0152"
            ],
            [
             0.1,
             "#c51b7d"
            ],
            [
             0.2,
             "#de77ae"
            ],
            [
             0.3,
             "#f1b6da"
            ],
            [
             0.4,
             "#fde0ef"
            ],
            [
             0.5,
             "#f7f7f7"
            ],
            [
             0.6,
             "#e6f5d0"
            ],
            [
             0.7,
             "#b8e186"
            ],
            [
             0.8,
             "#7fbc41"
            ],
            [
             0.9,
             "#4d9221"
            ],
            [
             1,
             "#276419"
            ]
           ],
           "sequential": [
            [
             0,
             "#0d0887"
            ],
            [
             0.1111111111111111,
             "#46039f"
            ],
            [
             0.2222222222222222,
             "#7201a8"
            ],
            [
             0.3333333333333333,
             "#9c179e"
            ],
            [
             0.4444444444444444,
             "#bd3786"
            ],
            [
             0.5555555555555556,
             "#d8576b"
            ],
            [
             0.6666666666666666,
             "#ed7953"
            ],
            [
             0.7777777777777778,
             "#fb9f3a"
            ],
            [
             0.8888888888888888,
             "#fdca26"
            ],
            [
             1,
             "#f0f921"
            ]
           ],
           "sequentialminus": [
            [
             0,
             "#0d0887"
            ],
            [
             0.1111111111111111,
             "#46039f"
            ],
            [
             0.2222222222222222,
             "#7201a8"
            ],
            [
             0.3333333333333333,
             "#9c179e"
            ],
            [
             0.4444444444444444,
             "#bd3786"
            ],
            [
             0.5555555555555556,
             "#d8576b"
            ],
            [
             0.6666666666666666,
             "#ed7953"
            ],
            [
             0.7777777777777778,
             "#fb9f3a"
            ],
            [
             0.8888888888888888,
             "#fdca26"
            ],
            [
             1,
             "#f0f921"
            ]
           ]
          },
          "colorway": [
           "#636efa",
           "#EF553B",
           "#00cc96",
           "#ab63fa",
           "#FFA15A",
           "#19d3f3",
           "#FF6692",
           "#B6E880",
           "#FF97FF",
           "#FECB52"
          ],
          "font": {
           "color": "#2a3f5f"
          },
          "geo": {
           "bgcolor": "white",
           "lakecolor": "white",
           "landcolor": "#E5ECF6",
           "showlakes": true,
           "showland": true,
           "subunitcolor": "white"
          },
          "hoverlabel": {
           "align": "left"
          },
          "hovermode": "closest",
          "mapbox": {
           "style": "light"
          },
          "paper_bgcolor": "white",
          "plot_bgcolor": "#E5ECF6",
          "polar": {
           "angularaxis": {
            "gridcolor": "white",
            "linecolor": "white",
            "ticks": ""
           },
           "bgcolor": "#E5ECF6",
           "radialaxis": {
            "gridcolor": "white",
            "linecolor": "white",
            "ticks": ""
           }
          },
          "scene": {
           "xaxis": {
            "backgroundcolor": "#E5ECF6",
            "gridcolor": "white",
            "gridwidth": 2,
            "linecolor": "white",
            "showbackground": true,
            "ticks": "",
            "zerolinecolor": "white"
           },
           "yaxis": {
            "backgroundcolor": "#E5ECF6",
            "gridcolor": "white",
            "gridwidth": 2,
            "linecolor": "white",
            "showbackground": true,
            "ticks": "",
            "zerolinecolor": "white"
           },
           "zaxis": {
            "backgroundcolor": "#E5ECF6",
            "gridcolor": "white",
            "gridwidth": 2,
            "linecolor": "white",
            "showbackground": true,
            "ticks": "",
            "zerolinecolor": "white"
           }
          },
          "shapedefaults": {
           "line": {
            "color": "#2a3f5f"
           }
          },
          "ternary": {
           "aaxis": {
            "gridcolor": "white",
            "linecolor": "white",
            "ticks": ""
           },
           "baxis": {
            "gridcolor": "white",
            "linecolor": "white",
            "ticks": ""
           },
           "bgcolor": "#E5ECF6",
           "caxis": {
            "gridcolor": "white",
            "linecolor": "white",
            "ticks": ""
           }
          },
          "title": {
           "x": 0.05
          },
          "xaxis": {
           "automargin": true,
           "gridcolor": "white",
           "linecolor": "white",
           "ticks": "",
           "title": {
            "standoff": 15
           },
           "zerolinecolor": "white",
           "zerolinewidth": 2
          },
          "yaxis": {
           "automargin": true,
           "gridcolor": "white",
           "linecolor": "white",
           "ticks": "",
           "title": {
            "standoff": 15
           },
           "zerolinecolor": "white",
           "zerolinewidth": 2
          }
         }
        }
       }
      },
      "text/html": [
       "<div>                            <div id=\"3f3b4779-db49-4c1f-af0c-5ac6705e0e7f\" class=\"plotly-graph-div\" style=\"height:1000px; width:100%;\"></div>            <script type=\"text/javascript\">                require([\"plotly\"], function(Plotly) {                    window.PLOTLYENV=window.PLOTLYENV || {};                                    if (document.getElementById(\"3f3b4779-db49-4c1f-af0c-5ac6705e0e7f\")) {                    Plotly.newPlot(                        \"3f3b4779-db49-4c1f-af0c-5ac6705e0e7f\",                        [{\"customdata\": [[\"Afghanistan\"], [\"Afghanistan\"], [\"Albania\"], [\"Albania\"], [\"Algeria\"], [\"Algeria\"], [\"Algeria\"], [\"Algeria\"], [\"Algeria\"], [\"Algeria\"], [\"Algeria\"], [\"Andorra\"], [\"Angola\"], [\"Antigua and Barbuda\"], [\"Argentina\"], [\"Argentina\"], [\"Argentina\"], [\"Argentina\"], [\"Argentina\"], [\"Argentina\"], [\"Argentina\"], [\"Argentina\"], [\"Armenia\"], [\"Armenia\"], [\"Armenia\"], [\"Australia\"], [\"Australia\"], [\"Australia\"], [\"Australia\"], [\"Australia\"], [\"Australia\"], [\"Australia\"], [\"Australia\"], [\"Australia\"], [\"Australia\"], [\"Australia\"], [\"Australia\"], [\"Australia\"], [\"Australia\"], [\"Australia\"], [\"Australia\"], [\"Australia\"], [\"Australia\"], [\"Australia\"], [\"Australia\"], [\"Austria\"], [\"Austria\"], [\"Austria\"], [\"Austria\"], [\"Austria\"], [\"Austria\"], [\"Austria\"], [\"Azerbaijan\"], [\"Azerbaijan\"], [\"Azerbaijan\"], [\"Bahrain\"], [\"Bahrain\"], [\"Bahrain\"], [\"Bangladesh\"], [\"Bangladesh\"], [\"Bangladesh\"], [\"Barbados\"], [\"Belarus\"], [\"Belarus\"], [\"Belgium\"], [\"Belgium\"], [\"Belgium\"], [\"Belgium\"], [\"Belgium\"], [\"Belgium\"], [\"Belgium\"], [\"Belgium\"], [\"Belgium\"], [\"Belgium\"], [\"Belize\"], [\"Benin\"], [\"Bolivia (Plurinational State of)\"], [\"Bolivia (Plurinational State of)\"], [\"Bolivia (Plurinational State of)\"], [\"Bolivia (Plurinational State of)\"], [\"Bolivia (Plurinational State of)\"], [\"Bolivia (Plurinational State of)\"], [\"Bosnia and Herzegovina\"], [\"Bosnia and Herzegovina\"], [\"Botswana\"], [\"Botswana\"], [\"Brazil\"], [\"Brazil\"], [\"Brazil\"], [\"Brazil\"], [\"Brazil\"], [\"Brazil\"], [\"Brazil\"], [\"Brazil\"], [\"Brazil\"], [\"Brazil\"], [\"Brazil\"], [\"Brazil\"], [\"Brazil\"], [\"Brazil\"], [\"Brazil\"], [\"Brazil\"], [\"Brazil\"], [\"Brazil\"], [\"Brazil\"], [\"Brazil\"], [\"Brazil\"], [\"Bulgaria\"], [\"Bulgaria\"], [\"Bulgaria\"], [\"Bulgaria\"], [\"Bulgaria\"], [\"Bulgaria\"], [\"Bulgaria\"], [\"Bulgaria\"], [\"Bulgaria\"], [\"Burkina Faso\"], [\"Burkina Faso\"], [\"Cabo Verde\"], [\"Cambodia\"], [\"Cambodia\"], [\"Cambodia\"], [\"Cameroon\"], [\"Canada\"], [\"Canada\"], [\"Canada\"], [\"Canada\"], [\"Canada\"], [\"Canada\"], [\"Canada\"], [\"Canada\"], [\"Canada\"], [\"Canada\"], [\"Canada\"], [\"Canada\"], [\"Canada\"], [\"Canada\"], [\"Canada\"], [\"Canada\"], [\"Canada\"], [\"Canada\"], [\"Central African Republic\"], [\"Chad\"], [\"Chad\"], [\"Chile\"], [\"Chile\"], [\"Chile\"], [\"Chile\"], [\"Chile\"], [\"China\"], [\"China\"], [\"China\"], [\"China\"], [\"China\"], [\"China\"], [\"China\"], [\"China\"], [\"China\"], [\"China\"], [\"China\"], [\"China\"], [\"China\"], [\"China\"], [\"China\"], [\"China\"], [\"China\"], [\"China\"], [\"China\"], [\"China\"], [\"China\"], [\"China\"], [\"China\"], [\"China\"], [\"China\"], [\"China\"], [\"China\"], [\"China\"], [\"China\"], [\"China\"], [\"China\"], [\"China\"], [\"China\"], [\"China\"], [\"China\"], [\"China\"], [\"China\"], [\"China\"], [\"China\"], [\"China\"], [\"China\"], [\"China\"], [\"China\"], [\"China\"], [\"China\"], [\"China\"], [\"China\"], [\"China\"], [\"China\"], [\"China\"], [\"China\"], [\"China\"], [\"China\"], [\"China\"], [\"Colombia\"], [\"Colombia\"], [\"Colombia\"], [\"Colombia\"], [\"Colombia\"], [\"Colombia\"], [\"Colombia\"], [\"Colombia\"], [\"Costa Rica\"], [\"Costa Rica\"], [\"Costa Rica\"], [\"C\\u00f4te d'Ivoire\"], [\"C\\u00f4te d'Ivoire\"], [\"C\\u00f4te d'Ivoire\"], [\"Croatia\"], [\"Croatia\"], [\"Croatia\"], [\"Croatia\"], [\"Croatia\"], [\"Croatia\"], [\"Croatia\"], [\"Cuba\"], [\"Cuba\"], [\"Cuba\"], [\"Cuba\"], [\"Cuba\"], [\"Cuba\"], [\"Cuba\"], [\"Cuba\"], [\"Cuba\"], [\"Cyprus\"], [\"Cyprus\"], [\"Cyprus\"], [\"Czechia\"], [\"Czechia\"], [\"Czechia\"], [\"Czechia\"], [\"Czechia\"], [\"Czechia\"], [\"Czechia\"], [\"Czechia\"], [\"Czechia\"], [\"Czechia\"], [\"Czechia\"], [\"Czechia\"], [\"Czechia\"], [\"Democratic People's Republic of Korea\"], [\"Democratic People's Republic of Korea\"], [\"Democratic Republic of the Congo\"], [\"Democratic Republic of the Congo\"], [\"Democratic Republic of the Congo\"], [\"Democratic Republic of the Congo\"], [\"Democratic Republic of the Congo\"], [\"Denmark\"], [\"Denmark\"], [\"Denmark\"], [\"Denmark\"], [\"Denmark\"], [\"Denmark\"], [\"Denmark\"], [\"Denmark\"], [\"Denmark\"], [\"Dominica\"], [\"Dominican Republic\"], [\"Ecuador\"], [\"Ecuador\"], [\"Ecuador\"], [\"Ecuador\"], [\"Egypt\"], [\"Egypt\"], [\"Egypt\"], [\"Egypt\"], [\"Egypt\"], [\"Egypt\"], [\"Egypt\"], [\"El Salvador\"], [\"Eritrea\"], [\"Estonia\"], [\"Ethiopia\"], [\"Ethiopia\"], [\"Ethiopia\"], [\"Ethiopia\"], [\"Ethiopia\"], [\"Ethiopia\"], [\"Ethiopia\"], [\"Ethiopia\"], [\"Ethiopia\"], [\"Fiji\"], [\"Finland\"], [\"Finland\"], [\"Finland\"], [\"Finland\"], [\"Finland\"], [\"France\"], [\"France\"], [\"France\"], [\"France\"], [\"France\"], [\"France\"], [\"France\"], [\"France\"], [\"France\"], [\"France\"], [\"France\"], [\"France\"], [\"France\"], [\"France\"], [\"France\"], [\"France\"], [\"France\"], [\"France\"], [\"France\"], [\"France\"], [\"France\"], [\"France\"], [\"France\"], [\"France\"], [\"France\"], [\"France\"], [\"France\"], [\"France\"], [\"France\"], [\"France\"], [\"France\"], [\"France\"], [\"France\"], [\"France\"], [\"France\"], [\"France\"], [\"France\"], [\"France\"], [\"France\"], [\"France\"], [\"France\"], [\"Gabon\"], [\"Gambia (the)\"], [\"Georgia\"], [\"Georgia\"], [\"Georgia\"], [\"Germany\"], [\"Germany\"], [\"Germany\"], [\"Germany\"], [\"Germany\"], [\"Germany\"], [\"Germany\"], [\"Germany\"], [\"Germany\"], [\"Germany\"], [\"Germany\"], [\"Germany\"], [\"Germany\"], [\"Germany\"], [\"Germany\"], [\"Germany\"], [\"Germany\"], [\"Germany\"], [\"Germany\"], [\"Germany\"], [\"Germany\"], [\"Germany\"], [\"Germany\"], [\"Germany\"], [\"Germany\"], [\"Germany\"], [\"Germany\"], [\"Germany\"], [\"Germany\"], [\"Germany\"], [\"Germany\"], [\"Germany\"], [\"Germany\"], [\"Germany\"], [\"Germany\"], [\"Germany\"], [\"Germany\"], [\"Germany\"], [\"Germany\"], [\"Ghana\"], [\"Ghana\"], [\"Greece\"], [\"Greece\"], [\"Greece\"], [\"Greece\"], [\"Greece\"], [\"Greece\"], [\"Greece\"], [\"Greece\"], [\"Greece\"], [\"Greece\"], [\"Greece\"], [\"Greece\"], [\"Greece\"], [\"Greece\"], [\"Greece\"], [\"Greece\"], [\"Greece\"], [\"Greece\"], [\"Guatemala\"], [\"Guatemala\"], [\"Guatemala\"], [\"Haiti\"], [\"Holy See\"], [\"Honduras\"], [\"Honduras\"], [\"Hungary\"], [\"Hungary\"], [\"Hungary\"], [\"Hungary\"], [\"Hungary\"], [\"Hungary\"], [\"Iceland\"], [\"Iceland\"], [\"Iceland\"], [\"India\"], [\"India\"], [\"India\"], [\"India\"], [\"India\"], [\"India\"], [\"India\"], [\"India\"], [\"India\"], [\"India\"], [\"India\"], [\"India\"], [\"India\"], [\"India\"], [\"India\"], [\"India\"], [\"India\"], [\"India\"], [\"India\"], [\"India\"], [\"India\"], [\"India\"], [\"India\"], [\"India\"], [\"India\"], [\"India\"], [\"India\"], [\"India\"], [\"India\"], [\"India\"], [\"India\"], [\"India\"], [\"India\"], [\"India\"], [\"India\"], [\"India\"], [\"India\"], [\"Indonesia\"], [\"Indonesia\"], [\"Indonesia\"], [\"Indonesia\"], [\"Indonesia\"], [\"Indonesia\"], [\"Indonesia\"], [\"Indonesia\"], [\"Indonesia\"], [\"Iran (Islamic Republic of)\"], [\"Iran (Islamic Republic of)\"], [\"Iran (Islamic Republic of)\"], [\"Iran (Islamic Republic of)\"], [\"Iran (Islamic Republic of)\"], [\"Iran (Islamic Republic of)\"], [\"Iran (Islamic Republic of)\"], [\"Iran (Islamic Republic of)\"], [\"Iran (Islamic Republic of)\"], [\"Iran (Islamic Republic of)\"], [\"Iran (Islamic Republic of)\"], [\"Iran (Islamic Republic of)\"], [\"Iran (Islamic Republic of)\"], [\"Iran (Islamic Republic of)\"], [\"Iran (Islamic Republic of)\"], [\"Iran (Islamic Republic of)\"], [\"Iran (Islamic Republic of)\"], [\"Iran (Islamic Republic of)\"], [\"Iran (Islamic Republic of)\"], [\"Iran (Islamic Republic of)\"], [\"Iran (Islamic Republic of)\"], [\"Iran (Islamic Republic of)\"], [\"Iran (Islamic Republic of)\"], [\"Iran (Islamic Republic of)\"], [\"Iraq\"], [\"Iraq\"], [\"Iraq\"], [\"Iraq\"], [\"Iraq\"], [\"Iraq\"], [\"Ireland\"], [\"Ireland\"], [\"Israel\"], [\"Israel\"], [\"Israel\"], [\"Israel\"], [\"Israel\"], [\"Israel\"], [\"Israel\"], [\"Israel\"], [\"Israel\"], [\"Italy\"], [\"Italy\"], [\"Italy\"], [\"Italy\"], [\"Italy\"], [\"Italy\"], [\"Italy\"], [\"Italy\"], [\"Italy\"], [\"Italy\"], [\"Italy\"], [\"Italy\"], [\"Italy\"], [\"Italy\"], [\"Italy\"], [\"Italy\"], [\"Italy\"], [\"Italy\"], [\"Italy\"], [\"Italy\"], [\"Italy\"], [\"Italy\"], [\"Italy\"], [\"Italy\"], [\"Italy\"], [\"Italy\"], [\"Italy\"], [\"Italy\"], [\"Italy\"], [\"Italy\"], [\"Italy\"], [\"Italy\"], [\"Italy\"], [\"Italy\"], [\"Italy\"], [\"Italy\"], [\"Italy\"], [\"Italy\"], [\"Italy\"], [\"Italy\"], [\"Italy\"], [\"Italy\"], [\"Italy\"], [\"Italy\"], [\"Italy\"], [\"Italy\"], [\"Italy\"], [\"Italy\"], [\"Italy\"], [\"Jamaica\"], [\"Japan\"], [\"Japan\"], [\"Japan\"], [\"Japan\"], [\"Japan\"], [\"Japan\"], [\"Japan\"], [\"Japan\"], [\"Japan\"], [\"Japan\"], [\"Japan\"], [\"Japan\"], [\"Japan\"], [\"Japan\"], [\"Japan\"], [\"Japan\"], [\"Japan\"], [\"Japan\"], [\"Japan\"], [\"Japan\"], [\"Japan\"], [\"Japan\"], [\"Jerusalem (Site proposed by Jordan)\"], [\"Jordan\"], [\"Jordan\"], [\"Jordan\"], [\"Jordan\"], [\"Jordan\"], [\"Kazakhstan\"], [\"Kazakhstan\"], [\"Kazakhstan\"], [\"Kenya\"], [\"Kenya\"], [\"Kenya\"], [\"Kenya\"], [\"Kenya\"], [\"Kenya\"], [\"Kenya\"], [\"Kiribati\"], [\"Kyrgyzstan\"], [\"Lao People's Democratic Republic\"], [\"Lao People's Democratic Republic\"], [\"Lao People's Democratic Republic\"], [\"Latvia\"], [\"Lebanon\"], [\"Lebanon\"], [\"Lebanon\"], [\"Lebanon\"], [\"Lebanon\"], [\"Libya\"], [\"Libya\"], [\"Libya\"], [\"Libya\"], [\"Libya\"], [\"Lithuania\"], [\"Lithuania\"], [\"Luxembourg\"], [\"Madagascar\"], [\"Madagascar\"], [\"Madagascar\"], [\"Malawi\"], [\"Malawi\"], [\"Malaysia\"], [\"Malaysia\"], [\"Malaysia\"], [\"Malaysia\"], [\"Mali\"], [\"Mali\"], [\"Mali\"], [\"Mali\"], [\"Malta\"], [\"Malta\"], [\"Malta\"], [\"Marshall Islands\"], [\"Mauritania\"], [\"Mauritania\"], [\"Mauritius\"], [\"Mauritius\"], [\"Mexico\"], [\"Mexico\"], [\"Mexico\"], [\"Mexico\"], [\"Mexico\"], [\"Mexico\"], [\"Mexico\"], [\"Mexico\"], [\"Mexico\"], [\"Mexico\"], [\"Mexico\"], [\"Mexico\"], [\"Mexico\"], [\"Mexico\"], [\"Mexico\"], [\"Mexico\"], [\"Mexico\"], [\"Mexico\"], [\"Mexico\"], [\"Mexico\"], [\"Mexico\"], [\"Mexico\"], [\"Mexico\"], [\"Mexico\"], [\"Mexico\"], [\"Mexico\"], [\"Mexico\"], [\"Mexico\"], [\"Mexico\"], [\"Mexico\"], [\"Mexico\"], [\"Mexico\"], [\"Mexico\"], [\"Mexico\"], [\"Mexico\"], [\"Micronesia (Federated States of)\"], [\"Mongolia\"], [\"Mongolia\"], [\"Mongolia\"], [\"Montenegro\"], [\"Montenegro\"], [\"Morocco\"], [\"Morocco\"], [\"Morocco\"], [\"Morocco\"], [\"Morocco\"], [\"Morocco\"], [\"Morocco\"], [\"Morocco\"], [\"Morocco\"], [\"Mozambique\"], [\"Myanmar\"], [\"Myanmar\"], [\"Namibia\"], [\"Namibia\"], [\"Nepal\"], [\"Nepal\"], [\"Nepal\"], [\"Nepal\"], [\"Netherlands\"], [\"Netherlands\"], [\"Netherlands\"], [\"Netherlands\"], [\"Netherlands\"], [\"Netherlands\"], [\"Netherlands\"], [\"Netherlands\"], [\"Netherlands\"], [\"New Zealand\"], [\"New Zealand\"], [\"New Zealand\"], [\"Nicaragua\"], [\"Nicaragua\"], [\"Niger\"], [\"Niger\"], [\"Nigeria\"], [\"Nigeria\"], [\"Norway\"], [\"Norway\"], [\"Norway\"], [\"Norway\"], [\"Norway\"], [\"Norway\"], [\"Norway\"], [\"Oman\"], [\"Oman\"], [\"Oman\"], [\"Oman\"], [\"Oman\"], [\"Pakistan\"], [\"Pakistan\"], [\"Pakistan\"], [\"Pakistan\"], [\"Pakistan\"], [\"Pakistan\"], [\"Palau\"], [\"Palestine\"], [\"Palestine\"], [\"Palestine\"], [\"Panama\"], [\"Panama\"], [\"Panama\"], [\"Panama\"], [\"Papua New Guinea\"], [\"Paraguay\"], [\"Peru\"], [\"Peru\"], [\"Peru\"], [\"Peru\"], [\"Peru\"], [\"Peru\"], [\"Peru\"], [\"Peru\"], [\"Peru\"], [\"Peru\"], [\"Peru\"], [\"Philippines\"], [\"Philippines\"], [\"Philippines\"], [\"Philippines\"], [\"Philippines\"], [\"Philippines\"], [\"Poland\"], [\"Poland\"], [\"Poland\"], [\"Poland\"], [\"Poland\"], [\"Poland\"], [\"Poland\"], [\"Poland\"], [\"Poland\"], [\"Poland\"], [\"Poland\"], [\"Poland\"], [\"Poland\"], [\"Portugal\"], [\"Portugal\"], [\"Portugal\"], [\"Portugal\"], [\"Portugal\"], [\"Portugal\"], [\"Portugal\"], [\"Portugal\"], [\"Portugal\"], [\"Portugal\"], [\"Portugal\"], [\"Portugal\"], [\"Portugal\"], [\"Portugal\"], [\"Portugal\"], [\"Portugal\"], [\"Qatar\"], [\"Republic of Korea\"], [\"Republic of Korea\"], [\"Republic of Korea\"], [\"Republic of Korea\"], [\"Republic of Korea\"], [\"Republic of Korea\"], [\"Republic of Korea\"], [\"Republic of Korea\"], [\"Republic of Korea\"], [\"Republic of Korea\"], [\"Republic of Korea\"], [\"Republic of Korea\"], [\"Republic of Korea\"], [\"Republic of Korea\"], [\"Romania\"], [\"Romania\"], [\"Romania\"], [\"Romania\"], [\"Romania\"], [\"Romania\"], [\"Romania\"], [\"Russian Federation\"], [\"Russian Federation\"], [\"Russian Federation\"], [\"Russian Federation\"], [\"Russian Federation\"], [\"Russian Federation\"], [\"Russian Federation\"], [\"Russian Federation\"], [\"Russian Federation\"], [\"Russian Federation\"], [\"Russian Federation\"], [\"Russian Federation\"], [\"Russian Federation\"], [\"Russian Federation\"], [\"Russian Federation\"], [\"Russian Federation\"], [\"Russian Federation\"], [\"Russian Federation\"], [\"Russian Federation\"], [\"Russian Federation\"], [\"Russian Federation\"], [\"Russian Federation\"], [\"Russian Federation\"], [\"Russian Federation\"], [\"Russian Federation\"], [\"Saint Kitts and Nevis\"], [\"Saint Lucia\"], [\"San Marino\"], [\"Saudi Arabia\"], [\"Saudi Arabia\"], [\"Saudi Arabia\"], [\"Saudi Arabia\"], [\"Saudi Arabia\"], [\"Senegal\"], [\"Senegal\"], [\"Senegal\"], [\"Senegal\"], [\"Senegal\"], [\"Senegal\"], [\"Serbia\"], [\"Serbia\"], [\"Serbia\"], [\"Serbia\"], [\"Seychelles\"], [\"Seychelles\"], [\"Singapore\"], [\"Slovakia\"], [\"Slovakia\"], [\"Slovakia\"], [\"Slovakia\"], [\"Slovakia\"], [\"Slovenia\"], [\"Solomon Islands\"], [\"South Africa\"], [\"South Africa\"], [\"South Africa\"], [\"South Africa\"], [\"South Africa\"], [\"South Africa\"], [\"South Africa\"], [\"South Africa\"], [\"South Africa\"], [\"Spain\"], [\"Spain\"], [\"Spain\"], [\"Spain\"], [\"Spain\"], [\"Spain\"], [\"Spain\"], [\"Spain\"], [\"Spain\"], [\"Spain\"], [\"Spain\"], [\"Spain\"], [\"Spain\"], [\"Spain\"], [\"Spain\"], [\"Spain\"], [\"Spain\"], [\"Spain\"], [\"Spain\"], [\"Spain\"], [\"Spain\"], [\"Spain\"], [\"Spain\"], [\"Spain\"], [\"Spain\"], [\"Spain\"], [\"Spain\"], [\"Spain\"], [\"Spain\"], [\"Spain\"], [\"Spain\"], [\"Spain\"], [\"Spain\"], [\"Spain\"], [\"Spain\"], [\"Spain\"], [\"Spain\"], [\"Spain\"], [\"Spain\"], [\"Spain\"], [\"Spain\"], [\"Spain\"], [\"Spain\"], [\"Spain\"], [\"Sri Lanka\"], [\"Sri Lanka\"], [\"Sri Lanka\"], [\"Sri Lanka\"], [\"Sri Lanka\"], [\"Sri Lanka\"], [\"Sri Lanka\"], [\"Sri Lanka\"], [\"Sudan\"], [\"Sudan\"], [\"Sudan\"], [\"Suriname\"], [\"Suriname\"], [\"Sweden\"], [\"Sweden\"], [\"Sweden\"], [\"Sweden\"], [\"Sweden\"], [\"Sweden\"], [\"Sweden\"], [\"Sweden\"], [\"Sweden\"], [\"Sweden\"], [\"Sweden\"], [\"Sweden\"], [\"Sweden\"], [\"Switzerland\"], [\"Switzerland\"], [\"Switzerland\"], [\"Switzerland\"], [\"Switzerland\"], [\"Switzerland\"], [\"Switzerland\"], [\"Switzerland\"], [\"Syrian Arab Republic\"], [\"Syrian Arab Republic\"], [\"Syrian Arab Republic\"], [\"Syrian Arab Republic\"], [\"Syrian Arab Republic\"], [\"Syrian Arab Republic\"], [\"Tajikistan\"], [\"Tajikistan\"], [\"Thailand\"], [\"Thailand\"], [\"Thailand\"], [\"Thailand\"], [\"Thailand\"], [\"Togo\"], [\"Tunisia\"], [\"Tunisia\"], [\"Tunisia\"], [\"Tunisia\"], [\"Tunisia\"], [\"Tunisia\"], [\"Tunisia\"], [\"Tunisia\"], [\"Turkey\"], [\"Turkey\"], [\"Turkey\"], [\"Turkey\"], [\"Turkey\"], [\"Turkey\"], [\"Turkey\"], [\"Turkey\"], [\"Turkey\"], [\"Turkey\"], [\"Turkey\"], [\"Turkey\"], [\"Turkey\"], [\"Turkey\"], [\"Turkey\"], [\"Turkey\"], [\"Turkey\"], [\"Turkey\"], [\"Turkmenistan\"], [\"Turkmenistan\"], [\"Turkmenistan\"], [\"Uganda\"], [\"Uganda\"], [\"Uganda\"], [\"Ukraine\"], [\"Ukraine\"], [\"Ukraine\"], [\"Ukraine\"], [\"United Arab Emirates\"], [\"United Kingdom of Great Britain and Northern Ireland\"], [\"United Kingdom of Great Britain and Northern Ireland\"], [\"United Kingdom of Great Britain and Northern Ireland\"], [\"United Kingdom of Great Britain and Northern Ireland\"], [\"United Kingdom of Great Britain and Northern Ireland\"], [\"United Kingdom of Great Britain and Northern Ireland\"], [\"United Kingdom of Great Britain and Northern Ireland\"], [\"United Kingdom of Great Britain and Northern Ireland\"], [\"United Kingdom of Great Britain and Northern Ireland\"], [\"United Kingdom of Great Britain and Northern Ireland\"], [\"United Kingdom of Great Britain and Northern Ireland\"], [\"United Kingdom of Great Britain and Northern Ireland\"], [\"United Kingdom of Great Britain and Northern Ireland\"], [\"United Kingdom of Great Britain and Northern Ireland\"], [\"United Kingdom of Great Britain and Northern Ireland\"], [\"United Kingdom of Great Britain and Northern Ireland\"], [\"United Kingdom of Great Britain and Northern Ireland\"], [\"United Kingdom of Great Britain and Northern Ireland\"], [\"United Kingdom of Great Britain and Northern Ireland\"], [\"United Kingdom of Great Britain and Northern Ireland\"], [\"United Kingdom of Great Britain and Northern Ireland\"], [\"United Kingdom of Great Britain and Northern Ireland\"], [\"United Kingdom of Great Britain and Northern Ireland\"], [\"United Kingdom of Great Britain and Northern Ireland\"], [\"United Kingdom of Great Britain and Northern Ireland\"], [\"United Kingdom of Great Britain and Northern Ireland\"], [\"United Kingdom of Great Britain and Northern Ireland\"], [\"United Kingdom of Great Britain and Northern Ireland\"], [\"United Kingdom of Great Britain and Northern Ireland\"], [\"United Kingdom of Great Britain and Northern Ireland\"], [\"United Kingdom of Great Britain and Northern Ireland\"], [\"United Republic of Tanzania\"], [\"United Republic of Tanzania\"], [\"United Republic of Tanzania\"], [\"United Republic of Tanzania\"], [\"United Republic of Tanzania\"], [\"United Republic of Tanzania\"], [\"United Republic of Tanzania\"], [\"United States of America\"], [\"United States of America\"], [\"United States of America\"], [\"United States of America\"], [\"United States of America\"], [\"United States of America\"], [\"United States of America\"], [\"United States of America\"], [\"United States of America\"], [\"United States of America\"], [\"United States of America\"], [\"United States of America\"], [\"United States of America\"], [\"United States of America\"], [\"United States of America\"], [\"United States of America\"], [\"United States of America\"], [\"United States of America\"], [\"United States of America\"], [\"United States of America\"], [\"United States of America\"], [\"United States of America\"], [\"Uruguay\"], [\"Uruguay\"], [\"Uzbekistan\"], [\"Uzbekistan\"], [\"Uzbekistan\"], [\"Uzbekistan\"], [\"Vanuatu\"], [\"Venezuela (Bolivarian Republic of)\"], [\"Venezuela (Bolivarian Republic of)\"], [\"Venezuela (Bolivarian Republic of)\"], [\"Viet Nam\"], [\"Viet Nam\"], [\"Viet Nam\"], [\"Viet Nam\"], [\"Viet Nam\"], [\"Viet Nam\"], [\"Viet Nam\"], [\"Viet Nam\"], [\"Yemen\"], [\"Yemen\"], [\"Yemen\"], [\"Yemen\"], [\"Zimbabwe\"], [\"Zimbabwe\"], [\"Zimbabwe\"], [\"Zimbabwe\"], [\"Albania,Austria,Belgium,Bulgaria,Croatia,Germany,Italy,Romania,Slovakia,Slovenia,Spain,Ukraine\"], [\"Albania,North Macedonia\"], [\"Argentina,Bolivia (Plurinational State of),Chile,Colombia,Ecuador,Peru\"], [\"Argentina,Brazil\"], [\"Austria,France,Germany,Italy,Slovenia,Switzerland\"], [\"Austria,Hungary\"], [\"Belarus,Estonia,Finland,Latvia,Lithuania,Norway,Republic of Moldova,Russian Federation,Sweden,Ukraine\"], [\"Belarus,Poland\"], [\"Belgium,France\"], [\"Belgium,France,Germany,Switzerland,India,Japan,Argentina\"], [\"Benin,Burkina Faso,Niger\"], [\"Bosnia and Herzegovina,Croatia,Serbia,Montenegro\"], [\"Cameroon,Central African Republic,Congo\"], [\"Canada,United States of America\"], [\"Canada,United States of America\"], [\"China,Kazakhstan,Kyrgyzstan\"], [\"Costa Rica,Panama\"], [\"C\\u00f4te d'Ivoire,Guinea\"], [\"Croatia,Italy,Montenegro\"], [\"Czechia,Germany\"], [\"Denmark,Germany,Netherlands\"], [\"Finland,Sweden\"], [\"France,Spain\"], [\"Gambia (the),Senegal\"], [\"Germany,Poland\"], [\"Germany,United Kingdom of Great Britain and Northern Ireland\"], [\"Holy See,Italy\"], [\"Hungary,Slovakia\"], [\"Italy,Switzerland\"], [\"Italy,Switzerland\"], [\"Kazakhstan,Kyrgyzstan,Uzbekistan\"], [\"Lesotho,South Africa\"], [\"Lithuania,Russian Federation\"], [\"Poland,Ukraine\"], [\"Portugal,Spain\"], [\"Russian Federation,Mongolia\"], [\"Russian Federation,Mongolia\"], [\"Slovenia,Spain\"], [\"Zambia,Zimbabwe\"]], \"hovertemplate\": \"<b>%{hovertext}</b><br><br>latitude=%{lat}<br>longitude=%{lon}<br>states_name_en=%{customdata[0]}<extra></extra>\", \"hovertext\": [\"Cultural Landscape and Archaeological Remains of the Bamiyan Valley\", \"Minaret and Archaeological Remains of Jam\", \"Historic Centres of Berat and Gjirokastra \", \"Butrint\", \"Al Qal'a of Beni Hammad\", \"Tassili n'Ajjer\", \"M'Zab Valley\", \"Dj\\u00e9mila\", \"Tipasa\", \"Timgad\", \"Kasbah of Algiers\", \"Madriu-Perafita-Claror Valley\", \"Mbanza Kongo, Vestiges of the Capital of the former Kingdom of Kongo\", \"Antigua Naval Dockyard and Related Archaeological Sites\", \"Los Glaciares National Park\", \"Iguazu National Park\", \"Cueva de las Manos, R\\u00edo Pinturas\", \"Pen\\u00ednsula Vald\\u00e9s\", \"Ischigualasto / Talampaya Natural Parks\", \"Jesuit Block and Estancias of C\\u00f3rdoba\", \"Quebrada de Humahuaca\", \"Los Alerces National Park\", \"Monasteries of Haghpat and Sanahin\", \"Monastery of Geghard and the Upper Azat Valley\", \"Cathedral and Churches of Echmiatsin and the Archaeological Site of Zvartnots\", \"Kakadu National Park\", \"Great Barrier Reef\", \"Sydney Opera House\", \"Willandra Lakes Region\", \"Tasmanian Wilderness\", \"Lord Howe Island Group\", \"Gondwana Rainforests of Australia\", \"Ulu<U>r</U>u-Kata Tju<U>t</U>a National Park\", \"Wet Tropics of Queensland\", \"Heard and McDonald Islands\", \"Shark Bay, Western Australia\", \"Macquarie Island\", \"Fraser Island\", \"Australian Fossil Mammal Sites (Riversleigh / Naracoorte)\", \"Greater Blue Mountains Area\", \"Purnululu National Park\", \"Royal Exhibition Building and Carlton Gardens\", \"Australian Convict Sites\", \"Ningaloo Coast\", \"Budj Bim Cultural Landscape\", \"Historic Centre of the City of Salzburg\", \"Semmering Railway\", \"Palace and Gardens of Sch\\u00f6nbrunn\", \"Hallstatt-Dachstein / Salzkammergut Cultural Landscape\", \"City of Graz \\u2013 Historic Centre and Schloss Eggenberg\", \"Wachau Cultural Landscape\", \"Historic Centre of Vienna\", \"Walled City of Baku with the Shirvanshah's Palace and Maiden Tower\", \"Gobustan Rock Art Cultural Landscape\", \"Historic Centre of Sheki with the Khan\\u2019s Palace\", \"Qal\\u2019at al-Bahrain \\u2013 Ancient Harbour and Capital of Dilmun\", \"Pearling, Testimony of an Island Economy\", \"Dilmun Burial Mounds\", \"Historic Mosque City of Bagerhat\", \"Ruins of the Buddhist Vihara at Paharpur\", \"The Sundarbans\", \"Historic Bridgetown and its Garrison\", \"Mir Castle Complex\", \"Architectural, Residential and Cultural Complex of the Radziwill Family at Nesvizh\", \"Flemish B\\u00e9guinages\", \"The Four Lifts on the Canal du Centre and their Environs, La Louvi\\u00e8re and Le Roeulx (Hainaut)\", \"La Grand-Place, Brussels\", \"Historic Centre of Brugge\", \"Major Town Houses of the Architect Victor Horta (Brussels)\", \"Neolithic Flint Mines at Spiennes (Mons)\", \"Notre-Dame Cathedral in Tournai\", \"Plantin-Moretus House-Workshops-Museum Complex\", \"Stoclet House\", \"Major Mining Sites of Wallonia\", \"Belize Barrier Reef Reserve System\", \"Royal Palaces of Abomey\", \"City of Potos\\u00ed\", \"Jesuit Missions of the Chiquitos\", \"Historic City of Sucre\", \"Tiwanaku: Spiritual and Political Centre of the Tiwanaku Culture\", \"Fuerte de Samaipata\", \"Noel Kempff Mercado National Park\", \"Old Bridge Area of the Old City of Mostar\", \"Mehmed Pa\\u0161a Sokolovi\\u0107 Bridge in Vi\\u0161egrad\", \"Tsodilo\", \"Okavango Delta\", \"Historic Town of Ouro Preto\", \"Historic Centre of the Town of Olinda\", \"Historic Centre of Salvador de Bahia\", \"Sanctuary of Bom Jesus do Congonhas\", \"Igua\\u00e7u National Park\", \"Brasilia\", \"Serra da Capivara National Park\", \"Historic Centre of S\\u00e3o Lu\\u00eds\", \"Historic Centre of the Town of Diamantina\", \"Discovery Coast Atlantic Forest Reserves\", \"Atlantic Forest South-East Reserves\", \"Historic Centre of the Town of Goi\\u00e1s\", \"Central Amazon Conservation Complex\", \"Pantanal Conservation Area\", \"Brazilian Atlantic Islands: Fernando de Noronha and Atol das Rocas Reserves\", \"Cerrado Protected Areas: Chapada dos Veadeiros and Emas National Parks\", \"Rio de Janeiro: Carioca Landscapes between the Mountain and the Sea\", \"S\\u00e3o Francisco Square in the Town of S\\u00e3o Crist\\u00f3v\\u00e3o\", \"Paraty and Ilha Grande \\u2013 Culture and Biodiversity\", \"Pampulha Modern Ensemble\", \"Valongo Wharf Archaeological Site\", \"Boyana Church\", \"Madara Rider\", \"Thracian Tomb of Kazanlak\", \"Rock-Hewn Churches of Ivanovo\", \"Rila Monastery\", \"Ancient City of Nessebar\", \"Srebarna Nature Reserve\", \"Pirin National Park\", \"Thracian Tomb of Sveshtari\", \"Ruins of Lorop\\u00e9ni\", \"Ancient ferrous metallurgy sites of Burkina Faso\", \"Cidade Velha, Historic Centre of Ribeira Grande\", \"Angkor\", \"Temple of Preah Vihear\", \"Temple Zone of Sambor Prei Kuk, Archaeological Site of Ancient Ishanapura\", \"Dja Faunal Reserve\", \"L\\u2019Anse aux Meadows National Historic Site\", \"Nahanni National Park\", \"Dinosaur Provincial Park\", \"S<U>G</U>ang Gwaay\", \"Head-Smashed-In Buffalo Jump\", \"Wood Buffalo National Park\", \"Historic District of Old Qu\\u00e9bec\", \"Canadian Rocky Mountain Parks\", \"Gros Morne National Park\", \"Miguasha National Park\", \"Old Town Lunenburg\", \"Rideau Canal\", \"Joggins Fossil Cliffs\", \"Landscape of Grand Pr\\u00e9\", \"Red Bay Basque Whaling Station\", \"Pimachiowin Aki\", \"Mistaken Point\", \"Writing-on-Stone / \\u00c1\\u00eds\\u00ednai\\u2019pi\", \"Manovo-Gounda St Floris National Park\", \"Lakes of Ounianga\", \"Ennedi Massif: Natural and Cultural Landscape\", \"Rapa Nui National Park\", \"Historic Quarter of the Seaport City of Valpara\\u00edso\", \"Churches of Chilo\\u00e9\", \"Humberstone and Santa Laura Saltpeter Works\", \"Sewell Mining Town\", \"Mount Taishan\", \"The Great Wall\", \"Imperial Palaces of the Ming and Qing Dynasties in Beijing and Shenyang\", \"Mogao Caves\", \"Mausoleum of the First Qin Emperor\", \"Peking Man Site at Zhoukoudian\", \"Mount Huangshan\", \"Jiuzhaigou Valley Scenic and Historic Interest Area\", \"Huanglong Scenic and Historic Interest Area\", \"Wulingyuan Scenic and Historic Interest Area\", \"Mountain Resort and its Outlying Temples, Chengde\", \"Temple and Cemetery of Confucius and the Kong Family Mansion in Qufu\", \"Ancient Building Complex in the Wudang Mountains\", \"Historic Ensemble of the Potala Palace, Lhasa\", \"Lushan National Park\", \"Mount Emei Scenic Area, including Leshan Giant Buddha Scenic Area\", \"Old Town of Lijiang\", \"Ancient City of Ping Yao\", \"Classical Gardens of Suzhou\", \"Summer Palace, an Imperial Garden in Beijing\", \"Temple of Heaven: an Imperial Sacrificial Altar in Beijing\", \"Mount Wuyi\", \"Dazu Rock Carvings\", \"Mount Qingcheng and the Dujiangyan Irrigation System\", \"Ancient Villages in Southern Anhui \\u2013 Xidi and Hongcun\", \"Longmen Grottoes\", \"Imperial Tombs of the Ming and Qing Dynasties\", \"Yungang Grottoes\", \"Three Parallel Rivers of Yunnan Protected Areas\", \"Historic Centre of Macao\", \"Cultural Landscape of Honghe Hani Rice Terraces \", \"Kaiping Diaolou and Villages\", \"Fujian <em>Tulou</em>\", \"Yin Xu\", \"Capital Cities and Tombs of the Ancient Koguryo Kingdom\", \"Sichuan Giant Panda Sanctuaries - Wolong, Mt Siguniang and Jiajin Mountains \", \"South China Karst\", \"Mount Wutai\", \"Mount Sanqingshan National Park\", \"Historic Monuments of Dengfeng in \\u201cThe Centre of Heaven and Earth\\u201d\", \"West Lake Cultural Landscape of Hangzhou\", \"China Danxia\", \"Chengjiang Fossil Site\", \"Site of Xanadu\", \"Xinjiang Tianshan\", \"The Grand Canal\", \"Tusi Sites\", \"Zuojiang Huashan Rock Art Cultural Landscape\", \"Hubei Shennongjia\", \"Qinghai Hoh Xil\", \"Kulangsu, a Historic International Settlement\", \"Fanjingshan\", \"Archaeological Ruins of Liangzhu City\", \"Migratory Bird Sanctuaries along the Coast of Yellow Sea-Bohai Gulf of China (Phase I)\", \"Port, Fortresses and Group of Monuments, Cartagena\", \"Los Kat\\u00edos National Park\", \"Historic Centre of Santa Cruz de Mompox\", \"National Archeological Park of Tierradentro\", \"San Agust\\u00edn Archaeological Park\", \"Coffee Cultural Landscape of Colombia\", \"Chiribiquete National Park \\u2013 \\u201cThe Maloca of the Jaguar\\u201d\", \"Malpelo Fauna and Flora Sanctuary\", \"Cocos Island National Park\", \"Area de Conservaci\\u00f3n Guanacaste\", \"Precolumbian Chiefdom Settlements with Stone Spheres of the Diqu\\u00eds\", \"Ta\\u00ef National Park\", \"Como\\u00e9 National Park\", \"Historic Town of Grand-Bassam\", \"Old City of Dubrovnik\", \"Historical Complex of Split with the Palace of Diocletian\", \"Plitvice Lakes National Park\", \"Episcopal Complex of the Euphrasian Basilica in the Historic Centre of Pore\\u010d\", \"Historic City of Trogir\", \"The Cathedral of St James in \\u0160ibenik\", \"Stari Grad Plain\", \"Old Havana and its Fortification System\", \"Trinidad and the Valley de los Ingenios\", \"Alejandro de Humboldt National Park\", \"Vi\\u00f1ales Valley\", \"San Pedro de la Roca Castle, Santiago de Cuba\", \"Desembarco del Granma National Park\", \"Archaeological Landscape of the First Coffee Plantations in the South-East of Cuba\", \"Urban Historic Centre of Cienfuegos \", \"Historic Centre of Camag\\u00fcey\", \"Paphos\", \"Painted Churches in the Troodos Region\", \"Choirokoitia\", \"Historic Centre of Prague\", \"Historic Centre of \\u010cesk\\u00fd Krumlov\", \"Historic Centre of Tel\\u010d\", \"Pilgrimage Church of St John of Nepomuk at Zelen\\u00e1 Hora\", \"Kutn\\u00e1 Hora: Historical Town Centre with the Church of St Barbara and the Cathedral of Our Lady at Sedlec\", \"Lednice-Valtice Cultural Landscape\", \"Holy Trinity Column in Olomouc\", \"Gardens and Castle at Krom\\u011b\\u0159\\u00ed\\u017e\", \"Hola\\u0161ovice Historic Village\", \"Litomy\\u0161l Castle\", \"Tugendhat Villa in Brno\", \"Jewish Quarter and St Procopius' Basilica in T\\u0159eb\\u00ed\\u010d\", \"Landscape for Breeding and Training of Ceremonial Carriage Horses at Kladruby nad Labem\", \"Complex of Koguryo Tombs\", \"Historic Monuments and Sites in Kaesong\", \"Virunga National Park\", \"Garamba National Park\", \"Kahuzi-Biega National Park\", \"Salonga National Park\", \"Okapi Wildlife Reserve\", \"Roskilde Cathedral\", \"Kronborg Castle\", \"Jelling Mounds, Runic Stones and Church\", \"Ilulissat Icefjord\", \"Stevns Klint\", \"Christiansfeld, a Moravian Church Settlement\", \"The par force hunting landscape in North Zealand\", \"Kujataa Greenland: Norse and Inuit Farming at the Edge of the Ice Cap\", \"Aasivissuit \\u2013 Nipisat. Inuit Hunting Ground between Ice and Sea\", \"Morne Trois Pitons National Park\", \"Colonial City of Santo Domingo\", \"Gal\\u00e1pagos Islands\", \"City of Quito\", \"Sangay National Park\", \"Historic Centre of Santa Ana de los R\\u00edos de Cuenca\", \"Memphis and its Necropolis \\u2013 the Pyramid Fields from Giza to Dahshur\", \"Ancient Thebes with its Necropolis\", \"Nubian Monuments from Abu Simbel to Philae\", \"Historic Cairo\", \"Abu Mena\", \"Saint Catherine Area\", \"Wadi Al-Hitan (Whale Valley)\", \"Joya de Cer\\u00e9n Archaeological Site\", \"Asmara: A Modernist African City\", \"Historic Centre (Old Town) of Tallinn\", \"Simien National Park\", \"Lower Valley of the Awash\", \"Tiya\", \"Aksum\", \"Lower Valley of the Omo\", \"Rock-Hewn Churches, Lalibela\", \"Fasil Ghebbi, Gondar Region\", \"Harar Jugol, the Fortified Historic Town\", \"Konso Cultural Landscape\", \"Levuka Historical Port Town\", \"Bronze Age Burial Site of Sammallahdenm\\u00e4ki\", \"Old Rauma\", \"Fortress of Suomenlinna\", \"Pet\\u00e4j\\u00e4vesi Old Church\", \"Verla Groundwood and Board Mill\", \"Mont-Saint-Michel and its Bay\", \"Chartres Cathedral\", \"Palace and Park of Versailles\", \"V\\u00e9zelay, Church and Hill\", \"Prehistoric Sites and Decorated Caves of the V\\u00e9z\\u00e8re Valley\", \"Palace and Park of Fontainebleau\", \"Amiens Cathedral\", \"Roman Theatre and its Surroundings and the \\\"Triumphal Arch\\\" of Orange\", \"Arles, Roman and Romanesque Monuments\", \"Cistercian Abbey of Fontenay\", \"From the Great Saltworks of Salins-les-Bains to the Royal Saltworks of Arc-et-Senans, the Production of Open-pan Salt \", \"Historic Centre of Avignon: Papal Palace, Episcopal Ensemble and Avignon Bridge\", \"Place Stanislas, Place de la Carri\\u00e8re and Place d'Alliance in Nancy\", \"Abbey Church of Saint-Savin sur Gartempe\", \"Gulf of Porto: Calanche of Piana, Gulf of Girolata, Scandola Reserve\", \"Pont du Gard (Roman Aqueduct)\", \"Historic Fortified City of Carcassonne\", \"Strasbourg, Grande-\\u00cele and <em>Neustadt</em>\", \"Paris, Banks of the Seine\", \"Cathedral of Notre-Dame, Former Abbey of Saint-R\\u00e9mi and Palace of Tau, Reims\", \"Bourges Cathedral\", \"Canal du Midi\", \"Routes of Santiago de Compostela in France\", \"Historic Site of Lyon\", \"Provins, Town of Medieval Fairs\", \"Jurisdiction of Saint-Emilion\", \"The Loire Valley between Sully-sur-Loire and Chalonnes\", \"Lagoons of New Caledonia: Reef Diversity and Associated Ecosystems\", \"The Causses and the C\\u00e9vennes, Mediterranean agro-pastoral Cultural Landscape\", \"Le Havre, the City Rebuilt by Auguste Perret\", \"Bordeaux, Port of the Moon\", \"Fortifications of Vauban\", \"Pitons, cirques and remparts of Reunion Island\", \"Episcopal City of Albi\", \"Nord-Pas de Calais Mining Basin\", \"The Climats, terroirs of Burgundy\", \"Decorated Cave of Pont d\\u2019Arc, known as Grotte Chauvet-Pont d\\u2019Arc, Ard\\u00e8che\", \"Cha\\u00eene des Puys - Limagne fault tectonic arena\", \"Champagne Hillsides, Houses and Cellars\", \"Taputapu\\u0101tea\", \"French Austral Lands and Seas\", \"Ecosystem and Relict Cultural Landscape of Lop\\u00e9-Okanda\", \"Kunta Kinteh Island and Related Sites\", \"Historical Monuments of Mtskheta\", \"Upper Svaneti\", \"Gelati Monastery\", \"Aachen Cathedral \", \"Speyer Cathedral\", \"W\\u00fcrzburg Residence with the Court Gardens and Residence Square\", \"St Mary's Cathedral and St Michael's Church at Hildesheim\", \"Pilgrimage Church of Wies\", \"Hanseatic City of L\\u00fcbeck\", \"Castles of Augustusburg and Falkenlust at Br\\u00fchl\", \"Cologne Cathedral\", \"Roman Monuments, Cathedral of St Peter and Church of Our Lady in Trier\", \"Abbey and Altenm\\u00fcnster of Lorsch\", \"Palaces and Parks of Potsdam and Berlin\", \"Garden Kingdom of Dessau-W\\u00f6rlitz\", \"Collegiate Church, Castle and Old Town of Quedlinburg\", \"Maulbronn Monastery Complex\", \"Mines of Rammelsberg, Historic Town of Goslar and Upper Harz Water Management  System\", \"Town of Bamberg\", \"V\\u00f6lklingen Ironworks\", \"Messel Pit Fossil Site\", \"Bauhaus and its Sites in Weimar, Dessau and Bernau\", \"Luther Memorials in Eisleben and Wittenberg\", \"Classical Weimar\", \"Museumsinsel (Museum Island), Berlin\", \"Wartburg Castle\", \"Monastic Island of Reichenau\", \"Zollverein Coal Mine Industrial Complex in Essen\", \"Upper Middle Rhine Valley\", \"Historic Centres of Stralsund and Wismar\", \"Town Hall and Roland on the Marketplace of Bremen\", \"Old town of Regensburg with Stadtamhof\", \"Berlin Modernism Housing Estates\", \"Fagus Factory in Alfeld\", \"Margravial Opera House Bayreuth\", \"Bergpark Wilhelmsh\\u00f6he\", \"Carolingian Westwork and Civitas Corvey\", \"Speicherstadt and Kontorhaus District with Chilehaus\", \"Naumburg Cathedral\", \"Caves and Ice Age Art in the Swabian Jura\", \"Archaeological Border complex of Hedeby and the Danevirke\", \"Water Management System of Augsburg\", \"Forts and Castles, Volta, Greater Accra, Central and Western Regions\", \"Asante Traditional Buildings\", \"Temple of Apollo Epicurius at Bassae\", \"Archaeological Site of Delphi\", \"Acropolis, Athens\", \"Mount Athos\", \"Meteora\", \"Paleochristian and Byzantine Monuments of Thessalonika\", \"Sanctuary of Asklepios at Epidaurus\", \"Medieval City of Rhodes\", \"Archaeological Site of Mystras\", \"Archaeological Site of Olympia\", \"Delos\", \"Monasteries of Daphni, Hosios Loukas and Nea Moni of Chios\", \"Pythagoreion and Heraion of Samos\", \"Archaeological Site of Aigai (modern name Vergina)\", \"Archaeological Sites of Mycenae and Tiryns\", \"The Historic Centre (Chor\\u00e1) with the Monastery of Saint-John the Theologian and the Cave of the Apocalypse on the Island of P\\u00e1tmos\", \"Old Town of Corfu\", \"Archaeological Site of Philippi\", \"Tikal National Park\", \"Antigua Guatemala\", \"Archaeological Park and Ruins of Quirigua\", \"National History Park \\u2013 Citadel, Sans Souci, Ramiers\", \"Vatican City\", \"Maya Site of Copan\", \"R\\u00edo Pl\\u00e1tano Biosphere Reserve\", \"Budapest, including the Banks of the Danube, the Buda Castle Quarter and Andr\\u00e1ssy Avenue\", \"Old Village of Holl\\u00f3k\\u0151 and its Surroundings\", \"Hortob\\u00e1gy National Park - the <i>Puszta</i>\", \"Millenary Benedictine Abbey of Pannonhalma and its Natural Environment\", \"Early Christian Necropolis of P\\u00e9cs (Sopianae)\", \"Tokaj Wine Region Historic Cultural Landscape\", \"\\u00deingvellir National Park\", \"Surtsey\", \"Vatnaj\\u00f6kull National Park - dynamic nature of fire and ice\", \"Red Fort Complex\", \"Humayun's Tomb, Delhi\", \"Qutb Minar and its Monuments, Delhi\", \"Churches and Convents of Goa\", \"Group of Monuments at Pattadakal\", \"Khajuraho Group of Monuments\", \"Group of Monuments at Hampi\", \"Ajanta Caves\", \"Ellora Caves\", \"Elephanta Caves\", \"Sun Temple, Kon\\u00e2rak\", \"Hill Forts of Rajasthan\", \"Group of Monuments at Mahabalipuram\", \"Great Living Chola Temples\", \"Agra Fort\", \"Taj Mahal\", \"Fatehpur Sikri\", \"Nanda Devi and Valley of Flowers National Parks  \", \"Kaziranga National Park\", \"Manas Wildlife Sanctuary\", \"Keoladeo National Park\", \"Sundarbans National Park\", \"Buddhist Monuments at Sanchi\", \"Rani-ki-Vav (the Queen\\u2019s Stepwell) at Patan, Gujarat\", \"Rock Shelters of Bhimbetka\", \"Mountain Railways of India\", \"Chhatrapati Shivaji Terminus (formerly Victoria Terminus)\", \"Mahabodhi Temple Complex at Bodh Gaya\", \"Champaner-Pavagadh Archaeological Park\", \"The Jantar Mantar, Jaipur\", \"Western Ghats\", \"Great Himalayan National Park Conservation Area\", \"Victorian Gothic and Art Deco Ensembles of Mumbai\", \"Archaeological Site of Nalanda Mahavihara at Nalanda, Bihar\", \"Khangchendzonga National Park\", \"Historic City of Ahmadabad\", \"Jaipur City, Rajasthan\", \"Borobudur Temple Compounds\", \"Sangiran Early Man Site\", \"Ujung Kulon National Park\", \"Komodo National Park\", \"Prambanan Temple Compounds\", \"Lorentz National Park\", \"Tropical Rainforest Heritage of Sumatra\", \"Cultural Landscape of Bali Province: the <em>Subak</em> System as a Manifestation of the <em>Tri Hita Karana</em> Philosophy\", \"Ombilin Coal Mining Heritage of Sawahlunto\", \"Tchogha Zanbil\", \"Persepolis\", \"Meidan Emam, Esfahan\", \"Takht-e Soleyman\", \"Pasargadae\", \"Soltaniyeh\", \"Bam and its Cultural Landscape\", \"Bisotun\", \"Armenian Monastic Ensembles of Iran\", \"Shushtar Historical Hydraulic System\", \"Sheikh Safi al-din Kh\\u0101neg\\u0101h and Shrine Ensemble in Ardabil\", \"Tabriz Historic Bazaar Complex\", \"The Persian Garden\", \"Masjed-e J\\u0101m\\u00e9 of Isfahan  \", \"Gonbad-e Q\\u0101bus\", \"Golestan Palace\", \"Cultural Landscape of Maymand\", \"Susa\", \"Shahr-i Sokhta\", \"Lut Desert\", \"The Persian Qanat\", \"Historic City of Yazd\", \"Sassanid Archaeological Landscape of Fars Region\", \"Hyrcanian Forests\", \"Samarra Archaeological City\", \"Hatra\", \"Babylon\", \"Ashur (Qal'at Sherqat)\", \"Erbil Citadel\", \"The Ahwar of Southern Iraq: Refuge of Biodiversity and the Relict Landscape of the Mesopotamian Cities\", \"Br\\u00fa na B\\u00f3inne - Archaeological Ensemble of the Bend of the Boyne\", \"Sceilg Mhich\\u00edl\", \"Masada\", \"Old City of Acre\", \"White City of Tel-Aviv \\u2013 the Modern Movement\", \"Incense Route - Desert Cities in the Negev\", \"Biblical Tels - Megiddo, Hazor, Beer Sheba\", \"Bah\\u00e1\\u2019i Holy Places in Haifa and the Western Galilee\", \"Caves of Maresha and Bet-Guvrin in the Judean Lowlands as a Microcosm of the Land of the Caves\", \"Sites of Human Evolution at Mount Carmel: The Nahal Me\\u2019arot / Wadi el-Mughara Caves\", \"Necropolis of Bet She\\u2019arim: A Landmark of Jewish Renewal\", \"Church and Dominican Convent of Santa Maria delle Grazie with \\u201cThe Last Supper\\u201d by Leonardo da Vinci\", \"Rock Drawings in Valcamonica\", \"Historic Centre of Florence\", \"Medici Villas and Gardens in Tuscany\", \"Venice and its Lagoon\", \"Piazza del Duomo, Pisa\", \"Castel del Monte\", \"18th-Century Royal Palace at Caserta with the Park, the Aqueduct of Vanvitelli, and the San Leucio Complex\", \"Historic Centre of San Gimignano\", \"The Sassi and the Park of the Rupestrian Churches of Matera\", \"City of Vicenza and the Palladian Villas of the Veneto\", \"Historic Centre of Siena\", \"Historic Centre of Naples\", \"Crespi d'Adda\", \"Ferrara, City of the Renaissance, and its Po Delta\", \"The <I>Trulli</I> of Alberobello\", \"Early Christian Monuments of Ravenna\", \"Historic Centre of the City of Pienza\", \"City of Verona\", \"Residences of the Royal House of Savoy\", \"Botanical Garden (Orto Botanico), Padua\", \"Archaeological Area and the Patriarchal Basilica of Aquileia\", \"Portovenere, Cinque Terre, and the Islands (Palmaria, Tino and Tinetto)\", \"Cathedral, Torre Civica and Piazza Grande, Modena\", \"Historic Centre of Urbino\", \"Archaeological Areas of Pompei, Herculaneum and Torre Annunziata\", \"Costiera Amalfitana\", \"Archaeological Area of Agrigento\", \"Villa Romana del Casale\", \"Su Nuraxi di Barumini\", \"Cilento and Vallo di Diano National Park with the Archeological Sites of Paestum and Velia, and the Certosa di Padula\", \"Villa Adriana (Tivoli)\", \"Isole Eolie (Aeolian Islands)\", \"Assisi, the Basilica of San Francesco and Other Franciscan Sites\", \"Late Baroque Towns of the Val di Noto (South-Eastern Sicily)\", \"Villa d'Este, Tivoli\", \"Val d'Orcia\", \"<I>Sacri Monti</I> of Piedmont and Lombardy\", \"Etruscan Necropolises of Cerveteri and Tarquinia\", \"Syracuse and the Rocky Necropolis of Pantalica\", \"Genoa: <i>Le Strade Nuove</i> and the system of the<i> Palazzi dei Rolli</i>\", \"The Dolomites\", \"Mantua and Sabbioneta\", \"Longobards in Italy. Places of the Power (568-774 A.D.)\", \"Vineyard Landscape of Piedmont: Langhe-Roero and Monferrato\", \"Mount Etna\", \"Arab-Norman Palermo and the Cathedral Churches of Cefal\\u00fa and Monreale\", \"Ivrea, industrial city of the 20th century\", \"Le Colline del Prosecco di Conegliano e Valdobbiadene\", \"Blue and John Crow Mountains \", \"Buddhist Monuments in the Horyu-ji Area\", \"Himeji-jo\", \"Yakushima\", \"Shirakami-Sanchi\", \"Historic Monuments of Ancient Kyoto (Kyoto, Uji and Otsu Cities)\", \"Historic Villages of Shirakawa-go and Gokayama\", \"Hiroshima Peace Memorial (Genbaku Dome)\", \"Itsukushima Shinto Shrine\", \"Historic Monuments of Ancient Nara\", \"Shrines and Temples of Nikko\", \"Gusuku Sites and Related Properties of the Kingdom of Ryukyu\", \"Sacred Sites and Pilgrimage Routes in the Kii Mountain Range\", \"Shiretoko\", \"Iwami Ginzan Silver Mine and its Cultural Landscape\", \"Hiraizumi \\u2013 Temples, Gardens and Archaeological Sites Representing the Buddhist Pure Land\", \"Ogasawara Islands\", \"Fujisan, sacred place and source of artistic inspiration\", \"Tomioka Silk Mill and Related Sites\", \"Sites of Japan\\u2019s Meiji Industrial Revolution: Iron and Steel, Shipbuilding and Coal Mining\", \"Hidden Christian Sites in the Nagasaki Region\", \"Sacred Island of Okinoshima and Associated Sites in the Munakata Region \", \"Mozu-Furuichi Kofun Group: Mounded Tombs of Ancient Japan\", \"Old City of Jerusalem and its Walls\", \"Petra\", \"Quseir Amra\", \"Um er-Rasas (Kastrom Mefa'a)\", \"Wadi Rum Protected Area\", \"Baptism Site \\u201cBethany Beyond the Jordan\\u201d (Al-Maghtas)\", \"Saryarka \\u2013 Steppe and Lakes of Northern Kazakhstan\", \"Mausoleum of Khoja Ahmed Yasawi\", \"Petroglyphs within the Archaeological Landscape of Tamgaly\", \"Mount Kenya National Park/Natural Forest\", \"Lake Turkana National Parks\", \"Lamu Old Town\", \"Kenya Lake System in the Great Rift Valley\", \"Sacred Mijikenda Kaya Forests\", \"Fort Jesus, Mombasa\", \"Thimlich Ohinga Archaeological Site\", \"Phoenix Islands Protected Area\", \"Sulaiman-Too Sacred Mountain\", \"Town of Luang Prabang\", \"Vat Phou and Associated Ancient Settlements within the Champasak Cultural Landscape\", \"Megalithic Jar Sites in Xiengkhuang \\u2013 Plain of Jars\", \"Historic Centre of Riga\", \"Anjar\", \"Baalbek\", \"Byblos\", \"Tyre\", \"Ouadi Qadisha (the Holy Valley) and the Forest of the Cedars of God (Horsh Arz el-Rab)\", \"Archaeological Site of Leptis Magna\", \"Archaeological Site of Sabratha\", \"Archaeological Site of Cyrene\", \"Rock-Art Sites of Tadrart Acacus\", \"Old Town of Ghadam\\u00e8s\", \"Vilnius Historic Centre\", \"Kernav\\u0117  Archaeological Site (Cultural Reserve of Kernav\\u0117)\", \"City of Luxembourg: its Old Quarters and Fortifications\", \"Tsingy de Bemaraha Strict Nature Reserve\", \"Royal Hill of Ambohimanga\", \"Rainforests of the Atsinanana\", \"Lake Malawi National Park\", \"Chongoni Rock-Art Area\", \"Kinabalu Park\", \"Gunung Mulu National Park\", \"Melaka and George Town, Historic Cities of the Straits of Malacca\", \"Archaeological Heritage of the Lenggong Valley\", \"Old Towns of Djenn\\u00e9\", \"Timbuktu\", \"Cliff of Bandiagara (Land of the Dogons)\", \"Tomb of Askia\", \"\\u0126al Saflieni Hypogeum\", \"City of Valletta\", \"Megalithic Temples of Malta\", \"Bikini Atoll Nuclear Test Site\", \"Banc d'Arguin National Park\", \"Ancient <I>Ksour</I> of Ouadane, Chinguetti, Tichitt and Oualata\", \"Aapravasi Ghat\", \"Le Morne Cultural Landscape\", \"Sian Ka'an\", \"Pre-Hispanic City and National Park of Palenque\", \"Historic Centre of Mexico City and Xochimilco\", \"Pre-Hispanic City of Teotihuacan\", \"Historic Centre of Oaxaca and Archaeological Site of Monte Alb\\u00e1n\", \"Historic Centre of Puebla\", \"Historic Town of Guanajuato and Adjacent Mines\", \"Pre-Hispanic City of Chichen-Itza\", \"Whale Sanctuary of El Vizcaino\", \"Archaeological Zone of Paquim\\u00e9, Casas Grandes\", \"Historic Centre of Morelia\", \"El Tajin, Pre-Hispanic City\", \"Historic Centre of Zacatecas\", \"Earliest 16th-Century Monasteries on the Slopes of Popocatepetl\", \"Rock Paintings of the Sierra de San Francisco\", \"Pre-Hispanic Town of Uxmal\", \"Historic Monuments Zone of Quer\\u00e9taro\", \"Hospicio Caba\\u00f1as, Guadalajara\", \"Historic Monuments Zone of Tlacotalpan\", \"Historic Fortified Town of Campeche\", \"Archaeological Monuments Zone of Xochicalco\", \"Ancient Maya City and Protected Tropical Forests of Calakmul, Campeche\", \"Franciscan Missions in the Sierra Gorda of Quer\\u00e9taro\", \"Luis Barrag\\u00e1n House and Studio\", \"Islands and Protected Areas of the Gulf of California\", \"Agave Landscape and Ancient Industrial Facilities of Tequila\", \"Central University City Campus of the <i>Universidad Nacional Aut\\u00f3noma de M\\u00e9xico</i> (UNAM)\", \"Protective town of San Miguel and the Sanctuary of Jes\\u00fas Nazareno de Atotonilco\", \"Monarch Butterfly Biosphere Reserve\", \"Camino Real de Tierra Adentro\", \"Prehistoric Caves of Yagul and Mitla in the Central Valley of Oaxaca\", \"El Pinacate and Gran Desierto de Altar Biosphere Reserve\", \"Aqueduct of Padre Tembleque Hydraulic System\", \"Archipi\\u00e9lago de Revillagigedo\", \"Tehuac\\u00e1n-Cuicatl\\u00e1n Valley: originary habitat of Mesoamerica\", \"Nan Madol: Ceremonial Centre of Eastern Micronesia\", \"Orkhon Valley Cultural Landscape\", \"Petroglyphic Complexes of the Mongolian Altai\", \"Great Burkhan Khaldun Mountain and its surrounding sacred landscape\", \"Durmitor National Park\", \"Natural and Culturo-Historical Region of Kotor\", \"Medina of Fez\", \"Medina of Marrakesh\", \"Ksar of Ait-Ben-Haddou\", \"Medina of Essaouira (formerly Mogador)\", \"Historic City of Meknes\", \"Archaeological Site of Volubilis\", \"Medina of T\\u00e9touan (formerly known as Titawin)\", \"Portuguese City of Mazagan (El Jadida)\", \"Rabat, Modern Capital and Historic City: a Shared Heritage\", \"Island of Mozambique\", \"Pyu Ancient Cities\", \"Bagan\", \"Twyfelfontein or /Ui-//aes\", \"Namib Sand Sea\", \"Sagarmatha National Park\", \"Kathmandu Valley \", \"Chitwan National Park\", \"Lumbini, the Birthplace of the Lord Buddha\", \"Schokland and Surroundings\", \"Defence Line of Amsterdam\", \"Mill Network at Kinderdijk-Elshout\", \"Historic Area of Willemstad, Inner City and Harbour, Cura\\u00e7ao\", \"Ir.D.F. Woudagemaal (D.F. Wouda Steam Pumping Station)\", \"Droogmakerij de Beemster (Beemster Polder)\", \"Rietveld Schr\\u00f6derhuis (Rietveld Schr\\u00f6der House)\", \"Seventeenth-Century Canal Ring Area of Amsterdam inside the Singelgracht\", \"Van Nellefabriek\", \"Tongariro National Park\", \"Te Wahipounamu \\u2013 South West New Zealand\", \"New Zealand Sub-Antarctic Islands\", \"Ruins of Le\\u00f3n Viejo\", \"Le\\u00f3n Cathedral\", \"Air and T\\u00e9n\\u00e9r\\u00e9 Natural Reserves\", \"Historic Centre of Agadez\", \"Sukur Cultural Landscape\", \"Osun-Osogbo Sacred Grove\", \"R\\u00f8ros Mining Town and the Circumference\", \"Urnes Stave Church\", \"Bryggen\", \"Rock Art of Alta\", \"Vega\\u00f8yan \\u2013 The Vega Archipelago\", \"West Norwegian Fjords \\u2013 Geirangerfjord and N\\u00e6r\\u00f8yfjord\", \"Rjukan-Notodden Industrial Heritage Site\", \"Bahla Fort\", \"Archaeological Sites of Bat, Al-Khutm and Al-Ayn\", \"Land of Frankincense\", \"<i>Aflaj</i> Irrigation Systems of Oman\", \"Ancient City of Qalhat\", \"Archaeological Ruins at Moenjodaro\", \"Taxila\", \"Buddhist Ruins of Takht-i-Bahi and Neighbouring City Remains at Sahr-i-Bahlol\", \"Historical Monuments at Makli, Thatta\", \"Fort and Shalamar Gardens in Lahore\", \"Rohtas Fort\", \"Rock Islands Southern Lagoon\", \"Birthplace of Jesus: Church of the Nativity and the Pilgrimage Route, Bethlehem\", \"Palestine: Land of Olives and Vines \\u2013 Cultural Landscape of Southern Jerusalem, Battir\", \"Hebron/Al-Khalil Old Town\", \"Fortifications on the Caribbean Side of Panama: Portobelo-San Lorenzo\", \"Darien National Park\", \"Archaeological Site of Panam\\u00e1 Viejo and Historic District of Panam\\u00e1\", \"Coiba National Park and its Special Zone of Marine Protection\", \"Kuk Early Agricultural Site\", \"Jesuit Missions of La Sant\\u00edsima Trinidad de Paran\\u00e1 and Jes\\u00fas de Tavarangue\", \"City of Cuzco\", \"Historic Sanctuary of Machu Picchu\", \"Chavin (Archaeological Site)\", \"Huascar\\u00e1n National Park\", \"Chan Chan Archaeological Zone\", \"Man\\u00fa National Park\", \"Historic Centre of Lima\", \"R\\u00edo Abiseo National Park\", \"Lines and Geoglyphs of Nasca and Palpa\", \"Historical Centre of the City of Arequipa\", \"Sacred City of Caral-Supe\", \"Historic City of Vigan\", \"Puerto-Princesa Subterranean River National Park\", \"Tubbataha Reefs Natural Park\", \"Baroque Churches of the Philippines\", \"Rice Terraces of the Philippine Cordilleras\", \"Mount Hamiguitan Range Wildlife Sanctuary\", \"Historic Centre of Krak\\u00f3w\", \"Historic Centre of Warsaw\", \"Auschwitz Birkenau <br /><small>German Nazi Concentration and Extermination Camp (1940-1945)</small>\", \"Wieliczka and Bochnia Royal Salt Mines\", \"Old City of Zamo\\u015b\\u0107\", \"Medieval Town of Toru\\u0144\", \"Castle of the Teutonic Order in Malbork\", \"Kalwaria Zebrzydowska: the Mannerist Architectural and Park Landscape Complex and Pilgrimage Park\", \"Wooden Churches of Southern Ma\\u0142opolska\", \"Churches of Peace in Jawor and \\u015awidnica\", \"Centennial Hall in Wroc\\u0142aw\", \"Tarnowskie G\\u00f3ry Lead-Silver-Zinc Mine and its Underground Water Management System\", \"Krzemionki Prehistoric Striped Flint Mining Region\", \"Central Zone of the Town of Angra do Heroismo in the Azores\", \"Monastery of the Hieronymites and Tower of Bel\\u00e9m in Lisbon\", \"Monastery of Batalha\", \"Convent of Christ in Tomar\", \"Historic Centre of \\u00c9vora\", \"Monastery of Alcoba\\u00e7a\", \"Cultural Landscape of Sintra\", \"Historic Centre of Oporto, Luiz I Bridge and Monastery of Serra do Pilar \", \"Laurisilva of Madeira\", \"Historic Centre of Guimar\\u00e3es\", \"Alto Douro Wine Region\", \"Landscape of the Pico Island Vineyard Culture\", \"Garrison Border Town of Elvas and its Fortifications\", \"University of Coimbra \\u2013 Alta and Sofia\", \"Royal Building of <i>Mafra</i> \\u2013 Palace, Basilica, Convent, <i>Cerco</i> Garden and Hunting Park (<i>Tapada</i>)\", \"Sanctuary of Bom Jesus do Monte in Braga\", \"Al Zubarah Archaeological Site\", \"Seokguram Grotto and Bulguksa Temple\", \"Haeinsa Temple Janggyeong Panjeon, the Depositories for the <I>Tripitaka Koreana</I> Woodblocks\", \"Jongmyo Shrine\", \"Changdeokgung Palace Complex\", \"Hwaseong Fortress\", \"Gyeongju Historic Areas\", \"Gochang, Hwasun and Ganghwa Dolmen Sites\", \"Jeju Volcanic Island and Lava Tubes\", \"Royal Tombs of the Joseon Dynasty\", \"Historic Villages of Korea: Hahoe and Yangdong\", \"Namhansanseong\", \"Baekje Historic Areas\", \"Seowon, Korean Neo-Confucian Academies\", \"Sansa, Buddhist Mountain Monasteries in Korea\", \"Danube Delta\", \"Villages with Fortified Churches in Transylvania\", \"Monastery of Horezu\", \"Churches of Moldavia\", \"Historic Centre of Sighi\\u015foara\", \"Wooden Churches of Maramure\\u015f\", \"Dacian Fortresses of the Orastie Mountains\", \"Historic Centre of Saint Petersburg and Related Groups of Monuments\", \"Kizhi Pogost\", \"Kremlin and Red Square, Moscow\", \"Historic Monuments of Novgorod and Surroundings\", \"Cultural and Historic Ensemble of the Solovetsky Islands\", \"White Monuments of Vladimir and Suzdal\", \"Church of the Ascension, Kolomenskoye\", \"Architectural Ensemble of the Trinity Sergius Lavra in Sergiev Posad\", \"Virgin Komi Forests\", \"Lake Baikal\", \"Volcanoes of Kamchatka\", \"Central Sikhote-Alin\", \"Golden Mountains of Altai\", \"Western Caucasus\", \"Historic and Architectural Complex of the Kazan Kremlin\", \"Bolgar Historical and Archaeological Complex\", \"Ensemble of the Ferapontov Monastery\", \"Natural System of Wrangel Island Reserve\", \"Citadel, Ancient City and Fortress Buildings of Derbent\", \"Ensemble of the Novodevichy Convent\", \"Historical Centre of the City of Yaroslavl\", \"Putorana Plateau\", \"Lena Pillars Nature Park\", \"Churches of the Pskov School of Architecture\", \"Assumption Cathedral and Monastery of the town-island of Sviyazhsk\", \"Brimstone Hill Fortress National Park\", \"Pitons Management Area\", \"San Marino Historic Centre and Mount Titano\", \"Al-Hijr Archaeological Site (Mad\\u00e2in S\\u00e2lih)\", \"At-Turaif District in ad-Dir'iyah\", \"Historic Jeddah, the Gate to Makkah\", \"Rock Art in the Hail Region of Saudi Arabia\", \"Al-Ahsa Oasis, an Evolving Cultural Landscape\", \"Djoudj National Bird Sanctuary\", \"Island of Gor\\u00e9e\", \"Niokolo-Koba National Park\", \"Island of Saint-Louis\", \"Saloum Delta\", \"Bassari Country: Bassari, Fula and Bedik Cultural Landscapes\", \"Stari Ras and Sopo\\u0107ani\", \"Studenica Monastery\", \"Medieval Monuments in Kosovo\", \"Gamzigrad-Romuliana, Palace of Galerius\", \"Aldabra Atoll\", \"Vall\\u00e9e de Mai Nature Reserve\", \"Singapore Botanic Gardens\", \"Historic Town of Bansk\\u00e1 \\u0160tiavnica and the Technical Monuments in its Vicinity\", \"Levo\\u010da, Spi\\u0161sk\\u00fd Hrad and the Associated Cultural Monuments\", \"Vlkol\\u00ednec\", \"Bardejov Town Conservation Reserve\", \"Wooden Churches of the Slovak part of the Carpathian Mountain Area\", \"\\u0160kocjan Caves\", \"East Rennell\", \"iSimangaliso Wetland Park\", \"Fossil Hominid Sites of South Africa\", \"Robben Island\", \"Cape Floral Region Protected Areas\", \"Mapungubwe Cultural Landscape\", \"Vredefort Dome\", \"Richtersveld Cultural and Botanical Landscape\", \"\\u01c2Khomani Cultural Landscape\", \"Barberton Makhonjwa Mountains\", \"Cave of Altamira and Paleolithic Cave Art of Northern Spain\", \"Old Town of Segovia and its Aqueduct\", \"Monuments of Oviedo and the Kingdom of the Asturias\", \"Historic Centre of Cordoba\", \"Alhambra, Generalife and Albayz\\u00edn, Granada\", \"Burgos Cathedral\", \"Monastery and Site of the Escurial, Madrid\", \"Works of Antoni Gaud\\u00ed \", \"Santiago de Compostela (Old Town)\", \"Old Town of \\u00c1vila with its Extra-Muros Churches\", \"Mudejar Architecture of Aragon\", \"Historic City of Toledo\", \"Garajonay National Park\", \"Old City of Salamanca\", \"Cathedral, Alc\\u00e1zar and Archivo de Indias in Seville\", \"Old Town of C\\u00e1ceres\", \"Ibiza, Biodiversity and Culture\", \"Poblet Monastery\", \"Renaissance Monumental Ensembles of \\u00dabeda and Baeza\", \"Archaeological Ensemble of M\\u00e9rida\", \"Royal Monastery of Santa Mar\\u00eda de Guadalupe\", \"Routes of Santiago de Compostela: <i>Camino Franc\\u00e9s</i> and Routes of Northern Spain \", \"Do\\u00f1ana National Park\", \"Historic Walled Town of Cuenca\", \"La Lonja de la Seda de Valencia\", \"Las M\\u00e9dulas\", \"Palau de la M\\u00fasica Catalana and Hospital de Sant Pau, Barcelona\", \"San Mill\\u00e1n Yuso and Suso Monasteries\", \"Rock Art of the Mediterranean Basin on the Iberian Peninsula\", \"Archaeological Ensemble of T\\u00e1rraco\", \"University and Historic Precinct of Alcal\\u00e1 de Henares\", \"San Crist\\u00f3bal de La Laguna\", \"Palmeral of Elche\", \"Roman Walls of Lugo\", \"Catalan Romanesque Churches of the Vall de Bo\\u00ed\", \"Archaeological Site of Atapuerca\", \"Aranjuez Cultural Landscape\", \"Vizcaya Bridge\", \"Teide National Park\", \"Tower of Hercules\", \"Cultural Landscape of the Serra de Tramuntana\", \"Antequera Dolmens Site\", \"Caliphate City of Medina Azahara\", \"Risco Caido and the Sacred Mountains of Gran Canaria Cultural Landscape\", \"Sacred City of Anuradhapura\", \"Ancient City of Polonnaruwa\", \"Ancient City of Sigiriya\", \"Sinharaja Forest Reserve\", \"Sacred City of Kandy\", \"Old Town of Galle and its Fortifications\", \"Golden Temple of Dambulla\", \"Central Highlands of Sri Lanka\", \"Sanganeb Marine National Park and Dungonab Bay \\u2013 Mukkawar Island Marine National Park\", \"Gebel Barkal and the Sites of the Napatan Region\", \"Archaeological Sites of the Island of Meroe\", \"Historic Inner City of Paramaribo\", \"Central Suriname Nature Reserve\", \"Birka and Hovg\\u00e5rden\", \"Engelsberg Ironworks\", \"Rock Carvings in Tanum\", \"Skogskyrkog\\u00e5rden\", \"Royal Domain of Drottningholm\", \"Hanseatic Town of Visby\", \"Church Town of Gammelstad, Lule\\u00e5 \", \"Laponian Area\", \"Naval Port of Karlskrona\", \"Agricultural Landscape of Southern \\u00d6land\", \"Mining Area of the Great Copper Mountain in Falun\", \"Grimeton Radio Station, Varberg\", \"Decorated Farmhouses of H\\u00e4lsingland\", \"Old City of Berne\", \"Abbey of St Gall\", \"Benedictine Convent of St John at M\\u00fcstair\", \"Three Castles, Defensive Wall and Ramparts of the Market-Town of Bellinzona\", \"Swiss Alps Jungfrau-Aletsch\", \"Swiss Tectonic Arena Sardona\", \"Lavaux, Vineyard Terraces\", \"La Chaux-de-Fonds / Le Locle, Watchmaking Town Planning\", \"Ancient City of Damascus\", \"Ancient City of Aleppo\", \"Ancient City of Bosra\", \"Site of Palmyra\", \"Crac des Chevaliers and Qal\\u2019at Salah El-Din\", \"Ancient Villages of Northern Syria\", \"Proto-urban Site of Sarazm\", \"Tajik National Park (Mountains of the Pamirs)\", \"Historic Town of Sukhothai and Associated Historic Towns\", \"Ban Chiang Archaeological Site\", \"Historic City of Ayutthaya\", \"Dong Phayayen-Khao Yai Forest Complex\", \"Thungyai-Huai Kha Khaeng Wildlife Sanctuaries\", \"Koutammakou, the Land of the Batammariba\", \"Ichkeul National Park\", \"Medina of Tunis\", \"Archaeological Site of Carthage\", \"Amphitheatre of El Jem\", \"Punic Town of Kerkuane and its Necropolis\", \"Medina of Sousse\", \"Kairouan\", \"Dougga / Thugga\", \"Historic Areas of Istanbul\", \"G\\u00f6reme National Park and the Rock Sites of Cappadocia\", \"Great Mosque and Hospital of Divri\\u011fi\", \"Hattusha: the Hittite Capital\", \"Nemrut Da\\u011f\", \"Xanthos-Letoon\", \"Hierapolis-Pamukkale\", \"City of Safranbolu\", \"Archaeological Site of Troy\", \"Ephesus\", \"Selimiye Mosque and its Social Complex\", \"Neolithic Site of \\u00c7atalh\\u00f6y\\u00fck\", \"Bursa and Cumal\\u0131k\\u0131z\\u0131k: the Birth of the Ottoman Empire\", \"Pergamon and its Multi-Layered Cultural Landscape\", \"Diyarbak\\u0131r Fortress and Hevsel Gardens Cultural Landscape\", \"Archaeological Site of Ani\", \"Aphrodisias\", \"G\\u00f6bekli Tepe\", \"State Historical and Cultural Park \\u201cAncient Merv\\u201d\", \"Kunya-Urgench\", \"Parthian Fortresses of Nisa\", \"Bwindi Impenetrable National Park\", \"Rwenzori Mountains National Park\", \"Tombs of Buganda Kings at Kasubi\", \"Kiev: Saint-Sophia Cathedral and Related Monastic Buildings, Kiev-Pechersk Lavra\", \"L'viv \\u2013 the Ensemble of the Historic Centre\", \"Residence of Bukovinian and Dalmatian Metropolitans\", \"Ancient City of Tauric Chersonese and its Chora\", \"Cultural Sites of Al Ain (Hafit, Hili, Bidaa Bint Saud and Oases Areas)\", \"Giant's Causeway and Causeway Coast\", \"Durham Castle and Cathedral\", \"Ironbridge Gorge\", \"Studley Royal Park including the Ruins of Fountains Abbey\", \"Stonehenge, Avebury and Associated Sites\", \"Castles and Town Walls of King Edward in Gwynedd\", \"St Kilda\", \"The English Lake District\", \"Blenheim Palace\", \"Palace of Westminster and Westminster Abbey including Saint Margaret\\u2019s Church\", \"City of Bath\", \"New Lanark\", \"Henderson Island\", \"Tower of London\", \"Canterbury Cathedral, St Augustine's Abbey, and St Martin's Church\", \"Heart of Neolithic Orkney\", \"Old and New Towns of Edinburgh\", \"Gough and Inaccessible Islands\", \"Maritime Greenwich\", \"Historic Town of St George and Related Fortifications, Bermuda\", \"Blaenavon Industrial Landscape\", \"Saltaire\", \"Dorset and East Devon Coast\", \"Derwent Valley Mills\", \"Royal Botanic Gardens, Kew\", \"Liverpool \\u2013 Maritime Mercantile City\", \"Cornwall and West Devon Mining Landscape\", \"Pontcysyllte Aqueduct and Canal\", \"The Forth Bridge\", \"Gorham's Cave Complex\", \"Jodrell Bank Observatory\", \"Ngorongoro Conservation Area\", \"Ruins of Kilwa Kisiwani and Ruins of Songo Mnara\", \"Serengeti National Park\", \"Stone Town of Zanzibar\", \"Selous Game Reserve\", \"Kilimanjaro National Park\", \"Kondoa Rock-Art Sites\", \"Mesa Verde National Park\", \"Yellowstone National Park\", \"Grand Canyon National Park\", \"Everglades National Park\", \"Independence Hall\", \"Redwood National and State Parks\", \"Mammoth Cave National Park\", \"Olympic National Park\", \"Cahokia Mounds State Historic Site\", \"Great Smoky Mountains National Park\", \"La Fortaleza and San Juan National Historic Site in Puerto Rico\", \"Statue of Liberty\", \"Yosemite National Park\", \"Chaco Culture\", \"Hawaii Volcanoes National Park\", \"Monticello and the University of Virginia in Charlottesville\", \"Taos Pueblo\", \"Carlsbad Caverns National Park\", \"Papah\\u0101naumoku\\u0101kea\", \"Monumental Earthworks of Poverty Point\", \"San Antonio Missions\", \"The 20th-Century Architecture of Frank Lloyd Wright\", \"Historic Quarter of the City of Colonia del Sacramento\", \"Fray Bentos Industrial Landscape\", \"Itchan Kala\", \"Historic Centre of Bukhara\", \"Samarkand  \\u2013 Crossroad of Cultures\", \"Historic Centre of Shakhrisyabz\", \"Chief Roi Mata\\u2019s Domain\", \"Coro and its Port\", \"Canaima National Park\", \"Ciudad Universitaria de Caracas\", \"Ha Long Bay\", \"Complex of Hu\\u00e9 Monuments\", \"Hoi An Ancient Town\", \"My Son Sanctuary\", \"Phong Nha-Ke Bang National Park\", \"Central Sector of the Imperial Citadel of Thang Long - Hanoi\", \"Citadel of the Ho Dynasty\", \"Trang An Landscape Complex\", \"Old Walled City of Shibam\", \"Old City of Sana'a\", \"Historic Town of Zabid\", \"Socotra Archipelago\", \"Mana Pools National Park, Sapi and Chewore Safari Areas\", \"Matobo Hills\", \"Great Zimbabwe National Monument\", \"Khami Ruins National Monument\", \"Ancient and Primeval Beech Forests of the Carpathians and Other Regions of Europe\", \"Natural and Cultural Heritage of the Ohrid region\", \"Qhapaq \\u00d1an, Andean Road System\", \"Jesuit Missions of the Guaranis: San Ignacio Mini, Santa Ana, Nuestra Se\\u00f1ora de Loreto and Santa Maria Mayor (Argentina), Ruins of Sao Miguel das Missoes (Brazil)\", \"Prehistoric Pile Dwellings around the Alps\", \"Fert\\u00f6 / Neusiedlersee Cultural Landscape\", \"Struve Geodetic Arc\", \"Bia\\u0142owie\\u017ca Forest\", \"Belfries of Belgium and France\", \"The Architectural Work of Le Corbusier, an Outstanding Contribution to the Modern Movement\", \"W-Arly-Pendjari Complex\", \"Ste\\u0107ci Medieval Tombstone Graveyards\", \"Sangha Trinational\", \"Kluane / Wrangell-St. Elias / Glacier Bay / Tatshenshini-Alsek\", \"Waterton Glacier International Peace Park\", \"Silk Roads: the Routes Network of Chang'an-Tianshan Corridor\", \"Talamanca Range-La Amistad Reserves / La Amistad National Park\", \"Mount Nimba Strict Nature Reserve\", \"Venetian Works of Defence between the 16th and 17th Centuries: <em>Stato da Terra</em> \\u2013 Western <em>Stato da Mar</em>\", \"Erzgebirge/Kru\\u0161noho\\u0159\\u00ed Mining Region\", \"Wadden Sea\", \"High Coast / Kvarken Archipelago\", \"Pyr\\u00e9n\\u00e9es - Mont Perdu\", \"Stone Circles of Senegambia\", \"Muskauer Park / Park Mu\\u017cakowski\", \"Frontiers of the Roman Empire\", \"Historic Centre of Rome, the Properties of the Holy See in that City Enjoying Extraterritorial Rights and San Paolo Fuori le Mura\", \"Caves of Aggtelek Karst and Slovak Karst\", \"Monte San Giorgio\", \"Rhaetian Railway in the Albula / Bernina Landscapes\", \"Western Tien-Shan\", \"Maloti-Drakensberg Park\", \"Curonian Spit\", \"Wooden <em>Tserkvas</em> of the Carpathian Region in Poland and Ukraine\", \"Prehistoric Rock Art Sites in the C\\u00f4a Valley and Siega Verde\", \"Uvs Nuur Basin\", \"Landscapes of Dauria\", \"Heritage of Mercury. Almad\\u00e9n and Idrija\", \"Mosi-oa-Tunya / Victoria Falls\"], \"lat\": [34.846940000000004, 34.39641667, 40.06944444, 39.75111111, 35.81844, 25.5, 32.48333, 36.32056, 36.55, 35.48416667, 36.78333, 42.49472222, -6.268888888999999, 17.00694444, -50.0, -25.51805556, -47.15, -42.5, -30.0, -31.42056, -23.19986111, -42.8528, 41.095, 40.15889, 40.15931, -12.83333333, -18.28611111, -33.85666667, -34.0, -41.58333333, -31.56555556, -28.25, -25.33333333, -15.65, -53.1, -25.48611111, -54.59472222, -25.21666667, -19.08333333, -33.7, -17.5, -37.80611111, -33.37833333, -22.5625, -38.08111111, 47.80055556, 47.64877778, 48.18666667, 47.55944444, 47.07416667, 48.36444444, 48.21666667, 40.36666667, 40.125, 41.20333333, 26.23306, 26.24128, 26.14972222, 22.66667, 25.03333333, 21.95, 13.09666667, 53.45108333, 53.22278000000001, 51.03097222, 50.48111, 50.84668, 51.208909999999996, 50.82806, 50.43077, 50.60603, 51.21833, 50.835, 50.43527778, 16.75, 7.183333332999999, -19.58361, -16.0, -19.04306, -16.55833333, -18.16666667, -14.266670000000001, 43.34812, 43.78144444, -18.75, -19.28333333, -20.38888889, -8.013333333, -12.96666667, -20.49972222, -25.683329999999998, -15.78333, -8.416666667000001, -2.514166667, -18.23333333, -16.5, -24.16667, -15.933279999999998, -2.333333333, -17.71667, -3.8579444439999997, -14.00569444, -22.94777778, -11.01611111, -23.01860556, -19.85194444, -22.89711111, 42.65, 43.3, 42.61666667, 43.71666667, 42.11666667, 42.65611, 44.11444, 41.74272222, 43.66667, 10.25, 12.58775833, 14.91513889, 13.43333333, 14.38833333, 12.8725, 3.0, 51.46666667, 61.54722222, 50.76777778, 52.095, 49.74944444, 59.35833333, 46.80944444, 51.42472222, 49.6125, 48.105, 44.37611111, 44.99438611, 45.70972222, 45.11833333, 51.726925, 51.82641667, 46.635, 49.075, 9.0, 19.055, 17.04166667, -27.15, -33.04063889, -42.5, -20.205820000000003, -34.08444444, 36.26667, 40.41667, 41.79416667, 40.13333, 34.38333333, 39.73333333, 30.16667, 33.08333, 32.75417, 29.33333, 40.986940000000004, 35.611670000000004, 32.46667, 29.65792, 29.43333333, 29.5449, 26.866670000000003, 37.20139, 31.31666667, 39.91055556, 39.84555556, 27.71667, 29.701109999999996, 31.00167, 29.90444444, 34.46666667, 41.70722222, 40.10972, 27.895, 22.19129194, 23.09327778, 22.28551944, 25.02305556, 36.12666667, 41.15694444, 30.83333333, 24.92333333, 39.03055556, 28.91583333, 34.45874722, 30.2375, 28.42194444, 24.66888889, 42.358000000000004, 41.96833333, 34.69388889, 28.99861111, 22.25555556, 31.46972222, 35.38027778, 24.4475, 27.89555556, 30.39555556, 32.93194444, 10.41666667, 7.666666667, 9.233333333, 2.583333333, 1.9166666669999999, 5.471666667, 0.525277778, 3.9666666669999997, 5.533333333, 10.85, 8.911388889, 5.75, 9.0, 5.195833333, 42.65056, 43.509440000000005, 44.87778, 45.22917, 43.5125, 43.736290000000004, 43.18166667, 23.13333333, 21.80305556, 20.45, 22.616670000000003, 19.96666667, 19.883329999999997, 20.03, 22.14722, 21.37861111, 34.75833, 34.92027778, 34.79833, 50.08972, 48.81666667, 49.18333, 49.5802, 49.95, 48.77583, 49.59393611, 49.3, 48.95972222, 49.87361, 49.20718333, 49.21722222, 50.05665, 38.86305556, 37.98166667, 0.916666667, 4.0, -2.5, -2.0, 2.0, 55.64222222, 56.03889, 55.75638889, 69.13333333, 55.26722222, 55.35555556, 55.91361111, 61.16444444, 67.06393056, 15.26666667, 18.48333333, -0.81667, -0.0038888890000000004, -1.83333, -2.883333333, 29.97604, 25.73333, 22.33722222, 30.05, 30.83583333, 28.55623, 29.33333, 13.8275, 15.33527778, 59.433330000000005, 13.18333333, 11.100060000000001, 8.43491, 14.130189999999999, 4.8, 12.02935, 12.60692, 9.308888889, 5.3, -17.68337778, 61.12056, 61.12806, 60.14722, 62.25, 61.06194, 48.63556, 48.4475, 48.805, 47.46638889, 45.0575, 48.40194444, 49.895, 44.13572222, 43.67763889, 47.63944, 46.9375, 43.95277778, 48.69361111, 46.56472, 42.32519444, 43.94722222, 43.21055556, 48.58444444, 48.85833333, 49.25333333, 47.08222222, 43.61138889, 45.18405556, 45.76722, 48.55972222, 44.89472222, 47.39889, -20.41194444, 44.22027778, 49.492779999999996, 44.83888889, 47.23611111, -21.09944444, 43.92833333, 50.4625, 47.05805556, 44.3875, 45.77938889, 49.0775, -16.8414, -49.38036111, -0.5, 13.31616667, 41.84389, 42.91639, 42.29472222, 50.77444444, 49.31666667, 49.79278, 52.15278, 47.68127778, 53.86666999999999, 50.82502778, 50.94111111, 49.75, 49.653690000000005, 52.4, 51.8425, 51.78333, 49.00083, 51.82, 49.89166667, 49.244440000000004, 49.91667, 50.97477778, 51.86472, 50.9775, 52.51972222, 50.96677778, 47.69872222, 51.49138889, 50.17361111, 54.3025, 53.07597222, 49.02055556, 52.44833333, 51.98361111, 49.94444444, 51.31583333, 51.77827778, 53.54555556, 51.15480556, 48.38777778, 54.46194444, 48.36547222, 5.391030000000001, 6.4011111110000005, 37.434979999999996, 38.48149, 37.97087, 40.26667, 39.71667, 40.638329999999996, 37.66666667, 36.44722, 37.08056, 37.65, 37.4, 38.4, 37.69083, 40.47139, 37.73333333, 37.3, 39.62394139, 41.01472222, 17.21666667, 14.56666667, 15.270589999999999, 19.573610000000002, 41.902159999999995, 14.85, 15.74444444, 47.48242, 47.994440000000004, 47.59458, 47.558890000000005, 46.07444, 48.15, 64.25380556, 63.30305556, 64.577363, 28.65555556, 28.593329999999998, 28.52583, 15.502220000000001, 15.948329999999999, 24.852220000000003, 15.31444, 20.55333, 20.02639, 18.96667, 19.8875, 24.88333333, 12.61667, 10.78305556, 27.18333333, 27.17417, 27.094440000000002, 30.71667, 26.66666667, 26.725, 27.15888889, 21.945, 23.47944, 23.85888889, 22.92777778, 11.51028, 18.94012222, 24.69528, 22.48333333, 26.92472222, 8.529722222, 31.83333333, 18.92980556, 25.13666667, 27.76472222, 23.02638889, 26.90786111, -7.60778, -7.4, -6.75, -8.543330000000001, -7.7522199999999994, -4.75, -2.5, -8.259166667, -0.7666255559999999, 32.0833, 29.934440000000002, 32.65745, 36.60388889, 30.19383, 36.43528, 29.11683, 34.38833333, 38.97888889, 32.01861111, 38.24861111, 38.08138889, 30.16666667, 32.66972222, 37.25802778, 35.68036667, 30.16805556, 32.18944444, 30.59388889, 30.21611111, 34.29, 31.90138889, 29.77748056, 37.42147222, 34.34098944, 35.58806, 32.54196944, 35.45666667, 36.19111111, 31.56222222, 53.691669999999995, 51.77194, 31.3135, 32.92833333, 32.06666667, 30.541109999999996, 32.59722, 32.82939667, 31.6, 32.67, 32.70222222, 45.46588889, 45.95705556, 43.77306, 43.85777778, 45.43430556, 43.72305556, 41.08480556, 41.07333, 43.468059999999994, 40.66638889, 45.54916667, 43.31861111, 40.85138889, 45.59333, 44.83777778, 40.7825, 44.42041667, 43.07694444, 45.43861111, 45.07253, 45.39911111, 45.76833333, 44.10694, 44.64624, 43.725, 40.75, 40.65, 37.28972222, 37.36611, 39.70583333, 40.28333333, 41.94416667, 38.48786111, 43.06616667, 36.89319444, 41.96391667, 43.06666667, 45.97455556, 42.00683333, 37.05944, 44.41222222, 46.61305556, 45.15944444, 46.09416667, 44.60861111, 37.75611111, 38.11083333, 45.4575, 45.95302778, 18.0775, 34.61666667, 34.83333333, 30.33333333, 40.47, 34.98055556, 36.4, 34.38333333, 34.29441667, 34.67555556, 36.7475, 26.20861111, 33.83694444, 43.94944, 35.11277778, 39.00111111, 27.71833333, 35.36083333, 36.25527778, 34.43055556, 32.80222222, 34.245, 34.56222222, 31.78333333, 30.33056, 31.801940000000002, 31.50167, 29.63972222, 31.83722222, 50.43333333, 43.29305556, 43.80333333, -0.155, 3.0513055560000004, -2.284444444, -0.4425, -3.931944444, -4.062777778, -0.8913380559999999, -3.649722222, 40.53111111, 19.88889, 14.84833333, 19.43105556, 56.95417, 33.72583, 34.00707, 34.119170000000004, 33.27194, 34.24333, 32.638329999999996, 32.805279999999996, 32.825, 24.83333, 30.13333333, 54.68666999999999, 54.88777778, 49.61, -18.66667, -18.75917, -14.45972222, -14.03333, -14.29333333, 6.25, 4.13333, 5.421388889, 5.067908333, 13.90639, 16.77333333, 14.333329999999998, 16.2898, 35.871340000000004, 35.90056, 36.04908, 11.6, 20.234720000000003, 20.92889, -20.15863889, -20.45194444, 19.383329999999997, 17.48333, 19.418329999999997, 19.691670000000002, 17.06194, 19.047220000000003, 21.016939999999998, 20.66667, 27.79222, 30.37583, 19.704439999999998, 20.47639, 22.76667, 18.934720000000002, 27.655559999999998, 20.36166667, 20.58333333, 20.67388889, 18.60833333, 19.84639, 18.81028, 18.05302778, 21.20438889, 19.41833333, 27.62667, 20.86305556, 19.33222222, 20.91444444, 19.60638889, 22.60805556, 16.95083333, 32.0, 19.83527778, 18.78805556, 17.98996111, 6.839722222000001, 47.55666667, 49.33388889, 48.76197778, 43.133, 42.48333, 34.06111, 31.631390000000003, 31.047220000000003, 31.51411111, 33.88333, 34.073890000000006, 35.57083, 33.25667, 34.02416667, -15.034170000000001, 22.47, 21.14888889, -20.59558333, -24.88527778, 27.96528, 27.70395, 27.5, 27.468890000000002, 52.63861111, 52.37444444, 51.8825, 12.101939999999999, 52.84583000000001, 52.54888889, 52.08533333, 52.365, 51.92333333, -39.29083333, -45.03602778, -50.75, 12.397219999999999, 12.435, 18.0, 16.97361111, 10.74056, 7.755560000000001, 62.57388889, 61.3, 60.39722, 69.95, 65.61667, 62.11666999999999, 59.87861111, 22.964170000000003, 23.26986, 18.25333, 22.99888889, 22.69522222, 27.32916667, 33.77916667, 34.32083333, 24.76666667, 31.59027778, 32.9625, 7.246925, 31.70435278, 31.71972222, 31.52416667, 9.553888889, 7.7361111110000005, 8.951111111, 7.433, -5.783711111000001, -27.133329999999997, -13.52222, -13.11666667, -9.592772543999999, -9.33333, -8.1, -12.25, -12.05139, -7.75, -14.725829999999998, -16.4, -10.89166667, 17.575, 10.16666667, 8.953333333, 14.59, 16.933889999999998, 6.717169444, 50.06138889, 52.26639, 50.03888889, 49.97916667, 50.71667, 53.01, 54.04166667, 49.86666667, 49.75, 51.05427778, 51.10694722, 50.44269722, 50.96797222, 38.655, 38.69194, 39.657779999999995, 39.60472, 38.57306, 39.55, 38.78333, 41.14166667, 32.76666667, 41.443731, 41.10166667, 38.51344444, 38.88061944, 40.20781111, 38.93716667, 41.55494444, 25.97805556, 35.78333333, 35.8, 37.55, 37.55, 37.272220000000004, 35.78889, 34.96667, 33.46888889, 37.19722222, 36.53916667, 37.47888889, 36.46194444, 36.72729722, 36.54194444, 45.08333, 46.13583333, 45.18333333, 47.77833333, 46.21777778, 47.82083333, 45.62305556, 59.95, 62.07138889, 55.745830000000005, 58.53333000000001, 65.08333333, 56.15, 55.655559999999994, 56.31035, 63.62583333, 53.17361111, 56.33333333, 46.68333333, 50.46666667, 44.0, 55.79111111, 54.97888889, 59.95, 71.18888889, 42.05297222, 55.72611111, 57.65278000000001, 69.04694444, 60.66666667, 57.80719444, 55.77027778, 17.34694, 13.80708333, 43.93277778, 26.78361111, 24.73413333, 21.48388889, 28.01055556, 25.40216667, 16.5, 14.66722, 13.06667, 16.02778, 13.83527778, 12.59333333, 43.11889, 43.48611, 42.66111111, 43.89930556, -9.416666667000001, -4.3291699999999995, 1.315277778, 48.46111, 48.99944444, 49.03916667, 49.29277778, 49.33611111, 45.66667, -11.68333, -27.838890000000003, -24.15861, -33.8, -34.36111111, -22.1925, -26.86, -28.6, -25.68761111, -25.97388889, 43.38252778, 40.94847222, 43.36262, 37.87919444, 37.17667, 42.34073333, 40.58175, 41.41338, 42.880759999999995, 40.65645, 40.34389, 39.86688889, 28.12625, 40.96525, 37.38384, 39.47444, 38.91113889, 41.380829999999996, 38.011309999999995, 38.916109999999996, 39.45285, 43.335, 36.9477, 40.07662, 39.47441667, 42.469390000000004, 41.38778, 42.32586, 39.78995, 41.11472222, 40.48138889, 28.47788889, 38.26666667, 43.011109999999995, 42.50472222, 42.37138889, 40.03645, 43.323175, 28.27138889, 43.38583333, 39.73083333, 37.025, 37.88588889, 28.04438889, 8.333333332999999, 7.915833332999999, 7.95, 6.416666667, 7.293611111000001, 6.021388889, 7.856666667000001, 7.45245, 19.73611111, 18.537, 16.93333333, 5.82611, 4.0, 59.33514, 59.96666999999999, 58.70111, 59.27556, 59.32306, 57.64167, 65.64611, 67.33333, 56.166669999999996, 56.325, 60.60471999999999, 57.1, 61.70722222, 46.94806, 47.42333, 46.62945, 46.19314, 46.5, 46.91666667, 46.49194444, 47.10388889, 33.511390000000006, 36.19916667, 32.51806, 34.55417, 34.78166667, 36.33416667, 39.50777778, 38.765, 17.00722, 17.54861, 14.347779999999998, 14.33, 15.333329999999998, 10.06666667, 37.16361, 36.81667, 36.852779999999996, 35.29639, 36.94639, 35.82778, 35.681670000000004, 36.42361, 41.00847, 38.66667, 39.371271, 40.01389, 38.036609999999996, 36.335, 37.92389, 41.26, 39.95644, 37.92916667, 41.67777778, 37.66666667, 40.18473056, 39.12583333, 37.9031, 40.5, 37.70833333, 37.22324194, 37.700829999999996, 42.18318, 37.99972222, -1.080555556, 0.223611111, 0.34861111100000003, 50.45258, 49.84163, 48.29666667, 44.61083333, 24.06777778, 55.25, 54.77472222, 52.62638889, 54.11611111, 51.17888889, 53.13972222, 57.81722222, 54.47661111, 51.84194444, 51.49972222, 51.38138889, 55.66333333, -24.36666667, 51.50805556, 51.28, 58.99605556, 55.95, -40.32472222, 51.48116667, 32.37944444, 51.77638889, 53.83916667, 50.70555556, 53.02888889, 51.48194444, 53.40666667, 50.13611111, 52.97027778, 56.00111111, 36.12266944, 53.23391667, -3.18722, -8.95778, -2.33333, -6.16306, -9.0, -3.0666700000000002, -4.7244444439999995, 37.26166667, 44.46056, 36.10083333, 25.55444444, 39.94861111, 41.37388889, 37.18722222, 47.74833333, 38.65861111, 35.59305556, 18.46666667, 40.68944444, 37.74611111, 36.06377778, 19.40083333, 38.03277778, 36.43889, 32.16666667, 25.34907, 32.63694444, 29.32805556, 39.90557083, -34.46777778, -33.11777778, 41.37833, 39.77472, 39.66861, 39.05, -17.62806944, 11.4, 5.33333, 10.490730000000001, 20.9, 16.46944, 15.88333333, 15.51666667, 17.53722222, 21.03944444, 20.07805556, 20.25666667, 15.92694, 15.35555556, 14.19533333, 12.5, -15.81944444, -20.5, -20.28333333, -20.15833333, 49.00972222, 41.06925, -18.25, -28.54333333, 47.27833333, 47.71927778, 59.05777778, 52.7275, 50.174440000000004, 46.46841389, 11.88416667, 43.09221389, 2.609444444, 61.19758333, 48.99605556, 34.30444444, 9.407083333, 7.60318, 45.70333333, 50.40652778, 53.52861111, 63.3, 42.68542, 13.69111111, 51.57930556, 54.99261111, 41.89022222, 48.47573, 45.88888889, 46.49833333, 0.0, -29.76527778, 55.27458000000001, 49.53388889, 40.6975, 50.275, 49.93022222, 38.77527778, -17.924529999999997], \"legendgroup\": \"\", \"lon\": [67.82525, 64.51588889, 20.13333333, 20.02611111, 4.78684, 9.0, 3.68333, 5.736669999999999, 2.383333333, 6.468861111, 3.06028, 1.5955555559999999, 14.24972222, -61.76166667, -73.24944, -54.13333333, -70.66666667, -64.0, -68.0, -64.19111, -65.34886111, -71.8728, 44.71028, 44.79667, 44.29514, 132.8333333, 147.7, 151.21527780000002, 143.0, 145.41666669999998, 159.08833330000002, 150.05, 131.0, 144.9666667, 73.5, 113.4361111, 158.8955556, 153.1333333, 138.7166667, 150.0, 128.5, 144.97027780000002, 150.99444440000002, 113.8102778, 141.8852778, 13.04333333, 15.82797222, 16.31333333, 13.64638889, 15.39166667, 15.43416667, 16.38333333, 49.83333333, 49.375, 47.1875, 50.52722222, 50.61351, 50.51277778, 89.8, 88.98333333, 89.18333, -59.61388889, 26.47272222, 26.691390000000002, 4.47375, 4.13722, 4.3524199999999995, 3.22527, 4.36223, 3.97879, 3.3892599999999997, 4.39778, 4.416111111, 3.838333333, -87.05833333, 1.983333333, -65.75305999999999, -60.5, -65.25917, -68.67778, -63.81666667, -60.86666999999999, 17.81092, 19.288025, 21.73333333, 22.9, -43.50555556, -34.845, -38.5, -43.85777778, -54.433330000000005, -47.9, -42.33333333, -44.3025, -43.6, -39.25, -48.0, -50.133359999999996, -62.00833333, -57.38333000000001, -32.42511111, -47.68461111, -43.29138889, -37.21, -44.68536944, -43.97361111, -43.18739444, 23.26666667, 27.15, 25.4, 25.96666667, 23.4, 27.73, 27.078059999999997, 23.43047222, 26.66667, -3.583333333, -3.3289861110000003, -23.60519444, 103.83333329999999, 104.68388890000001, 105.04305559999999, 13.0, -55.61666667, -125.58944440000002, -111.4922222, -131.2202778, -113.6238889, -112.29333329999999, -71.21055556, -116.47972220000001, -57.53138889, -66.35305556, -64.30916667, -75.765125, -64.43583333, -64.30722222, -56.42952222, -95.41127778, -53.21111111, -111.63333329999999, 21.5, 20.50555556, 21.86277778, -109.45, -71.628, -73.76666667, -69.79406, -70.38277778, 117.1, 116.08333, 123.4469444, 94.81667, 109.1, 115.91666670000001, 118.18333, 103.91667, 103.82222, 110.5, 117.93833000000001, 116.975, 111.0, 91.11717, 115.86666670000001, 103.76925, 100.23333000000001, 112.15444, 120.45, 116.1411111, 116.4447222, 117.68333, 105.705, 103.60528000000001, 117.9875, 112.46666670000002, 124.7938889, 113.12222, 98.40638889, 113.5364611, 102.7799806, 112.5658611, 117.68583329999998, 114.3138889, 126.18722220000001, 103.0, 110.35444440000002, 113.56333329999998, 118.06444440000001, 113.06771940000002, 120.14083329999998, 106.0425, 102.9772222, 116.18512779999999, 80.35416667, 112.46833329999998, 109.96694440000002, 107.02305559999999, 110.2438889, 92.43916667, 118.06194440000002, 108.68, 119.99083329999999, 121.0168139, -75.53333333, -77.0, -74.43333333, -76.03333333, -76.23333333, -75.68166667, -72.79722222, -81.61666667, -87.06666667, -85.61666667, -83.4775, -7.66667, -4.0, 3.7363888889999997, 18.09139, 16.44333, 15.61444, 13.594439999999999, 16.25167, 15.890379999999999, 16.63861111, -82.35, -79.98444444, -75.0, -83.71667, -75.87083333, -77.63333, -75.39138889, -80.45278, -77.91861111, 32.405559999999994, 33.09583333, 33.34333, 14.41944, 14.31666667, 15.45, 15.94205833, 15.26666667, 16.775, 17.25045833, 17.37722222, 14.25277778, 16.31444, 16.61605556, 15.87888889, 15.48425833, 125.415, 126.50805559999999, 29.16666667, 29.25, 28.75, 21.0, 28.5, 12.07972222, 12.62083333, 9.42, -49.5, 12.42333333, 9.481388889, 12.35777778, -45.59805556, -51.43320556, -61.28333333, -69.91666667, -91.0, -78.5, -78.33333, -78.98333333, 31.130409999999998, 32.6, 31.62580556, 31.26111, 29.66666667, 33.975429999999996, 30.183329999999998, -89.36916667, 38.93583333, 24.73333333, 38.06666667, 40.579390000000004, 38.6121, 38.71861, 35.96666667, 39.040420000000005, 37.46617, 42.13777778, 37.4, 178.8345333, 21.7775, 21.511670000000002, 24.98722, 25.183329999999998, 26.640829999999998, -1.5105600000000001, 1.487222222, 2.119444444, 3.748333333, 1.17, 2.6980555560000004, 2.3016666669999997, 4.8084166669999995, 4.6306944439999995, 4.38911, 5.876388888999999, 4.806111111, 6.183333332999999, 0.86611, 8.628833333, 4.535277778, 2.358888889, 7.748888889, 2.294166667, 4.032777778, 2.398333333, 1.416388889, 0.722944444, 4.83333, 3.2988888889999997, -0.155277778, 0.7027800000000001, 164.5663889, 3.4730555560000003, 0.1075, -0.5722222220000001, 6.026944444, 55.48, 2.1425, 3.546111111, 4.864444444, 4.416111111, 2.965111111, 3.9461111110000004, -151.3723778, 69.35280556, 11.5, -16.35719444, 44.716390000000004, 43.011390000000006, 42.76833333, 6.084444444, 8.443055556000001, 9.938889999999999, 9.94389, 10.90013889, 10.69167, 6.909777778, 6.957222222, 6.6333333329999995, 8.56858, 13.03333333, 12.42083, 11.15, 8.81306, 10.34, 10.88888889, 6.85, 8.75389, 11.3295, 12.65278, 11.328610000000001, 13.39861111, 10.307, 9.061305556, 7.046111111, 7.694166667, 13.08527778, 8.807472222000001, 12.09916667, 13.45, 9.811111111, 11.57861111, 9.393055556, 9.41025, 9.999444444, 11.804, 9.765555556, 9.454111111, 10.902000000000001, -0.49361000000000005, -1.625833333, 21.89694, 22.496170000000003, 23.72618, 24.21667, 21.633329999999997, 22.965, 23.11666667, 28.22778, 22.366670000000003, 21.66666667, 25.26667, 22.75, 26.94333, 22.31833, 22.75, 26.55, 19.9275, 24.28527778, -89.61666667, -90.66666667, -89.04025, -72.24417, 12.457360000000001, -89.13333, -84.675, 19.07067, 19.52917, 21.156779999999998, 17.78444, 18.22778, 21.35, -21.03725, -20.60222222, -16.88154044, 77.24083333, 77.25056, 77.18528, 73.91167, 75.81667, 79.92222, 76.47166999999999, 75.7, 75.17917, 72.93583000000001, 86.09472, 74.64611111, 80.19167, 79.1325, 78.03333333, 78.04222, 77.66417, 79.66667, 93.41666667, 91.03055556, 77.50861111, 88.89583333, 77.73971999999999, 72.10166667, 77.58333333, 76.93583000000001, 72.83620278, 84.99389000000001, 73.53333333, 75.825, 77.24972222, 77.58333333, 72.83008333, 85.44388889, 88.37722222, 72.58805556, 75.78722222, 110.20361000000001, 110.81666670000001, 105.33333329999999, 119.48943999999999, 110.49167, 137.83333000000002, 101.5, 115.4027778, 100.7378833, 48.53333333, 52.890280000000004, 51.67777778, 47.235, 53.16729, 48.79667, 58.36666667, 47.43666667, 45.47333333, 48.83583333, 48.29138889, 46.29305556, 53.16666667, 51.68527778, 55.169, 51.42051111, 55.37555556, 48.25611111, 61.32777778, 58.83888889, 58.65444444, 54.36916667, 51.57045, 55.72427778, 43.82354306, 42.71833, 44.42083333, 43.26111111, 44.00916667, 47.65777778, -6.45, -10.53861, 35.35275, 35.08388889, 34.78333333, 35.16083, 35.18222, 34.97164889, 34.89555556, 34.96527778, 35.12694444, 9.1705, 10.29733333, 11.256110000000001, 11.30416667, 12.33894444, 10.39638889, 16.27094444, 14.32639, 11.04167, 16.61027778, 11.54944444, 11.33166667, 14.26277778, 9.53833, 11.61944444, 17.23694, 12.19625, 11.67861111, 10.99388889, 7.68572, 11.88066667, 13.3675, 9.72917, 10.92568, 12.63333, 14.48333333, 14.6, 13.59333333, 14.33417, 8.991388889, 15.26666667, 12.77197222, 14.94558333, 12.62244444, 15.06891667, 12.79625, 11.55, 9.169555556, 12.10188889, 15.29306, 8.931111111, 12.16305556, 10.79444444, 13.43305556, 7.9636111110000005, 14.99666667, 13.35305556, 7.869166667000001, 12.22611111, -76.57111111, 135.7333333, 134.7, 130.53333329999998, 140.13, 135.76944440000003, 136.8833333, 132.45, 132.3246389, 135.83944440000002, 139.6105556, 127.6827778, 135.7763889, 144.96583, 132.435, 141.1077778, 142.09972219999997, 138.7275, 138.8877778, 131.4122222, 128.9038889, 130.10555559999997, 135.6094444, 35.21666667, 35.443329999999996, 36.58583, 35.920559999999995, 35.43388889, 35.55277778, 69.18888889, 68.27444444, 75.535, 37.31555556, 36.50366667, 40.8525, 36.24, 39.59611111, 39.67944444, 34.326107, -172.8575, 72.78277778, 102.13333, 105.82222220000001, 103.15222220000001, 24.116670000000003, 35.92972, 36.20494, 35.6475, 35.19444, 36.04889, 14.29306, 12.485, 21.85833, 10.33333, 9.5, 25.29306, 24.83055556, 6.13333, 44.75, 47.56278, 49.7025, 34.88333, 34.27916667, 116.5, 114.91667, 100.3458333, 100.97232779999999, -4.555, -2.999444444, -3.41667, -0.04456, 14.50739, 14.514439999999999, 14.269470000000002, 165.38055559999998, -16.10889, -11.623610000000001, 57.50316667, 57.32833333, -87.79167, -92.05, -99.13278000000001, -98.84167, -96.72166999999999, -98.20833, -101.25556, -88.6, -114.22778000000001, -107.95556, -101.19167, -97.3775, -102.55556, -98.89778000000001, -112.91611, -89.77027778, -100.3666667, -103.33972220000001, -95.65833333, -90.53721999999999, -99.275, -89.73728333, -99.46411111, -99.19833333, -112.54583000000001, -103.77861109999999, -99.18805556, -100.74638890000001, -100.2416667, -102.3791667, -96.42111111, -113.91666670000001, -98.66256667, -110.97527779999999, -97.18715278, 158.33083330000002, 102.83138890000001, 88.39527778, 109.0093278, 19.0166, 18.7, -4.97778, -7.986669999999999, -7.128889999999999, -9.770305556, -5.558330000000001, -5.55694, -5.36667, -8.50194, -6.822777778, 40.73583, 95.81861111, 94.88444444, 14.37258333, 15.40777778, 86.91306, 85.30858, 84.33333, 83.27611, 5.771666667000001, 4.893055556, 4.649444443999999, -68.90222, 5.67889, 4.911111111, 5.147555556, 4.887777778, 4.4183333330000005, 175.56222219999998, 167.3196111, 166.1044444, -86.61028, -86.87805556, 9.0, 7.9913888889999996, 13.57194, 4.552219999999999, 11.38555556, 7.33333, 5.32306, 23.183329999999998, 11.75, 7.16667, 8.593611111, 57.301109999999994, 56.745, 53.64759, 57.53605556, 59.37811111, 68.13888889, 72.8875, 71.94583333, 67.9, 74.30972222, 73.58888889, 134.3525, 35.2075, 35.13055556, 35.10888889, -79.65583333, -77.54722222, -79.54055556, -81.766, 144.33172219999997, -55.7, -71.98333000000001, -72.58333333, -77.1784535, -77.4, -79.08333, -71.75, -77.04306, -77.25, -75.14860999999999, -71.53333333, -77.52138889, 120.3875, 118.91666670000001, 119.8675, 120.97, 121.13667, 126.17343059999999, 19.93722222, 21.011670000000002, 19.175, 20.06388889, 23.26667, 18.61944, 19.03333333, 19.66666667, 21.23333333, 16.19594444, 17.07701389, 18.85122778, 21.50230556, -27.22, -9.21583, -8.826939999999999, -8.4175, -7.907780000000001, -8.97667, -9.41667, -8.616666667, -17.0, -8.292803, -7.798888889, -28.54116667, -7.163322222000001, -8.425775, -9.325527778, -8.377027777999999, 51.02972222, 129.35, 128.1, 126.98333000000001, 126.98333329999998, 127.00833, 129.22666999999998, 126.92917, 126.72027779999999, 128.4527778, 128.5166667, 127.18111110000001, 127.1272222, 128.8434278, 127.83333329999999, 29.5, 24.77305556, 24.01666667, 25.71277778, 24.79222222, 24.05583333, 23.31194444, 30.31833, 35.2275, 37.62972, 31.28333, 35.66666667, 40.41666667, 37.67389, 38.1312, 58.9525, 107.6625, 158.5, 136.6611111, 86.0, 40.0, 49.095, 49.05638889, 38.56666667, -179.71527780000002, 48.29719444, 37.55508333, 39.87611, 94.15805556, 127.0, 28.32855556, 48.65277778, -62.837219999999995, -61.07036111, 12.45194444, 37.955, 46.57246667, 39.1875, 40.91305556, 49.63056944, -16.16667, -17.40083, -12.71667, -16.50444, -16.49861111, -12.84583333, 20.42278, 20.53667, 20.26555556, 22.18611111, 46.41666667, 55.7375, 103.81611109999999, 18.9, 20.7675, 19.27833333, 21.27555556, 19.55833333, 14.0, 160.33333000000002, 32.55, 29.176940000000002, 18.36666667, 18.475, 29.23889, 27.26, 17.20388889, 20.37458333, 31.01388889, -4.116166667, -4.11675, -5.843030000000001, -4.779722222, -3.59444, -3.7040111110000002, -4.126416667, 2.152972, -8.54468, -4.70012, -1.10722, -4.029416667, -17.23722222, -5.6645, -5.99155, -6.37, 1.435194444, 1.0825, -3.3712199999999997, -6.33778, -5.3275, -6.414722222000001, -6.358861, -2.13174, -0.378444444, -6.77075, 2.175, -2.86496, -1.03331, 1.259305556, -3.3680555560000003, -16.31177778, -0.716666667, -7.55333, 0.8036111109999999, -3.547222222, -3.60934, -3.016833333, -16.64361111, -8.406388889, 2.694722222, -4.544444444, -4.867694444, -15.66119444, 80.38333333, 81.00055556, 80.75, 80.5, 80.64027778, 80.21861111, 80.64916667, 80.8021, 37.44305556, 31.82802778, 33.71666667, -55.15, -56.5, 17.54264, 16.008329999999997, 11.34111, 18.099439999999998, 17.883329999999997, 18.29583, 22.02861, 17.58333, 15.583329999999998, 16.48333, 15.63083, 12.38333333, 16.19583333, 7.45028, 9.37778, 10.44765, 9.02242, 8.033333333, 9.25, 6.746111111, 6.832777778, 36.30639, 37.16277778, 36.48167, 38.26667, 36.26305556, 36.84416667, 67.46027778, 72.30527778, 99.78971999999999, 103.35833000000001, 100.56056, 102.05, 98.91667, 1.133333333, 9.674719999999999, 10.16667, 10.32333, 10.70694, 11.099169999999999, 10.63861, 10.10389, 9.22028, 28.97993, 34.85, 38.121826, 34.62056, 38.763690000000004, 29.32028, 29.12333, 32.68972, 26.239, 27.35944444, 26.55944444, 32.82805556, 29.06233611, 27.18, 40.23930833, 43.56666667, 28.72361111, 38.92236389, 62.1775, 59.08494, 58.19861111, 29.66138889, 29.92416667, 32.55138889, 30.516859999999998, 24.031979999999997, 25.92472222, 33.49138889, 55.80638889, -6.4852777779999995, -1.576111111, -2.472777778, -1.573055556, -1.825277778, -4.276944444, -8.576666667000001, -3.082416667, -1.361388889, -0.128611111, -2.358611111, -3.7830555560000003, -128.3333333, -0.076111111, 1.083333333, -3.1886666669999997, -3.2166666669999997, -9.928611111, -0.003777778, -64.67777778, -3.088055556, -1.7883333330000002, -2.989888889, -1.488055556, -0.294027778, -2.994444444, -5.3836111110000004, -3.087777778, -3.388888889, -5.3420611110000005, -2.303861111, 35.54083, 39.52278, 34.56667, 39.189170000000004, 37.4, 37.36667, 35.83388889, -108.48555559999998, -110.82778, -112.09055559999999, -80.99638889, -75.15, -123.99805559999999, -86.10305556, -123.4488889, -90.06138889, -83.43555556, -66.125, -74.04472222, -119.59666670000001, -107.97083329999998, -155.1236111, -78.50388889, -105.54167, -104.3833333, -170.14582, -91.40638889, -98.46, -79.46647556, -57.85333333, -58.33166667, 60.363890000000005, 64.42860999999999, 67.0, 66.83333, 168.1777194, -69.68333333, -61.5, -66.89068, 107.1, 107.57778, 108.33333329999999, 108.56666670000001, 106.15125, 105.83722220000001, 105.60472220000001, 105.89638889999999, 48.626670000000004, 44.20805556, 43.31552778, 53.83333333, 29.40805556, 28.5, 30.93333333, 28.37666667, 22.33888889, 20.64605556, -69.59166667, -54.26583333, 8.2075, 16.72272222, 26.33777778, 23.98111111, 3.23139, 6.829336111, 2.4877777780000003, 17.92405278, 16.55416667, -140.9919722, -113.90416670000002, 108.85722220000001, -82.93880556, -8.39097, 9.663611111, 12.83734444, 8.556111111, 21.3, -0.0005, -15.5225, 14.72644444, -2.6010000000000004, 12.49230556, 20.48687, 8.913888888999999, 9.846388889, 0.0, 29.12305556, 20.96239, 21.03222222, -6.661111111, 92.71972222, 115.42544440000002, -4.838888889, 25.85539], \"marker\": {\"color\": \"blue\"}, \"mode\": \"markers\", \"name\": \"\", \"showlegend\": false, \"subplot\": \"mapbox\", \"type\": \"scattermapbox\"}],                        {\"height\": 1000, \"legend\": {\"tracegroupgap\": 0}, \"mapbox\": {\"center\": {\"lat\": 45.5, \"lon\": 11.5}, \"domain\": {\"x\": [0.0, 1.0], \"y\": [0.0, 1.0]}, \"layers\": [{\"below\": \"traces\", \"source\": [\"https://sampleserver6.arcgisonline.com/arcgis/rest/services/World_Street_Map/MapServer/tile/{z}/{y}/{x}\"], \"sourceattribution\": \"SampleServer6\", \"sourcetype\": \"raster\"}], \"style\": \"white-bg\", \"zoom\": 7}, \"margin\": {\"t\": 60}, \"template\": {\"data\": {\"bar\": [{\"error_x\": {\"color\": \"#2a3f5f\"}, \"error_y\": {\"color\": \"#2a3f5f\"}, \"marker\": {\"line\": {\"color\": \"#E5ECF6\", \"width\": 0.5}}, \"type\": \"bar\"}], \"barpolar\": [{\"marker\": {\"line\": {\"color\": \"#E5ECF6\", \"width\": 0.5}}, \"type\": \"barpolar\"}], \"carpet\": [{\"aaxis\": {\"endlinecolor\": \"#2a3f5f\", \"gridcolor\": \"white\", \"linecolor\": \"white\", \"minorgridcolor\": \"white\", \"startlinecolor\": \"#2a3f5f\"}, \"baxis\": {\"endlinecolor\": \"#2a3f5f\", \"gridcolor\": \"white\", \"linecolor\": \"white\", \"minorgridcolor\": \"white\", \"startlinecolor\": \"#2a3f5f\"}, \"type\": \"carpet\"}], \"choropleth\": [{\"colorbar\": {\"outlinewidth\": 0, \"ticks\": \"\"}, \"type\": \"choropleth\"}], \"contour\": [{\"colorbar\": {\"outlinewidth\": 0, \"ticks\": \"\"}, \"colorscale\": [[0.0, \"#0d0887\"], [0.1111111111111111, \"#46039f\"], [0.2222222222222222, \"#7201a8\"], [0.3333333333333333, \"#9c179e\"], [0.4444444444444444, \"#bd3786\"], [0.5555555555555556, \"#d8576b\"], [0.6666666666666666, \"#ed7953\"], [0.7777777777777778, \"#fb9f3a\"], [0.8888888888888888, \"#fdca26\"], [1.0, \"#f0f921\"]], \"type\": \"contour\"}], \"contourcarpet\": [{\"colorbar\": {\"outlinewidth\": 0, \"ticks\": \"\"}, \"type\": \"contourcarpet\"}], \"heatmap\": [{\"colorbar\": {\"outlinewidth\": 0, \"ticks\": \"\"}, \"colorscale\": [[0.0, \"#0d0887\"], [0.1111111111111111, \"#46039f\"], [0.2222222222222222, \"#7201a8\"], [0.3333333333333333, \"#9c179e\"], [0.4444444444444444, \"#bd3786\"], [0.5555555555555556, \"#d8576b\"], [0.6666666666666666, \"#ed7953\"], [0.7777777777777778, \"#fb9f3a\"], [0.8888888888888888, \"#fdca26\"], [1.0, \"#f0f921\"]], \"type\": \"heatmap\"}], \"heatmapgl\": [{\"colorbar\": {\"outlinewidth\": 0, \"ticks\": \"\"}, \"colorscale\": [[0.0, \"#0d0887\"], [0.1111111111111111, \"#46039f\"], [0.2222222222222222, \"#7201a8\"], [0.3333333333333333, \"#9c179e\"], [0.4444444444444444, \"#bd3786\"], [0.5555555555555556, \"#d8576b\"], [0.6666666666666666, \"#ed7953\"], [0.7777777777777778, \"#fb9f3a\"], [0.8888888888888888, \"#fdca26\"], [1.0, \"#f0f921\"]], \"type\": \"heatmapgl\"}], \"histogram\": [{\"marker\": {\"colorbar\": {\"outlinewidth\": 0, \"ticks\": \"\"}}, \"type\": \"histogram\"}], \"histogram2d\": [{\"colorbar\": {\"outlinewidth\": 0, \"ticks\": \"\"}, \"colorscale\": [[0.0, \"#0d0887\"], [0.1111111111111111, \"#46039f\"], [0.2222222222222222, \"#7201a8\"], [0.3333333333333333, \"#9c179e\"], [0.4444444444444444, \"#bd3786\"], [0.5555555555555556, \"#d8576b\"], [0.6666666666666666, \"#ed7953\"], [0.7777777777777778, \"#fb9f3a\"], [0.8888888888888888, \"#fdca26\"], [1.0, \"#f0f921\"]], \"type\": \"histogram2d\"}], \"histogram2dcontour\": [{\"colorbar\": {\"outlinewidth\": 0, \"ticks\": \"\"}, \"colorscale\": [[0.0, \"#0d0887\"], [0.1111111111111111, \"#46039f\"], [0.2222222222222222, \"#7201a8\"], [0.3333333333333333, \"#9c179e\"], [0.4444444444444444, \"#bd3786\"], [0.5555555555555556, \"#d8576b\"], [0.6666666666666666, \"#ed7953\"], [0.7777777777777778, \"#fb9f3a\"], [0.8888888888888888, \"#fdca26\"], [1.0, \"#f0f921\"]], \"type\": \"histogram2dcontour\"}], \"mesh3d\": [{\"colorbar\": {\"outlinewidth\": 0, \"ticks\": \"\"}, \"type\": \"mesh3d\"}], \"parcoords\": [{\"line\": {\"colorbar\": {\"outlinewidth\": 0, \"ticks\": \"\"}}, \"type\": \"parcoords\"}], \"pie\": [{\"automargin\": true, \"type\": \"pie\"}], \"scatter\": [{\"marker\": {\"colorbar\": {\"outlinewidth\": 0, \"ticks\": \"\"}}, \"type\": \"scatter\"}], \"scatter3d\": [{\"line\": {\"colorbar\": {\"outlinewidth\": 0, \"ticks\": \"\"}}, \"marker\": {\"colorbar\": {\"outlinewidth\": 0, \"ticks\": \"\"}}, \"type\": \"scatter3d\"}], \"scattercarpet\": [{\"marker\": {\"colorbar\": {\"outlinewidth\": 0, \"ticks\": \"\"}}, \"type\": \"scattercarpet\"}], \"scattergeo\": [{\"marker\": {\"colorbar\": {\"outlinewidth\": 0, \"ticks\": \"\"}}, \"type\": \"scattergeo\"}], \"scattergl\": [{\"marker\": {\"colorbar\": {\"outlinewidth\": 0, \"ticks\": \"\"}}, \"type\": \"scattergl\"}], \"scattermapbox\": [{\"marker\": {\"colorbar\": {\"outlinewidth\": 0, \"ticks\": \"\"}}, \"type\": \"scattermapbox\"}], \"scatterpolar\": [{\"marker\": {\"colorbar\": {\"outlinewidth\": 0, \"ticks\": \"\"}}, \"type\": \"scatterpolar\"}], \"scatterpolargl\": [{\"marker\": {\"colorbar\": {\"outlinewidth\": 0, \"ticks\": \"\"}}, \"type\": \"scatterpolargl\"}], \"scatterternary\": [{\"marker\": {\"colorbar\": {\"outlinewidth\": 0, \"ticks\": \"\"}}, \"type\": \"scatterternary\"}], \"surface\": [{\"colorbar\": {\"outlinewidth\": 0, \"ticks\": \"\"}, \"colorscale\": [[0.0, \"#0d0887\"], [0.1111111111111111, \"#46039f\"], [0.2222222222222222, \"#7201a8\"], [0.3333333333333333, \"#9c179e\"], [0.4444444444444444, \"#bd3786\"], [0.5555555555555556, \"#d8576b\"], [0.6666666666666666, \"#ed7953\"], [0.7777777777777778, \"#fb9f3a\"], [0.8888888888888888, \"#fdca26\"], [1.0, \"#f0f921\"]], \"type\": \"surface\"}], \"table\": [{\"cells\": {\"fill\": {\"color\": \"#EBF0F8\"}, \"line\": {\"color\": \"white\"}}, \"header\": {\"fill\": {\"color\": \"#C8D4E3\"}, \"line\": {\"color\": \"white\"}}, \"type\": \"table\"}]}, \"layout\": {\"annotationdefaults\": {\"arrowcolor\": \"#2a3f5f\", \"arrowhead\": 0, \"arrowwidth\": 1}, \"autotypenumbers\": \"strict\", \"coloraxis\": {\"colorbar\": {\"outlinewidth\": 0, \"ticks\": \"\"}}, \"colorscale\": {\"diverging\": [[0, \"#8e0152\"], [0.1, \"#c51b7d\"], [0.2, \"#de77ae\"], [0.3, \"#f1b6da\"], [0.4, \"#fde0ef\"], [0.5, \"#f7f7f7\"], [0.6, \"#e6f5d0\"], [0.7, \"#b8e186\"], [0.8, \"#7fbc41\"], [0.9, \"#4d9221\"], [1, \"#276419\"]], \"sequential\": [[0.0, \"#0d0887\"], [0.1111111111111111, \"#46039f\"], [0.2222222222222222, \"#7201a8\"], [0.3333333333333333, \"#9c179e\"], [0.4444444444444444, \"#bd3786\"], [0.5555555555555556, \"#d8576b\"], [0.6666666666666666, \"#ed7953\"], [0.7777777777777778, \"#fb9f3a\"], [0.8888888888888888, \"#fdca26\"], [1.0, \"#f0f921\"]], \"sequentialminus\": [[0.0, \"#0d0887\"], [0.1111111111111111, \"#46039f\"], [0.2222222222222222, \"#7201a8\"], [0.3333333333333333, \"#9c179e\"], [0.4444444444444444, \"#bd3786\"], [0.5555555555555556, \"#d8576b\"], [0.6666666666666666, \"#ed7953\"], [0.7777777777777778, \"#fb9f3a\"], [0.8888888888888888, \"#fdca26\"], [1.0, \"#f0f921\"]]}, \"colorway\": [\"#636efa\", \"#EF553B\", \"#00cc96\", \"#ab63fa\", \"#FFA15A\", \"#19d3f3\", \"#FF6692\", \"#B6E880\", \"#FF97FF\", \"#FECB52\"], \"font\": {\"color\": \"#2a3f5f\"}, \"geo\": {\"bgcolor\": \"white\", \"lakecolor\": \"white\", \"landcolor\": \"#E5ECF6\", \"showlakes\": true, \"showland\": true, \"subunitcolor\": \"white\"}, \"hoverlabel\": {\"align\": \"left\"}, \"hovermode\": \"closest\", \"mapbox\": {\"style\": \"light\"}, \"paper_bgcolor\": \"white\", \"plot_bgcolor\": \"#E5ECF6\", \"polar\": {\"angularaxis\": {\"gridcolor\": \"white\", \"linecolor\": \"white\", \"ticks\": \"\"}, \"bgcolor\": \"#E5ECF6\", \"radialaxis\": {\"gridcolor\": \"white\", \"linecolor\": \"white\", \"ticks\": \"\"}}, \"scene\": {\"xaxis\": {\"backgroundcolor\": \"#E5ECF6\", \"gridcolor\": \"white\", \"gridwidth\": 2, \"linecolor\": \"white\", \"showbackground\": true, \"ticks\": \"\", \"zerolinecolor\": \"white\"}, \"yaxis\": {\"backgroundcolor\": \"#E5ECF6\", \"gridcolor\": \"white\", \"gridwidth\": 2, \"linecolor\": \"white\", \"showbackground\": true, \"ticks\": \"\", \"zerolinecolor\": \"white\"}, \"zaxis\": {\"backgroundcolor\": \"#E5ECF6\", \"gridcolor\": \"white\", \"gridwidth\": 2, \"linecolor\": \"white\", \"showbackground\": true, \"ticks\": \"\", \"zerolinecolor\": \"white\"}}, \"shapedefaults\": {\"line\": {\"color\": \"#2a3f5f\"}}, \"ternary\": {\"aaxis\": {\"gridcolor\": \"white\", \"linecolor\": \"white\", \"ticks\": \"\"}, \"baxis\": {\"gridcolor\": \"white\", \"linecolor\": \"white\", \"ticks\": \"\"}, \"bgcolor\": \"#E5ECF6\", \"caxis\": {\"gridcolor\": \"white\", \"linecolor\": \"white\", \"ticks\": \"\"}}, \"title\": {\"x\": 0.05}, \"xaxis\": {\"automargin\": true, \"gridcolor\": \"white\", \"linecolor\": \"white\", \"ticks\": \"\", \"title\": {\"standoff\": 15}, \"zerolinecolor\": \"white\", \"zerolinewidth\": 2}, \"yaxis\": {\"automargin\": true, \"gridcolor\": \"white\", \"linecolor\": \"white\", \"ticks\": \"\", \"title\": {\"standoff\": 15}, \"zerolinecolor\": \"white\", \"zerolinewidth\": 2}}}},                        {\"responsive\": true}                    ).then(function(){\n",
       "                            \n",
       "var gd = document.getElementById('3f3b4779-db49-4c1f-af0c-5ac6705e0e7f');\n",
       "var x = new MutationObserver(function (mutations, observer) {{\n",
       "        var display = window.getComputedStyle(gd).display;\n",
       "        if (!display || display === 'none') {{\n",
       "            console.log([gd, 'removed!']);\n",
       "            Plotly.purge(gd);\n",
       "            observer.disconnect();\n",
       "        }}\n",
       "}});\n",
       "\n",
       "// Listen for the removal of the full notebook cells\n",
       "var notebookContainer = gd.closest('#notebook-container');\n",
       "if (notebookContainer) {{\n",
       "    x.observe(notebookContainer, {childList: true});\n",
       "}}\n",
       "\n",
       "// Listen for the clearing of the current output cell\n",
       "var outputEl = gd.closest('.output');\n",
       "if (outputEl) {{\n",
       "    x.observe(outputEl, {childList: true});\n",
       "}}\n",
       "\n",
       "                        })                };                });            </script>        </div>"
      ]
     },
     "metadata": {},
     "output_type": "display_data"
    }
   ],
   "source": [
    "# To use custom base layers, use set `layout.mapbox.style` to `white-bg` and use layout.mapbox.layers` to specify\n",
    "fig.update_layout(\n",
    "    mapbox_style=\"white-bg\",\n",
    "    mapbox_layers=[\n",
    "        {\n",
    "            \"below\": 'traces', # various traces in data default render above base map with this attr \n",
    "            \"sourcetype\": \"raster\",\n",
    "            \"sourceattribution\": \"SampleServer6\",\n",
    "            \"source\": [\n",
    "                \"https://sampleserver6.arcgisonline.com/arcgis/rest/services/World_Street_Map/MapServer/tile/{z}/{y}/{x}\"\n",
    "                #\"https://basemap.nationalmap.gov/arcgis/rest/services/USGSImageryOnly/MapServer/tile/{z}/{y}/{x}\"\n",
    "            ]\n",
    "        }\n",
    "      ])"
   ]
  }
 ],
 "metadata": {
  "kernelspec": {
   "display_name": "conda_python3",
   "language": "python",
   "name": "conda_python3"
  },
  "language_info": {
   "codemirror_mode": {
    "name": "ipython",
    "version": 3
   },
   "file_extension": ".py",
   "mimetype": "text/x-python",
   "name": "python",
   "nbconvert_exporter": "python",
   "pygments_lexer": "ipython3",
   "version": "3.6.13"
  }
 },
 "nbformat": 4,
 "nbformat_minor": 5
}
